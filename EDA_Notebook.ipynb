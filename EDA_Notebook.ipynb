{
  "cells": [
    {
      "cell_type": "markdown",
      "metadata": {
        "id": "view-in-github",
        "colab_type": "text"
      },
      "source": [
        "<a href=\"https://colab.research.google.com/github/Maqsood8/G2M-Task/blob/main/EDA_Notebook.ipynb\" target=\"_parent\"><img src=\"https://colab.research.google.com/assets/colab-badge.svg\" alt=\"Open In Colab\"/></a>"
      ]
    },
    {
      "cell_type": "code",
      "execution_count": 2,
      "id": "966857ab",
      "metadata": {
        "id": "966857ab"
      },
      "outputs": [],
      "source": [
        "import pandas as pd\n",
        "import numpy as np\n",
        "import seaborn as sns\n",
        "import matplotlib.pyplot as plt\n",
        "from scipy import stats                 "
      ]
    },
    {
      "cell_type": "code",
      "execution_count": 3,
      "id": "6e11a418",
      "metadata": {
        "id": "6e11a418"
      },
      "outputs": [],
      "source": [
        "cab = pd.read_csv('Cab_Data.csv')\n",
        "customer = pd.read_csv('Customer_ID.csv')\n",
        "city = pd.read_csv('City.csv')\n",
        "transaction = pd.read_csv('Transaction_ID.csv')"
      ]
    },
    {
      "cell_type": "code",
      "source": [
        "cab.shape"
      ],
      "metadata": {
        "id": "5l9U0zKIxU1d",
        "colab": {
          "base_uri": "https://localhost:8080/"
        },
        "outputId": "f731916e-8167-429b-98e4-0a2041c23250"
      },
      "id": "5l9U0zKIxU1d",
      "execution_count": 7,
      "outputs": [
        {
          "output_type": "execute_result",
          "data": {
            "text/plain": [
              "(160149, 7)"
            ]
          },
          "metadata": {},
          "execution_count": 7
        }
      ]
    },
    {
      "cell_type": "code",
      "execution_count": 8,
      "id": "d5abb9da",
      "metadata": {
        "id": "d5abb9da",
        "colab": {
          "base_uri": "https://localhost:8080/",
          "height": 206
        },
        "outputId": "eeb89c52-0905-4f66-9a54-9d2071280f70"
      },
      "outputs": [
        {
          "output_type": "execute_result",
          "data": {
            "text/plain": [
              "   Transaction ID  Date of Travel   Company        City  KM Travelled  \\\n",
              "0        10000011           42377  Pink Cab  ATLANTA GA         30.45   \n",
              "1        10000012           42375  Pink Cab  ATLANTA GA         28.62   \n",
              "2        10000013           42371  Pink Cab  ATLANTA GA          9.04   \n",
              "3        10000014           42376  Pink Cab  ATLANTA GA         33.17   \n",
              "4        10000015           42372  Pink Cab  ATLANTA GA          8.73   \n",
              "\n",
              "   Price Charged  Cost of Trip  \n",
              "0         370.95       313.635  \n",
              "1         358.52       334.854  \n",
              "2         125.20        97.632  \n",
              "3         377.40       351.602  \n",
              "4         114.62        97.776  "
            ],
            "text/html": [
              "\n",
              "  <div id=\"df-b19f8d8c-0d73-424d-852c-195fc2e8e6ce\">\n",
              "    <div class=\"colab-df-container\">\n",
              "      <div>\n",
              "<style scoped>\n",
              "    .dataframe tbody tr th:only-of-type {\n",
              "        vertical-align: middle;\n",
              "    }\n",
              "\n",
              "    .dataframe tbody tr th {\n",
              "        vertical-align: top;\n",
              "    }\n",
              "\n",
              "    .dataframe thead th {\n",
              "        text-align: right;\n",
              "    }\n",
              "</style>\n",
              "<table border=\"1\" class=\"dataframe\">\n",
              "  <thead>\n",
              "    <tr style=\"text-align: right;\">\n",
              "      <th></th>\n",
              "      <th>Transaction ID</th>\n",
              "      <th>Date of Travel</th>\n",
              "      <th>Company</th>\n",
              "      <th>City</th>\n",
              "      <th>KM Travelled</th>\n",
              "      <th>Price Charged</th>\n",
              "      <th>Cost of Trip</th>\n",
              "    </tr>\n",
              "  </thead>\n",
              "  <tbody>\n",
              "    <tr>\n",
              "      <th>0</th>\n",
              "      <td>10000011</td>\n",
              "      <td>42377</td>\n",
              "      <td>Pink Cab</td>\n",
              "      <td>ATLANTA GA</td>\n",
              "      <td>30.45</td>\n",
              "      <td>370.95</td>\n",
              "      <td>313.635</td>\n",
              "    </tr>\n",
              "    <tr>\n",
              "      <th>1</th>\n",
              "      <td>10000012</td>\n",
              "      <td>42375</td>\n",
              "      <td>Pink Cab</td>\n",
              "      <td>ATLANTA GA</td>\n",
              "      <td>28.62</td>\n",
              "      <td>358.52</td>\n",
              "      <td>334.854</td>\n",
              "    </tr>\n",
              "    <tr>\n",
              "      <th>2</th>\n",
              "      <td>10000013</td>\n",
              "      <td>42371</td>\n",
              "      <td>Pink Cab</td>\n",
              "      <td>ATLANTA GA</td>\n",
              "      <td>9.04</td>\n",
              "      <td>125.20</td>\n",
              "      <td>97.632</td>\n",
              "    </tr>\n",
              "    <tr>\n",
              "      <th>3</th>\n",
              "      <td>10000014</td>\n",
              "      <td>42376</td>\n",
              "      <td>Pink Cab</td>\n",
              "      <td>ATLANTA GA</td>\n",
              "      <td>33.17</td>\n",
              "      <td>377.40</td>\n",
              "      <td>351.602</td>\n",
              "    </tr>\n",
              "    <tr>\n",
              "      <th>4</th>\n",
              "      <td>10000015</td>\n",
              "      <td>42372</td>\n",
              "      <td>Pink Cab</td>\n",
              "      <td>ATLANTA GA</td>\n",
              "      <td>8.73</td>\n",
              "      <td>114.62</td>\n",
              "      <td>97.776</td>\n",
              "    </tr>\n",
              "  </tbody>\n",
              "</table>\n",
              "</div>\n",
              "      <button class=\"colab-df-convert\" onclick=\"convertToInteractive('df-b19f8d8c-0d73-424d-852c-195fc2e8e6ce')\"\n",
              "              title=\"Convert this dataframe to an interactive table.\"\n",
              "              style=\"display:none;\">\n",
              "        \n",
              "  <svg xmlns=\"http://www.w3.org/2000/svg\" height=\"24px\"viewBox=\"0 0 24 24\"\n",
              "       width=\"24px\">\n",
              "    <path d=\"M0 0h24v24H0V0z\" fill=\"none\"/>\n",
              "    <path d=\"M18.56 5.44l.94 2.06.94-2.06 2.06-.94-2.06-.94-.94-2.06-.94 2.06-2.06.94zm-11 1L8.5 8.5l.94-2.06 2.06-.94-2.06-.94L8.5 2.5l-.94 2.06-2.06.94zm10 10l.94 2.06.94-2.06 2.06-.94-2.06-.94-.94-2.06-.94 2.06-2.06.94z\"/><path d=\"M17.41 7.96l-1.37-1.37c-.4-.4-.92-.59-1.43-.59-.52 0-1.04.2-1.43.59L10.3 9.45l-7.72 7.72c-.78.78-.78 2.05 0 2.83L4 21.41c.39.39.9.59 1.41.59.51 0 1.02-.2 1.41-.59l7.78-7.78 2.81-2.81c.8-.78.8-2.07 0-2.86zM5.41 20L4 18.59l7.72-7.72 1.47 1.35L5.41 20z\"/>\n",
              "  </svg>\n",
              "      </button>\n",
              "      \n",
              "  <style>\n",
              "    .colab-df-container {\n",
              "      display:flex;\n",
              "      flex-wrap:wrap;\n",
              "      gap: 12px;\n",
              "    }\n",
              "\n",
              "    .colab-df-convert {\n",
              "      background-color: #E8F0FE;\n",
              "      border: none;\n",
              "      border-radius: 50%;\n",
              "      cursor: pointer;\n",
              "      display: none;\n",
              "      fill: #1967D2;\n",
              "      height: 32px;\n",
              "      padding: 0 0 0 0;\n",
              "      width: 32px;\n",
              "    }\n",
              "\n",
              "    .colab-df-convert:hover {\n",
              "      background-color: #E2EBFA;\n",
              "      box-shadow: 0px 1px 2px rgba(60, 64, 67, 0.3), 0px 1px 3px 1px rgba(60, 64, 67, 0.15);\n",
              "      fill: #174EA6;\n",
              "    }\n",
              "\n",
              "    [theme=dark] .colab-df-convert {\n",
              "      background-color: #3B4455;\n",
              "      fill: #D2E3FC;\n",
              "    }\n",
              "\n",
              "    [theme=dark] .colab-df-convert:hover {\n",
              "      background-color: #434B5C;\n",
              "      box-shadow: 0px 1px 3px 1px rgba(0, 0, 0, 0.15);\n",
              "      filter: drop-shadow(0px 1px 2px rgba(0, 0, 0, 0.3));\n",
              "      fill: #FFFFFF;\n",
              "    }\n",
              "  </style>\n",
              "\n",
              "      <script>\n",
              "        const buttonEl =\n",
              "          document.querySelector('#df-b19f8d8c-0d73-424d-852c-195fc2e8e6ce button.colab-df-convert');\n",
              "        buttonEl.style.display =\n",
              "          google.colab.kernel.accessAllowed ? 'block' : 'none';\n",
              "\n",
              "        async function convertToInteractive(key) {\n",
              "          const element = document.querySelector('#df-b19f8d8c-0d73-424d-852c-195fc2e8e6ce');\n",
              "          const dataTable =\n",
              "            await google.colab.kernel.invokeFunction('convertToInteractive',\n",
              "                                                     [key], {});\n",
              "          if (!dataTable) return;\n",
              "\n",
              "          const docLinkHtml = 'Like what you see? Visit the ' +\n",
              "            '<a target=\"_blank\" href=https://colab.research.google.com/notebooks/data_table.ipynb>data table notebook</a>'\n",
              "            + ' to learn more about interactive tables.';\n",
              "          element.innerHTML = '';\n",
              "          dataTable['output_type'] = 'display_data';\n",
              "          await google.colab.output.renderOutput(dataTable, element);\n",
              "          const docLink = document.createElement('div');\n",
              "          docLink.innerHTML = docLinkHtml;\n",
              "          element.appendChild(docLink);\n",
              "        }\n",
              "      </script>\n",
              "    </div>\n",
              "  </div>\n",
              "  "
            ]
          },
          "metadata": {},
          "execution_count": 8
        }
      ],
      "source": [
        "cab.head( )  #print(cab.head)"
      ]
    },
    {
      "cell_type": "code",
      "source": [
        "cab.tail()   #print(cab.tail)"
      ],
      "metadata": {
        "id": "r5j4DYTDKcDA",
        "colab": {
          "base_uri": "https://localhost:8080/",
          "height": 206
        },
        "outputId": "3707b131-0205-4b24-97bf-aa1f03dcecfa"
      },
      "id": "r5j4DYTDKcDA",
      "execution_count": 9,
      "outputs": [
        {
          "output_type": "execute_result",
          "data": {
            "text/plain": [
              "        Transaction ID  Date of Travel     Company        City  KM Travelled  \\\n",
              "160144        10197520           42937  Yellow Cab  CHICAGO IL         14.84   \n",
              "160145        10197521           42934  Yellow Cab  CHICAGO IL          3.21   \n",
              "160146        10197522           42932  Yellow Cab  CHICAGO IL         37.44   \n",
              "160147        10197523           42934  Yellow Cab  CHICAGO IL         32.13   \n",
              "160148        10197524           42937  Yellow Cab  CHICAGO IL           NaN   \n",
              "\n",
              "        Price Charged  Cost of Trip  \n",
              "160144         312.29      211.9152  \n",
              "160145          50.39       41.2164  \n",
              "160146         655.81      507.6864  \n",
              "160147         541.98      458.8164  \n",
              "160148            NaN           NaN  "
            ],
            "text/html": [
              "\n",
              "  <div id=\"df-66d2484c-4274-45b5-b0bd-ecf7f9539bc2\">\n",
              "    <div class=\"colab-df-container\">\n",
              "      <div>\n",
              "<style scoped>\n",
              "    .dataframe tbody tr th:only-of-type {\n",
              "        vertical-align: middle;\n",
              "    }\n",
              "\n",
              "    .dataframe tbody tr th {\n",
              "        vertical-align: top;\n",
              "    }\n",
              "\n",
              "    .dataframe thead th {\n",
              "        text-align: right;\n",
              "    }\n",
              "</style>\n",
              "<table border=\"1\" class=\"dataframe\">\n",
              "  <thead>\n",
              "    <tr style=\"text-align: right;\">\n",
              "      <th></th>\n",
              "      <th>Transaction ID</th>\n",
              "      <th>Date of Travel</th>\n",
              "      <th>Company</th>\n",
              "      <th>City</th>\n",
              "      <th>KM Travelled</th>\n",
              "      <th>Price Charged</th>\n",
              "      <th>Cost of Trip</th>\n",
              "    </tr>\n",
              "  </thead>\n",
              "  <tbody>\n",
              "    <tr>\n",
              "      <th>160144</th>\n",
              "      <td>10197520</td>\n",
              "      <td>42937</td>\n",
              "      <td>Yellow Cab</td>\n",
              "      <td>CHICAGO IL</td>\n",
              "      <td>14.84</td>\n",
              "      <td>312.29</td>\n",
              "      <td>211.9152</td>\n",
              "    </tr>\n",
              "    <tr>\n",
              "      <th>160145</th>\n",
              "      <td>10197521</td>\n",
              "      <td>42934</td>\n",
              "      <td>Yellow Cab</td>\n",
              "      <td>CHICAGO IL</td>\n",
              "      <td>3.21</td>\n",
              "      <td>50.39</td>\n",
              "      <td>41.2164</td>\n",
              "    </tr>\n",
              "    <tr>\n",
              "      <th>160146</th>\n",
              "      <td>10197522</td>\n",
              "      <td>42932</td>\n",
              "      <td>Yellow Cab</td>\n",
              "      <td>CHICAGO IL</td>\n",
              "      <td>37.44</td>\n",
              "      <td>655.81</td>\n",
              "      <td>507.6864</td>\n",
              "    </tr>\n",
              "    <tr>\n",
              "      <th>160147</th>\n",
              "      <td>10197523</td>\n",
              "      <td>42934</td>\n",
              "      <td>Yellow Cab</td>\n",
              "      <td>CHICAGO IL</td>\n",
              "      <td>32.13</td>\n",
              "      <td>541.98</td>\n",
              "      <td>458.8164</td>\n",
              "    </tr>\n",
              "    <tr>\n",
              "      <th>160148</th>\n",
              "      <td>10197524</td>\n",
              "      <td>42937</td>\n",
              "      <td>Yellow Cab</td>\n",
              "      <td>CHICAGO IL</td>\n",
              "      <td>NaN</td>\n",
              "      <td>NaN</td>\n",
              "      <td>NaN</td>\n",
              "    </tr>\n",
              "  </tbody>\n",
              "</table>\n",
              "</div>\n",
              "      <button class=\"colab-df-convert\" onclick=\"convertToInteractive('df-66d2484c-4274-45b5-b0bd-ecf7f9539bc2')\"\n",
              "              title=\"Convert this dataframe to an interactive table.\"\n",
              "              style=\"display:none;\">\n",
              "        \n",
              "  <svg xmlns=\"http://www.w3.org/2000/svg\" height=\"24px\"viewBox=\"0 0 24 24\"\n",
              "       width=\"24px\">\n",
              "    <path d=\"M0 0h24v24H0V0z\" fill=\"none\"/>\n",
              "    <path d=\"M18.56 5.44l.94 2.06.94-2.06 2.06-.94-2.06-.94-.94-2.06-.94 2.06-2.06.94zm-11 1L8.5 8.5l.94-2.06 2.06-.94-2.06-.94L8.5 2.5l-.94 2.06-2.06.94zm10 10l.94 2.06.94-2.06 2.06-.94-2.06-.94-.94-2.06-.94 2.06-2.06.94z\"/><path d=\"M17.41 7.96l-1.37-1.37c-.4-.4-.92-.59-1.43-.59-.52 0-1.04.2-1.43.59L10.3 9.45l-7.72 7.72c-.78.78-.78 2.05 0 2.83L4 21.41c.39.39.9.59 1.41.59.51 0 1.02-.2 1.41-.59l7.78-7.78 2.81-2.81c.8-.78.8-2.07 0-2.86zM5.41 20L4 18.59l7.72-7.72 1.47 1.35L5.41 20z\"/>\n",
              "  </svg>\n",
              "      </button>\n",
              "      \n",
              "  <style>\n",
              "    .colab-df-container {\n",
              "      display:flex;\n",
              "      flex-wrap:wrap;\n",
              "      gap: 12px;\n",
              "    }\n",
              "\n",
              "    .colab-df-convert {\n",
              "      background-color: #E8F0FE;\n",
              "      border: none;\n",
              "      border-radius: 50%;\n",
              "      cursor: pointer;\n",
              "      display: none;\n",
              "      fill: #1967D2;\n",
              "      height: 32px;\n",
              "      padding: 0 0 0 0;\n",
              "      width: 32px;\n",
              "    }\n",
              "\n",
              "    .colab-df-convert:hover {\n",
              "      background-color: #E2EBFA;\n",
              "      box-shadow: 0px 1px 2px rgba(60, 64, 67, 0.3), 0px 1px 3px 1px rgba(60, 64, 67, 0.15);\n",
              "      fill: #174EA6;\n",
              "    }\n",
              "\n",
              "    [theme=dark] .colab-df-convert {\n",
              "      background-color: #3B4455;\n",
              "      fill: #D2E3FC;\n",
              "    }\n",
              "\n",
              "    [theme=dark] .colab-df-convert:hover {\n",
              "      background-color: #434B5C;\n",
              "      box-shadow: 0px 1px 3px 1px rgba(0, 0, 0, 0.15);\n",
              "      filter: drop-shadow(0px 1px 2px rgba(0, 0, 0, 0.3));\n",
              "      fill: #FFFFFF;\n",
              "    }\n",
              "  </style>\n",
              "\n",
              "      <script>\n",
              "        const buttonEl =\n",
              "          document.querySelector('#df-66d2484c-4274-45b5-b0bd-ecf7f9539bc2 button.colab-df-convert');\n",
              "        buttonEl.style.display =\n",
              "          google.colab.kernel.accessAllowed ? 'block' : 'none';\n",
              "\n",
              "        async function convertToInteractive(key) {\n",
              "          const element = document.querySelector('#df-66d2484c-4274-45b5-b0bd-ecf7f9539bc2');\n",
              "          const dataTable =\n",
              "            await google.colab.kernel.invokeFunction('convertToInteractive',\n",
              "                                                     [key], {});\n",
              "          if (!dataTable) return;\n",
              "\n",
              "          const docLinkHtml = 'Like what you see? Visit the ' +\n",
              "            '<a target=\"_blank\" href=https://colab.research.google.com/notebooks/data_table.ipynb>data table notebook</a>'\n",
              "            + ' to learn more about interactive tables.';\n",
              "          element.innerHTML = '';\n",
              "          dataTable['output_type'] = 'display_data';\n",
              "          await google.colab.output.renderOutput(dataTable, element);\n",
              "          const docLink = document.createElement('div');\n",
              "          docLink.innerHTML = docLinkHtml;\n",
              "          element.appendChild(docLink);\n",
              "        }\n",
              "      </script>\n",
              "    </div>\n",
              "  </div>\n",
              "  "
            ]
          },
          "metadata": {},
          "execution_count": 9
        }
      ]
    },
    {
      "cell_type": "code",
      "execution_count": 10,
      "id": "ddf3bc94",
      "metadata": {
        "id": "ddf3bc94",
        "colab": {
          "base_uri": "https://localhost:8080/"
        },
        "outputId": "aa6c17b3-1feb-4851-9341-e5c9a3e68519"
      },
      "outputs": [
        {
          "output_type": "stream",
          "name": "stdout",
          "text": [
            "<class 'pandas.core.frame.DataFrame'>\n",
            "RangeIndex: 160149 entries, 0 to 160148\n",
            "Data columns (total 7 columns):\n",
            " #   Column          Non-Null Count   Dtype  \n",
            "---  ------          --------------   -----  \n",
            " 0   Transaction ID  160149 non-null  int64  \n",
            " 1   Date of Travel  160149 non-null  int64  \n",
            " 2   Company         160149 non-null  object \n",
            " 3   City            160149 non-null  object \n",
            " 4   KM Travelled    160148 non-null  float64\n",
            " 5   Price Charged   160148 non-null  float64\n",
            " 6   Cost of Trip    160148 non-null  float64\n",
            "dtypes: float64(3), int64(2), object(2)\n",
            "memory usage: 8.6+ MB\n"
          ]
        }
      ],
      "source": [
        "cab.info()   #cab.dtypes"
      ]
    },
    {
      "cell_type": "code",
      "source": [
        "type(cab)    #print(type(cab))"
      ],
      "metadata": {
        "id": "o_IzbyIqK8ob",
        "colab": {
          "base_uri": "https://localhost:8080/"
        },
        "outputId": "1a946fa0-01bc-479f-822e-2deb41e2e4e5"
      },
      "id": "o_IzbyIqK8ob",
      "execution_count": 11,
      "outputs": [
        {
          "output_type": "execute_result",
          "data": {
            "text/plain": [
              "pandas.core.frame.DataFrame"
            ]
          },
          "metadata": {},
          "execution_count": 11
        }
      ]
    },
    {
      "cell_type": "code",
      "source": [
        "cab           #cab [2:5]                       \n",
        "              #print(cab[2:5])"
      ],
      "metadata": {
        "id": "e1_vGSBWMwtS",
        "colab": {
          "base_uri": "https://localhost:8080/",
          "height": 424
        },
        "outputId": "f41aa574-d8e1-4a65-b92d-142453f9bf97"
      },
      "id": "e1_vGSBWMwtS",
      "execution_count": 12,
      "outputs": [
        {
          "output_type": "execute_result",
          "data": {
            "text/plain": [
              "        Transaction ID  Date of Travel     Company        City  KM Travelled  \\\n",
              "0             10000011           42377    Pink Cab  ATLANTA GA         30.45   \n",
              "1             10000012           42375    Pink Cab  ATLANTA GA         28.62   \n",
              "2             10000013           42371    Pink Cab  ATLANTA GA          9.04   \n",
              "3             10000014           42376    Pink Cab  ATLANTA GA         33.17   \n",
              "4             10000015           42372    Pink Cab  ATLANTA GA          8.73   \n",
              "...                ...             ...         ...         ...           ...   \n",
              "160144        10197520           42937  Yellow Cab  CHICAGO IL         14.84   \n",
              "160145        10197521           42934  Yellow Cab  CHICAGO IL          3.21   \n",
              "160146        10197522           42932  Yellow Cab  CHICAGO IL         37.44   \n",
              "160147        10197523           42934  Yellow Cab  CHICAGO IL         32.13   \n",
              "160148        10197524           42937  Yellow Cab  CHICAGO IL           NaN   \n",
              "\n",
              "        Price Charged  Cost of Trip  \n",
              "0              370.95      313.6350  \n",
              "1              358.52      334.8540  \n",
              "2              125.20       97.6320  \n",
              "3              377.40      351.6020  \n",
              "4              114.62       97.7760  \n",
              "...               ...           ...  \n",
              "160144         312.29      211.9152  \n",
              "160145          50.39       41.2164  \n",
              "160146         655.81      507.6864  \n",
              "160147         541.98      458.8164  \n",
              "160148            NaN           NaN  \n",
              "\n",
              "[160149 rows x 7 columns]"
            ],
            "text/html": [
              "\n",
              "  <div id=\"df-b81e9aa2-328e-4289-87db-b4f6d749d543\">\n",
              "    <div class=\"colab-df-container\">\n",
              "      <div>\n",
              "<style scoped>\n",
              "    .dataframe tbody tr th:only-of-type {\n",
              "        vertical-align: middle;\n",
              "    }\n",
              "\n",
              "    .dataframe tbody tr th {\n",
              "        vertical-align: top;\n",
              "    }\n",
              "\n",
              "    .dataframe thead th {\n",
              "        text-align: right;\n",
              "    }\n",
              "</style>\n",
              "<table border=\"1\" class=\"dataframe\">\n",
              "  <thead>\n",
              "    <tr style=\"text-align: right;\">\n",
              "      <th></th>\n",
              "      <th>Transaction ID</th>\n",
              "      <th>Date of Travel</th>\n",
              "      <th>Company</th>\n",
              "      <th>City</th>\n",
              "      <th>KM Travelled</th>\n",
              "      <th>Price Charged</th>\n",
              "      <th>Cost of Trip</th>\n",
              "    </tr>\n",
              "  </thead>\n",
              "  <tbody>\n",
              "    <tr>\n",
              "      <th>0</th>\n",
              "      <td>10000011</td>\n",
              "      <td>42377</td>\n",
              "      <td>Pink Cab</td>\n",
              "      <td>ATLANTA GA</td>\n",
              "      <td>30.45</td>\n",
              "      <td>370.95</td>\n",
              "      <td>313.6350</td>\n",
              "    </tr>\n",
              "    <tr>\n",
              "      <th>1</th>\n",
              "      <td>10000012</td>\n",
              "      <td>42375</td>\n",
              "      <td>Pink Cab</td>\n",
              "      <td>ATLANTA GA</td>\n",
              "      <td>28.62</td>\n",
              "      <td>358.52</td>\n",
              "      <td>334.8540</td>\n",
              "    </tr>\n",
              "    <tr>\n",
              "      <th>2</th>\n",
              "      <td>10000013</td>\n",
              "      <td>42371</td>\n",
              "      <td>Pink Cab</td>\n",
              "      <td>ATLANTA GA</td>\n",
              "      <td>9.04</td>\n",
              "      <td>125.20</td>\n",
              "      <td>97.6320</td>\n",
              "    </tr>\n",
              "    <tr>\n",
              "      <th>3</th>\n",
              "      <td>10000014</td>\n",
              "      <td>42376</td>\n",
              "      <td>Pink Cab</td>\n",
              "      <td>ATLANTA GA</td>\n",
              "      <td>33.17</td>\n",
              "      <td>377.40</td>\n",
              "      <td>351.6020</td>\n",
              "    </tr>\n",
              "    <tr>\n",
              "      <th>4</th>\n",
              "      <td>10000015</td>\n",
              "      <td>42372</td>\n",
              "      <td>Pink Cab</td>\n",
              "      <td>ATLANTA GA</td>\n",
              "      <td>8.73</td>\n",
              "      <td>114.62</td>\n",
              "      <td>97.7760</td>\n",
              "    </tr>\n",
              "    <tr>\n",
              "      <th>...</th>\n",
              "      <td>...</td>\n",
              "      <td>...</td>\n",
              "      <td>...</td>\n",
              "      <td>...</td>\n",
              "      <td>...</td>\n",
              "      <td>...</td>\n",
              "      <td>...</td>\n",
              "    </tr>\n",
              "    <tr>\n",
              "      <th>160144</th>\n",
              "      <td>10197520</td>\n",
              "      <td>42937</td>\n",
              "      <td>Yellow Cab</td>\n",
              "      <td>CHICAGO IL</td>\n",
              "      <td>14.84</td>\n",
              "      <td>312.29</td>\n",
              "      <td>211.9152</td>\n",
              "    </tr>\n",
              "    <tr>\n",
              "      <th>160145</th>\n",
              "      <td>10197521</td>\n",
              "      <td>42934</td>\n",
              "      <td>Yellow Cab</td>\n",
              "      <td>CHICAGO IL</td>\n",
              "      <td>3.21</td>\n",
              "      <td>50.39</td>\n",
              "      <td>41.2164</td>\n",
              "    </tr>\n",
              "    <tr>\n",
              "      <th>160146</th>\n",
              "      <td>10197522</td>\n",
              "      <td>42932</td>\n",
              "      <td>Yellow Cab</td>\n",
              "      <td>CHICAGO IL</td>\n",
              "      <td>37.44</td>\n",
              "      <td>655.81</td>\n",
              "      <td>507.6864</td>\n",
              "    </tr>\n",
              "    <tr>\n",
              "      <th>160147</th>\n",
              "      <td>10197523</td>\n",
              "      <td>42934</td>\n",
              "      <td>Yellow Cab</td>\n",
              "      <td>CHICAGO IL</td>\n",
              "      <td>32.13</td>\n",
              "      <td>541.98</td>\n",
              "      <td>458.8164</td>\n",
              "    </tr>\n",
              "    <tr>\n",
              "      <th>160148</th>\n",
              "      <td>10197524</td>\n",
              "      <td>42937</td>\n",
              "      <td>Yellow Cab</td>\n",
              "      <td>CHICAGO IL</td>\n",
              "      <td>NaN</td>\n",
              "      <td>NaN</td>\n",
              "      <td>NaN</td>\n",
              "    </tr>\n",
              "  </tbody>\n",
              "</table>\n",
              "<p>160149 rows × 7 columns</p>\n",
              "</div>\n",
              "      <button class=\"colab-df-convert\" onclick=\"convertToInteractive('df-b81e9aa2-328e-4289-87db-b4f6d749d543')\"\n",
              "              title=\"Convert this dataframe to an interactive table.\"\n",
              "              style=\"display:none;\">\n",
              "        \n",
              "  <svg xmlns=\"http://www.w3.org/2000/svg\" height=\"24px\"viewBox=\"0 0 24 24\"\n",
              "       width=\"24px\">\n",
              "    <path d=\"M0 0h24v24H0V0z\" fill=\"none\"/>\n",
              "    <path d=\"M18.56 5.44l.94 2.06.94-2.06 2.06-.94-2.06-.94-.94-2.06-.94 2.06-2.06.94zm-11 1L8.5 8.5l.94-2.06 2.06-.94-2.06-.94L8.5 2.5l-.94 2.06-2.06.94zm10 10l.94 2.06.94-2.06 2.06-.94-2.06-.94-.94-2.06-.94 2.06-2.06.94z\"/><path d=\"M17.41 7.96l-1.37-1.37c-.4-.4-.92-.59-1.43-.59-.52 0-1.04.2-1.43.59L10.3 9.45l-7.72 7.72c-.78.78-.78 2.05 0 2.83L4 21.41c.39.39.9.59 1.41.59.51 0 1.02-.2 1.41-.59l7.78-7.78 2.81-2.81c.8-.78.8-2.07 0-2.86zM5.41 20L4 18.59l7.72-7.72 1.47 1.35L5.41 20z\"/>\n",
              "  </svg>\n",
              "      </button>\n",
              "      \n",
              "  <style>\n",
              "    .colab-df-container {\n",
              "      display:flex;\n",
              "      flex-wrap:wrap;\n",
              "      gap: 12px;\n",
              "    }\n",
              "\n",
              "    .colab-df-convert {\n",
              "      background-color: #E8F0FE;\n",
              "      border: none;\n",
              "      border-radius: 50%;\n",
              "      cursor: pointer;\n",
              "      display: none;\n",
              "      fill: #1967D2;\n",
              "      height: 32px;\n",
              "      padding: 0 0 0 0;\n",
              "      width: 32px;\n",
              "    }\n",
              "\n",
              "    .colab-df-convert:hover {\n",
              "      background-color: #E2EBFA;\n",
              "      box-shadow: 0px 1px 2px rgba(60, 64, 67, 0.3), 0px 1px 3px 1px rgba(60, 64, 67, 0.15);\n",
              "      fill: #174EA6;\n",
              "    }\n",
              "\n",
              "    [theme=dark] .colab-df-convert {\n",
              "      background-color: #3B4455;\n",
              "      fill: #D2E3FC;\n",
              "    }\n",
              "\n",
              "    [theme=dark] .colab-df-convert:hover {\n",
              "      background-color: #434B5C;\n",
              "      box-shadow: 0px 1px 3px 1px rgba(0, 0, 0, 0.15);\n",
              "      filter: drop-shadow(0px 1px 2px rgba(0, 0, 0, 0.3));\n",
              "      fill: #FFFFFF;\n",
              "    }\n",
              "  </style>\n",
              "\n",
              "      <script>\n",
              "        const buttonEl =\n",
              "          document.querySelector('#df-b81e9aa2-328e-4289-87db-b4f6d749d543 button.colab-df-convert');\n",
              "        buttonEl.style.display =\n",
              "          google.colab.kernel.accessAllowed ? 'block' : 'none';\n",
              "\n",
              "        async function convertToInteractive(key) {\n",
              "          const element = document.querySelector('#df-b81e9aa2-328e-4289-87db-b4f6d749d543');\n",
              "          const dataTable =\n",
              "            await google.colab.kernel.invokeFunction('convertToInteractive',\n",
              "                                                     [key], {});\n",
              "          if (!dataTable) return;\n",
              "\n",
              "          const docLinkHtml = 'Like what you see? Visit the ' +\n",
              "            '<a target=\"_blank\" href=https://colab.research.google.com/notebooks/data_table.ipynb>data table notebook</a>'\n",
              "            + ' to learn more about interactive tables.';\n",
              "          element.innerHTML = '';\n",
              "          dataTable['output_type'] = 'display_data';\n",
              "          await google.colab.output.renderOutput(dataTable, element);\n",
              "          const docLink = document.createElement('div');\n",
              "          docLink.innerHTML = docLinkHtml;\n",
              "          element.appendChild(docLink);\n",
              "        }\n",
              "      </script>\n",
              "    </div>\n",
              "  </div>\n",
              "  "
            ]
          },
          "metadata": {},
          "execution_count": 12
        }
      ]
    },
    {
      "cell_type": "code",
      "source": [
        "cab.columns                             "
      ],
      "metadata": {
        "id": "k08PeH7fMMUH",
        "colab": {
          "base_uri": "https://localhost:8080/"
        },
        "outputId": "b9d8e006-af76-46d4-a78f-dc608078a756"
      },
      "id": "k08PeH7fMMUH",
      "execution_count": 13,
      "outputs": [
        {
          "output_type": "execute_result",
          "data": {
            "text/plain": [
              "Index(['Transaction ID', 'Date of Travel', 'Company', 'City', 'KM Travelled',\n",
              "       'Price Charged', 'Cost of Trip'],\n",
              "      dtype='object')"
            ]
          },
          "metadata": {},
          "execution_count": 13
        }
      ]
    },
    {
      "cell_type": "code",
      "source": [
        "cab['Date of Travel']     #cab[cab['Date of Travel']==42380]\n",
        "                          #cab[cab ['KM Travelled']<30]\n",
        "                          #cab.drop(['KM Travelled'],axis=1)\n",
        "                          #print (cab)"
      ],
      "metadata": {
        "id": "z5odVP0YMVQw",
        "colab": {
          "base_uri": "https://localhost:8080/"
        },
        "outputId": "0473fdfc-1ddb-42ef-9b95-cda6539ce3ff"
      },
      "id": "z5odVP0YMVQw",
      "execution_count": 14,
      "outputs": [
        {
          "output_type": "execute_result",
          "data": {
            "text/plain": [
              "0         42377\n",
              "1         42375\n",
              "2         42371\n",
              "3         42376\n",
              "4         42372\n",
              "          ...  \n",
              "160144    42937\n",
              "160145    42934\n",
              "160146    42932\n",
              "160147    42934\n",
              "160148    42937\n",
              "Name: Date of Travel, Length: 160149, dtype: int64"
            ]
          },
          "metadata": {},
          "execution_count": 14
        }
      ]
    },
    {
      "cell_type": "code",
      "execution_count": 15,
      "id": "661ad2e9",
      "metadata": {
        "id": "661ad2e9",
        "colab": {
          "base_uri": "https://localhost:8080/"
        },
        "outputId": "0be3b52f-6253-4852-bf41-c40a6caeb93c"
      },
      "outputs": [
        {
          "output_type": "execute_result",
          "data": {
            "text/plain": [
              "42371"
            ]
          },
          "metadata": {},
          "execution_count": 15
        }
      ],
      "source": [
        "cab['Date of Travel'].min()"
      ]
    },
    {
      "cell_type": "code",
      "execution_count": 16,
      "id": "3b6eda34",
      "metadata": {
        "id": "3b6eda34",
        "colab": {
          "base_uri": "https://localhost:8080/"
        },
        "outputId": "360a085b-2ba6-4649-9621-368b0b0b856d"
      },
      "outputs": [
        {
          "output_type": "execute_result",
          "data": {
            "text/plain": [
              "42941"
            ]
          },
          "metadata": {},
          "execution_count": 16
        }
      ],
      "source": [
        "\n",
        "cab['Date of Travel'].max()"
      ]
    },
    {
      "cell_type": "code",
      "execution_count": 17,
      "id": "cc167a14",
      "metadata": {
        "id": "cc167a14",
        "colab": {
          "base_uri": "https://localhost:8080/"
        },
        "outputId": "f4c79e84-1f75-4c43-cab3-636f04ac2592"
      },
      "outputs": [
        {
          "output_type": "execute_result",
          "data": {
            "text/plain": [
              "datetime.date(2016, 1, 1)"
            ]
          },
          "metadata": {},
          "execution_count": 17
        }
      ],
      "source": [
        "#Time period of data is till 31/12/2018 from 31/01/2016                \n",
        "import datetime\n",
        "#datetime.date(2016,1,31)-datetime.timedelta(days=42371)               #for understaning\n",
        "datetime.date(1899,12,29)+datetime.timedelta(days=42371)"
      ]
    },
    {
      "cell_type": "code",
      "execution_count": 18,
      "id": "c75ea088",
      "metadata": {
        "id": "c75ea088",
        "colab": {
          "base_uri": "https://localhost:8080/",
          "height": 35
        },
        "outputId": "d4817b51-43c4-4d7f-da51-d7ef65bd3af2"
      },
      "outputs": [
        {
          "output_type": "execute_result",
          "data": {
            "text/plain": [
              "'01-01-2016'"
            ],
            "application/vnd.google.colaboratory.intrinsic+json": {
              "type": "string"
            }
          },
          "metadata": {},
          "execution_count": 18
        }
      ],
      "source": [
        "from datetime import datetime, timedelta\n",
        "def dateReformation(dateInt):\n",
        "    date=datetime.strftime(datetime(1899,12,29)+timedelta(days=dateInt),'%d-%m-%Y')\n",
        "    return date\n",
        "\n",
        "dateReformation(42371)"
      ]
    },
    {
      "cell_type": "code",
      "execution_count": 19,
      "id": "3351a6ca",
      "metadata": {
        "id": "3351a6ca"
      },
      "outputs": [],
      "source": [
        "cab['Date of Travel']=cab['Date of Travel'].apply(lambda dt: dateReformation(dt))  "
      ]
    },
    {
      "cell_type": "code",
      "execution_count": 20,
      "id": "f1e2fb9e",
      "metadata": {
        "id": "f1e2fb9e",
        "colab": {
          "base_uri": "https://localhost:8080/",
          "height": 394
        },
        "outputId": "c7a27e02-5577-4083-ad00-92f656a0e35d"
      },
      "outputs": [
        {
          "output_type": "execute_result",
          "data": {
            "text/plain": [
              "        Transaction ID Date of Travel     Company         City   KM Travelled  \\\n",
              "count     1.601490e+05         160149      160149       160149  160148.000000   \n",
              "unique             NaN            571           2           19            NaN   \n",
              "top                NaN     16-12-2016  Yellow Cab  NEW YORK NY            NaN   \n",
              "freq               NaN            979      123670        42423            NaN   \n",
              "mean      1.009901e+07            NaN         NaN          NaN      22.575858   \n",
              "std       5.652898e+04            NaN         NaN          NaN      12.228186   \n",
              "min       1.000001e+07            NaN         NaN          NaN       1.900000   \n",
              "25%       1.005062e+07            NaN         NaN          NaN      12.000000   \n",
              "50%       1.009907e+07            NaN         NaN          NaN      22.470000   \n",
              "75%       1.014750e+07            NaN         NaN          NaN      32.960000   \n",
              "max       1.019752e+07            NaN         NaN          NaN      48.000000   \n",
              "\n",
              "        Price Charged   Cost of Trip  \n",
              "count   160148.000000  160148.000000  \n",
              "unique            NaN            NaN  \n",
              "top               NaN            NaN  \n",
              "freq              NaN            NaN  \n",
              "mean       439.001196     286.732840  \n",
              "std        288.621912     158.141157  \n",
              "min         15.600000      19.000000  \n",
              "25%        212.240000     151.512000  \n",
              "50%        396.645000     282.828000  \n",
              "75%        604.062500     414.720000  \n",
              "max       2048.030000     691.200000  "
            ],
            "text/html": [
              "\n",
              "  <div id=\"df-5986ed9d-c106-4add-84f5-5f8a38c5e8cc\">\n",
              "    <div class=\"colab-df-container\">\n",
              "      <div>\n",
              "<style scoped>\n",
              "    .dataframe tbody tr th:only-of-type {\n",
              "        vertical-align: middle;\n",
              "    }\n",
              "\n",
              "    .dataframe tbody tr th {\n",
              "        vertical-align: top;\n",
              "    }\n",
              "\n",
              "    .dataframe thead th {\n",
              "        text-align: right;\n",
              "    }\n",
              "</style>\n",
              "<table border=\"1\" class=\"dataframe\">\n",
              "  <thead>\n",
              "    <tr style=\"text-align: right;\">\n",
              "      <th></th>\n",
              "      <th>Transaction ID</th>\n",
              "      <th>Date of Travel</th>\n",
              "      <th>Company</th>\n",
              "      <th>City</th>\n",
              "      <th>KM Travelled</th>\n",
              "      <th>Price Charged</th>\n",
              "      <th>Cost of Trip</th>\n",
              "    </tr>\n",
              "  </thead>\n",
              "  <tbody>\n",
              "    <tr>\n",
              "      <th>count</th>\n",
              "      <td>1.601490e+05</td>\n",
              "      <td>160149</td>\n",
              "      <td>160149</td>\n",
              "      <td>160149</td>\n",
              "      <td>160148.000000</td>\n",
              "      <td>160148.000000</td>\n",
              "      <td>160148.000000</td>\n",
              "    </tr>\n",
              "    <tr>\n",
              "      <th>unique</th>\n",
              "      <td>NaN</td>\n",
              "      <td>571</td>\n",
              "      <td>2</td>\n",
              "      <td>19</td>\n",
              "      <td>NaN</td>\n",
              "      <td>NaN</td>\n",
              "      <td>NaN</td>\n",
              "    </tr>\n",
              "    <tr>\n",
              "      <th>top</th>\n",
              "      <td>NaN</td>\n",
              "      <td>16-12-2016</td>\n",
              "      <td>Yellow Cab</td>\n",
              "      <td>NEW YORK NY</td>\n",
              "      <td>NaN</td>\n",
              "      <td>NaN</td>\n",
              "      <td>NaN</td>\n",
              "    </tr>\n",
              "    <tr>\n",
              "      <th>freq</th>\n",
              "      <td>NaN</td>\n",
              "      <td>979</td>\n",
              "      <td>123670</td>\n",
              "      <td>42423</td>\n",
              "      <td>NaN</td>\n",
              "      <td>NaN</td>\n",
              "      <td>NaN</td>\n",
              "    </tr>\n",
              "    <tr>\n",
              "      <th>mean</th>\n",
              "      <td>1.009901e+07</td>\n",
              "      <td>NaN</td>\n",
              "      <td>NaN</td>\n",
              "      <td>NaN</td>\n",
              "      <td>22.575858</td>\n",
              "      <td>439.001196</td>\n",
              "      <td>286.732840</td>\n",
              "    </tr>\n",
              "    <tr>\n",
              "      <th>std</th>\n",
              "      <td>5.652898e+04</td>\n",
              "      <td>NaN</td>\n",
              "      <td>NaN</td>\n",
              "      <td>NaN</td>\n",
              "      <td>12.228186</td>\n",
              "      <td>288.621912</td>\n",
              "      <td>158.141157</td>\n",
              "    </tr>\n",
              "    <tr>\n",
              "      <th>min</th>\n",
              "      <td>1.000001e+07</td>\n",
              "      <td>NaN</td>\n",
              "      <td>NaN</td>\n",
              "      <td>NaN</td>\n",
              "      <td>1.900000</td>\n",
              "      <td>15.600000</td>\n",
              "      <td>19.000000</td>\n",
              "    </tr>\n",
              "    <tr>\n",
              "      <th>25%</th>\n",
              "      <td>1.005062e+07</td>\n",
              "      <td>NaN</td>\n",
              "      <td>NaN</td>\n",
              "      <td>NaN</td>\n",
              "      <td>12.000000</td>\n",
              "      <td>212.240000</td>\n",
              "      <td>151.512000</td>\n",
              "    </tr>\n",
              "    <tr>\n",
              "      <th>50%</th>\n",
              "      <td>1.009907e+07</td>\n",
              "      <td>NaN</td>\n",
              "      <td>NaN</td>\n",
              "      <td>NaN</td>\n",
              "      <td>22.470000</td>\n",
              "      <td>396.645000</td>\n",
              "      <td>282.828000</td>\n",
              "    </tr>\n",
              "    <tr>\n",
              "      <th>75%</th>\n",
              "      <td>1.014750e+07</td>\n",
              "      <td>NaN</td>\n",
              "      <td>NaN</td>\n",
              "      <td>NaN</td>\n",
              "      <td>32.960000</td>\n",
              "      <td>604.062500</td>\n",
              "      <td>414.720000</td>\n",
              "    </tr>\n",
              "    <tr>\n",
              "      <th>max</th>\n",
              "      <td>1.019752e+07</td>\n",
              "      <td>NaN</td>\n",
              "      <td>NaN</td>\n",
              "      <td>NaN</td>\n",
              "      <td>48.000000</td>\n",
              "      <td>2048.030000</td>\n",
              "      <td>691.200000</td>\n",
              "    </tr>\n",
              "  </tbody>\n",
              "</table>\n",
              "</div>\n",
              "      <button class=\"colab-df-convert\" onclick=\"convertToInteractive('df-5986ed9d-c106-4add-84f5-5f8a38c5e8cc')\"\n",
              "              title=\"Convert this dataframe to an interactive table.\"\n",
              "              style=\"display:none;\">\n",
              "        \n",
              "  <svg xmlns=\"http://www.w3.org/2000/svg\" height=\"24px\"viewBox=\"0 0 24 24\"\n",
              "       width=\"24px\">\n",
              "    <path d=\"M0 0h24v24H0V0z\" fill=\"none\"/>\n",
              "    <path d=\"M18.56 5.44l.94 2.06.94-2.06 2.06-.94-2.06-.94-.94-2.06-.94 2.06-2.06.94zm-11 1L8.5 8.5l.94-2.06 2.06-.94-2.06-.94L8.5 2.5l-.94 2.06-2.06.94zm10 10l.94 2.06.94-2.06 2.06-.94-2.06-.94-.94-2.06-.94 2.06-2.06.94z\"/><path d=\"M17.41 7.96l-1.37-1.37c-.4-.4-.92-.59-1.43-.59-.52 0-1.04.2-1.43.59L10.3 9.45l-7.72 7.72c-.78.78-.78 2.05 0 2.83L4 21.41c.39.39.9.59 1.41.59.51 0 1.02-.2 1.41-.59l7.78-7.78 2.81-2.81c.8-.78.8-2.07 0-2.86zM5.41 20L4 18.59l7.72-7.72 1.47 1.35L5.41 20z\"/>\n",
              "  </svg>\n",
              "      </button>\n",
              "      \n",
              "  <style>\n",
              "    .colab-df-container {\n",
              "      display:flex;\n",
              "      flex-wrap:wrap;\n",
              "      gap: 12px;\n",
              "    }\n",
              "\n",
              "    .colab-df-convert {\n",
              "      background-color: #E8F0FE;\n",
              "      border: none;\n",
              "      border-radius: 50%;\n",
              "      cursor: pointer;\n",
              "      display: none;\n",
              "      fill: #1967D2;\n",
              "      height: 32px;\n",
              "      padding: 0 0 0 0;\n",
              "      width: 32px;\n",
              "    }\n",
              "\n",
              "    .colab-df-convert:hover {\n",
              "      background-color: #E2EBFA;\n",
              "      box-shadow: 0px 1px 2px rgba(60, 64, 67, 0.3), 0px 1px 3px 1px rgba(60, 64, 67, 0.15);\n",
              "      fill: #174EA6;\n",
              "    }\n",
              "\n",
              "    [theme=dark] .colab-df-convert {\n",
              "      background-color: #3B4455;\n",
              "      fill: #D2E3FC;\n",
              "    }\n",
              "\n",
              "    [theme=dark] .colab-df-convert:hover {\n",
              "      background-color: #434B5C;\n",
              "      box-shadow: 0px 1px 3px 1px rgba(0, 0, 0, 0.15);\n",
              "      filter: drop-shadow(0px 1px 2px rgba(0, 0, 0, 0.3));\n",
              "      fill: #FFFFFF;\n",
              "    }\n",
              "  </style>\n",
              "\n",
              "      <script>\n",
              "        const buttonEl =\n",
              "          document.querySelector('#df-5986ed9d-c106-4add-84f5-5f8a38c5e8cc button.colab-df-convert');\n",
              "        buttonEl.style.display =\n",
              "          google.colab.kernel.accessAllowed ? 'block' : 'none';\n",
              "\n",
              "        async function convertToInteractive(key) {\n",
              "          const element = document.querySelector('#df-5986ed9d-c106-4add-84f5-5f8a38c5e8cc');\n",
              "          const dataTable =\n",
              "            await google.colab.kernel.invokeFunction('convertToInteractive',\n",
              "                                                     [key], {});\n",
              "          if (!dataTable) return;\n",
              "\n",
              "          const docLinkHtml = 'Like what you see? Visit the ' +\n",
              "            '<a target=\"_blank\" href=https://colab.research.google.com/notebooks/data_table.ipynb>data table notebook</a>'\n",
              "            + ' to learn more about interactive tables.';\n",
              "          element.innerHTML = '';\n",
              "          dataTable['output_type'] = 'display_data';\n",
              "          await google.colab.output.renderOutput(dataTable, element);\n",
              "          const docLink = document.createElement('div');\n",
              "          docLink.innerHTML = docLinkHtml;\n",
              "          element.appendChild(docLink);\n",
              "        }\n",
              "      </script>\n",
              "    </div>\n",
              "  </div>\n",
              "  "
            ]
          },
          "metadata": {},
          "execution_count": 20
        }
      ],
      "source": [
        "cab.describe(include='all')  "
      ]
    },
    {
      "cell_type": "code",
      "execution_count": 21,
      "id": "803e8331",
      "metadata": {
        "id": "803e8331",
        "colab": {
          "base_uri": "https://localhost:8080/",
          "height": 35
        },
        "outputId": "ca70b6c1-0601-4303-ba52-d6a7ebc27085"
      },
      "outputs": [
        {
          "output_type": "execute_result",
          "data": {
            "text/plain": [
              "'01-01-2016'"
            ],
            "application/vnd.google.colaboratory.intrinsic+json": {
              "type": "string"
            }
          },
          "metadata": {},
          "execution_count": 21
        }
      ],
      "source": [
        "cab['Date of Travel'].min()"
      ]
    },
    {
      "cell_type": "code",
      "execution_count": 22,
      "id": "f0d26df6",
      "metadata": {
        "id": "f0d26df6",
        "colab": {
          "base_uri": "https://localhost:8080/",
          "height": 35
        },
        "outputId": "7c8f9ee6-405d-4285-f6f1-996455258ce4"
      },
      "outputs": [
        {
          "output_type": "execute_result",
          "data": {
            "text/plain": [
              "'31-12-2016'"
            ],
            "application/vnd.google.colaboratory.intrinsic+json": {
              "type": "string"
            }
          },
          "metadata": {},
          "execution_count": 22
        }
      ],
      "source": [
        "\n",
        "cab['Date of Travel'].max()"
      ]
    },
    {
      "cell_type": "code",
      "execution_count": 23,
      "id": "dcb5f961",
      "metadata": {
        "id": "dcb5f961"
      },
      "outputs": [],
      "source": [
        "cabdate = cab.set_index('Date of Travel')"
      ]
    },
    {
      "cell_type": "code",
      "execution_count": 24,
      "id": "605ea952",
      "metadata": {
        "id": "605ea952",
        "colab": {
          "base_uri": "https://localhost:8080/",
          "height": 455
        },
        "outputId": "bf512ae7-924b-4806-99ed-9230806ed2c5"
      },
      "outputs": [
        {
          "output_type": "execute_result",
          "data": {
            "text/plain": [
              "                Transaction ID     Company        City  KM Travelled  \\\n",
              "Date of Travel                                                         \n",
              "07-01-2016            10000011    Pink Cab  ATLANTA GA         30.45   \n",
              "05-01-2016            10000012    Pink Cab  ATLANTA GA         28.62   \n",
              "01-01-2016            10000013    Pink Cab  ATLANTA GA          9.04   \n",
              "06-01-2016            10000014    Pink Cab  ATLANTA GA         33.17   \n",
              "02-01-2016            10000015    Pink Cab  ATLANTA GA          8.73   \n",
              "...                        ...         ...         ...           ...   \n",
              "20-07-2017            10197520  Yellow Cab  CHICAGO IL         14.84   \n",
              "17-07-2017            10197521  Yellow Cab  CHICAGO IL          3.21   \n",
              "15-07-2017            10197522  Yellow Cab  CHICAGO IL         37.44   \n",
              "17-07-2017            10197523  Yellow Cab  CHICAGO IL         32.13   \n",
              "20-07-2017            10197524  Yellow Cab  CHICAGO IL           NaN   \n",
              "\n",
              "                Price Charged  Cost of Trip  \n",
              "Date of Travel                               \n",
              "07-01-2016             370.95      313.6350  \n",
              "05-01-2016             358.52      334.8540  \n",
              "01-01-2016             125.20       97.6320  \n",
              "06-01-2016             377.40      351.6020  \n",
              "02-01-2016             114.62       97.7760  \n",
              "...                       ...           ...  \n",
              "20-07-2017             312.29      211.9152  \n",
              "17-07-2017              50.39       41.2164  \n",
              "15-07-2017             655.81      507.6864  \n",
              "17-07-2017             541.98      458.8164  \n",
              "20-07-2017                NaN           NaN  \n",
              "\n",
              "[160149 rows x 6 columns]"
            ],
            "text/html": [
              "\n",
              "  <div id=\"df-d3089d82-46e2-4b56-94ee-82ce51c516e3\">\n",
              "    <div class=\"colab-df-container\">\n",
              "      <div>\n",
              "<style scoped>\n",
              "    .dataframe tbody tr th:only-of-type {\n",
              "        vertical-align: middle;\n",
              "    }\n",
              "\n",
              "    .dataframe tbody tr th {\n",
              "        vertical-align: top;\n",
              "    }\n",
              "\n",
              "    .dataframe thead th {\n",
              "        text-align: right;\n",
              "    }\n",
              "</style>\n",
              "<table border=\"1\" class=\"dataframe\">\n",
              "  <thead>\n",
              "    <tr style=\"text-align: right;\">\n",
              "      <th></th>\n",
              "      <th>Transaction ID</th>\n",
              "      <th>Company</th>\n",
              "      <th>City</th>\n",
              "      <th>KM Travelled</th>\n",
              "      <th>Price Charged</th>\n",
              "      <th>Cost of Trip</th>\n",
              "    </tr>\n",
              "    <tr>\n",
              "      <th>Date of Travel</th>\n",
              "      <th></th>\n",
              "      <th></th>\n",
              "      <th></th>\n",
              "      <th></th>\n",
              "      <th></th>\n",
              "      <th></th>\n",
              "    </tr>\n",
              "  </thead>\n",
              "  <tbody>\n",
              "    <tr>\n",
              "      <th>07-01-2016</th>\n",
              "      <td>10000011</td>\n",
              "      <td>Pink Cab</td>\n",
              "      <td>ATLANTA GA</td>\n",
              "      <td>30.45</td>\n",
              "      <td>370.95</td>\n",
              "      <td>313.6350</td>\n",
              "    </tr>\n",
              "    <tr>\n",
              "      <th>05-01-2016</th>\n",
              "      <td>10000012</td>\n",
              "      <td>Pink Cab</td>\n",
              "      <td>ATLANTA GA</td>\n",
              "      <td>28.62</td>\n",
              "      <td>358.52</td>\n",
              "      <td>334.8540</td>\n",
              "    </tr>\n",
              "    <tr>\n",
              "      <th>01-01-2016</th>\n",
              "      <td>10000013</td>\n",
              "      <td>Pink Cab</td>\n",
              "      <td>ATLANTA GA</td>\n",
              "      <td>9.04</td>\n",
              "      <td>125.20</td>\n",
              "      <td>97.6320</td>\n",
              "    </tr>\n",
              "    <tr>\n",
              "      <th>06-01-2016</th>\n",
              "      <td>10000014</td>\n",
              "      <td>Pink Cab</td>\n",
              "      <td>ATLANTA GA</td>\n",
              "      <td>33.17</td>\n",
              "      <td>377.40</td>\n",
              "      <td>351.6020</td>\n",
              "    </tr>\n",
              "    <tr>\n",
              "      <th>02-01-2016</th>\n",
              "      <td>10000015</td>\n",
              "      <td>Pink Cab</td>\n",
              "      <td>ATLANTA GA</td>\n",
              "      <td>8.73</td>\n",
              "      <td>114.62</td>\n",
              "      <td>97.7760</td>\n",
              "    </tr>\n",
              "    <tr>\n",
              "      <th>...</th>\n",
              "      <td>...</td>\n",
              "      <td>...</td>\n",
              "      <td>...</td>\n",
              "      <td>...</td>\n",
              "      <td>...</td>\n",
              "      <td>...</td>\n",
              "    </tr>\n",
              "    <tr>\n",
              "      <th>20-07-2017</th>\n",
              "      <td>10197520</td>\n",
              "      <td>Yellow Cab</td>\n",
              "      <td>CHICAGO IL</td>\n",
              "      <td>14.84</td>\n",
              "      <td>312.29</td>\n",
              "      <td>211.9152</td>\n",
              "    </tr>\n",
              "    <tr>\n",
              "      <th>17-07-2017</th>\n",
              "      <td>10197521</td>\n",
              "      <td>Yellow Cab</td>\n",
              "      <td>CHICAGO IL</td>\n",
              "      <td>3.21</td>\n",
              "      <td>50.39</td>\n",
              "      <td>41.2164</td>\n",
              "    </tr>\n",
              "    <tr>\n",
              "      <th>15-07-2017</th>\n",
              "      <td>10197522</td>\n",
              "      <td>Yellow Cab</td>\n",
              "      <td>CHICAGO IL</td>\n",
              "      <td>37.44</td>\n",
              "      <td>655.81</td>\n",
              "      <td>507.6864</td>\n",
              "    </tr>\n",
              "    <tr>\n",
              "      <th>17-07-2017</th>\n",
              "      <td>10197523</td>\n",
              "      <td>Yellow Cab</td>\n",
              "      <td>CHICAGO IL</td>\n",
              "      <td>32.13</td>\n",
              "      <td>541.98</td>\n",
              "      <td>458.8164</td>\n",
              "    </tr>\n",
              "    <tr>\n",
              "      <th>20-07-2017</th>\n",
              "      <td>10197524</td>\n",
              "      <td>Yellow Cab</td>\n",
              "      <td>CHICAGO IL</td>\n",
              "      <td>NaN</td>\n",
              "      <td>NaN</td>\n",
              "      <td>NaN</td>\n",
              "    </tr>\n",
              "  </tbody>\n",
              "</table>\n",
              "<p>160149 rows × 6 columns</p>\n",
              "</div>\n",
              "      <button class=\"colab-df-convert\" onclick=\"convertToInteractive('df-d3089d82-46e2-4b56-94ee-82ce51c516e3')\"\n",
              "              title=\"Convert this dataframe to an interactive table.\"\n",
              "              style=\"display:none;\">\n",
              "        \n",
              "  <svg xmlns=\"http://www.w3.org/2000/svg\" height=\"24px\"viewBox=\"0 0 24 24\"\n",
              "       width=\"24px\">\n",
              "    <path d=\"M0 0h24v24H0V0z\" fill=\"none\"/>\n",
              "    <path d=\"M18.56 5.44l.94 2.06.94-2.06 2.06-.94-2.06-.94-.94-2.06-.94 2.06-2.06.94zm-11 1L8.5 8.5l.94-2.06 2.06-.94-2.06-.94L8.5 2.5l-.94 2.06-2.06.94zm10 10l.94 2.06.94-2.06 2.06-.94-2.06-.94-.94-2.06-.94 2.06-2.06.94z\"/><path d=\"M17.41 7.96l-1.37-1.37c-.4-.4-.92-.59-1.43-.59-.52 0-1.04.2-1.43.59L10.3 9.45l-7.72 7.72c-.78.78-.78 2.05 0 2.83L4 21.41c.39.39.9.59 1.41.59.51 0 1.02-.2 1.41-.59l7.78-7.78 2.81-2.81c.8-.78.8-2.07 0-2.86zM5.41 20L4 18.59l7.72-7.72 1.47 1.35L5.41 20z\"/>\n",
              "  </svg>\n",
              "      </button>\n",
              "      \n",
              "  <style>\n",
              "    .colab-df-container {\n",
              "      display:flex;\n",
              "      flex-wrap:wrap;\n",
              "      gap: 12px;\n",
              "    }\n",
              "\n",
              "    .colab-df-convert {\n",
              "      background-color: #E8F0FE;\n",
              "      border: none;\n",
              "      border-radius: 50%;\n",
              "      cursor: pointer;\n",
              "      display: none;\n",
              "      fill: #1967D2;\n",
              "      height: 32px;\n",
              "      padding: 0 0 0 0;\n",
              "      width: 32px;\n",
              "    }\n",
              "\n",
              "    .colab-df-convert:hover {\n",
              "      background-color: #E2EBFA;\n",
              "      box-shadow: 0px 1px 2px rgba(60, 64, 67, 0.3), 0px 1px 3px 1px rgba(60, 64, 67, 0.15);\n",
              "      fill: #174EA6;\n",
              "    }\n",
              "\n",
              "    [theme=dark] .colab-df-convert {\n",
              "      background-color: #3B4455;\n",
              "      fill: #D2E3FC;\n",
              "    }\n",
              "\n",
              "    [theme=dark] .colab-df-convert:hover {\n",
              "      background-color: #434B5C;\n",
              "      box-shadow: 0px 1px 3px 1px rgba(0, 0, 0, 0.15);\n",
              "      filter: drop-shadow(0px 1px 2px rgba(0, 0, 0, 0.3));\n",
              "      fill: #FFFFFF;\n",
              "    }\n",
              "  </style>\n",
              "\n",
              "      <script>\n",
              "        const buttonEl =\n",
              "          document.querySelector('#df-d3089d82-46e2-4b56-94ee-82ce51c516e3 button.colab-df-convert');\n",
              "        buttonEl.style.display =\n",
              "          google.colab.kernel.accessAllowed ? 'block' : 'none';\n",
              "\n",
              "        async function convertToInteractive(key) {\n",
              "          const element = document.querySelector('#df-d3089d82-46e2-4b56-94ee-82ce51c516e3');\n",
              "          const dataTable =\n",
              "            await google.colab.kernel.invokeFunction('convertToInteractive',\n",
              "                                                     [key], {});\n",
              "          if (!dataTable) return;\n",
              "\n",
              "          const docLinkHtml = 'Like what you see? Visit the ' +\n",
              "            '<a target=\"_blank\" href=https://colab.research.google.com/notebooks/data_table.ipynb>data table notebook</a>'\n",
              "            + ' to learn more about interactive tables.';\n",
              "          element.innerHTML = '';\n",
              "          dataTable['output_type'] = 'display_data';\n",
              "          await google.colab.output.renderOutput(dataTable, element);\n",
              "          const docLink = document.createElement('div');\n",
              "          docLink.innerHTML = docLinkHtml;\n",
              "          element.appendChild(docLink);\n",
              "        }\n",
              "      </script>\n",
              "    </div>\n",
              "  </div>\n",
              "  "
            ]
          },
          "metadata": {},
          "execution_count": 24
        }
      ],
      "source": [
        "cabdate"
      ]
    },
    {
      "cell_type": "code",
      "execution_count": 25,
      "id": "4ba86395",
      "metadata": {
        "id": "4ba86395",
        "colab": {
          "base_uri": "https://localhost:8080/",
          "height": 206
        },
        "outputId": "bc53bd7a-479b-4443-dc46-5947300b6e80"
      },
      "outputs": [
        {
          "output_type": "execute_result",
          "data": {
            "text/plain": [
              "             City   Population      Users\n",
              "0     NEW YORK NY   8,405,837    302,149 \n",
              "1      CHICAGO IL   1,955,130    164,468 \n",
              "2  LOS ANGELES CA   1,595,037    144,132 \n",
              "3        MIAMI FL   1,339,155     17,675 \n",
              "4  SILICON VALLEY   1,177,609     27,247 "
            ],
            "text/html": [
              "\n",
              "  <div id=\"df-ded0ced9-c334-4d89-ace4-7d1a952e397d\">\n",
              "    <div class=\"colab-df-container\">\n",
              "      <div>\n",
              "<style scoped>\n",
              "    .dataframe tbody tr th:only-of-type {\n",
              "        vertical-align: middle;\n",
              "    }\n",
              "\n",
              "    .dataframe tbody tr th {\n",
              "        vertical-align: top;\n",
              "    }\n",
              "\n",
              "    .dataframe thead th {\n",
              "        text-align: right;\n",
              "    }\n",
              "</style>\n",
              "<table border=\"1\" class=\"dataframe\">\n",
              "  <thead>\n",
              "    <tr style=\"text-align: right;\">\n",
              "      <th></th>\n",
              "      <th>City</th>\n",
              "      <th>Population</th>\n",
              "      <th>Users</th>\n",
              "    </tr>\n",
              "  </thead>\n",
              "  <tbody>\n",
              "    <tr>\n",
              "      <th>0</th>\n",
              "      <td>NEW YORK NY</td>\n",
              "      <td>8,405,837</td>\n",
              "      <td>302,149</td>\n",
              "    </tr>\n",
              "    <tr>\n",
              "      <th>1</th>\n",
              "      <td>CHICAGO IL</td>\n",
              "      <td>1,955,130</td>\n",
              "      <td>164,468</td>\n",
              "    </tr>\n",
              "    <tr>\n",
              "      <th>2</th>\n",
              "      <td>LOS ANGELES CA</td>\n",
              "      <td>1,595,037</td>\n",
              "      <td>144,132</td>\n",
              "    </tr>\n",
              "    <tr>\n",
              "      <th>3</th>\n",
              "      <td>MIAMI FL</td>\n",
              "      <td>1,339,155</td>\n",
              "      <td>17,675</td>\n",
              "    </tr>\n",
              "    <tr>\n",
              "      <th>4</th>\n",
              "      <td>SILICON VALLEY</td>\n",
              "      <td>1,177,609</td>\n",
              "      <td>27,247</td>\n",
              "    </tr>\n",
              "  </tbody>\n",
              "</table>\n",
              "</div>\n",
              "      <button class=\"colab-df-convert\" onclick=\"convertToInteractive('df-ded0ced9-c334-4d89-ace4-7d1a952e397d')\"\n",
              "              title=\"Convert this dataframe to an interactive table.\"\n",
              "              style=\"display:none;\">\n",
              "        \n",
              "  <svg xmlns=\"http://www.w3.org/2000/svg\" height=\"24px\"viewBox=\"0 0 24 24\"\n",
              "       width=\"24px\">\n",
              "    <path d=\"M0 0h24v24H0V0z\" fill=\"none\"/>\n",
              "    <path d=\"M18.56 5.44l.94 2.06.94-2.06 2.06-.94-2.06-.94-.94-2.06-.94 2.06-2.06.94zm-11 1L8.5 8.5l.94-2.06 2.06-.94-2.06-.94L8.5 2.5l-.94 2.06-2.06.94zm10 10l.94 2.06.94-2.06 2.06-.94-2.06-.94-.94-2.06-.94 2.06-2.06.94z\"/><path d=\"M17.41 7.96l-1.37-1.37c-.4-.4-.92-.59-1.43-.59-.52 0-1.04.2-1.43.59L10.3 9.45l-7.72 7.72c-.78.78-.78 2.05 0 2.83L4 21.41c.39.39.9.59 1.41.59.51 0 1.02-.2 1.41-.59l7.78-7.78 2.81-2.81c.8-.78.8-2.07 0-2.86zM5.41 20L4 18.59l7.72-7.72 1.47 1.35L5.41 20z\"/>\n",
              "  </svg>\n",
              "      </button>\n",
              "      \n",
              "  <style>\n",
              "    .colab-df-container {\n",
              "      display:flex;\n",
              "      flex-wrap:wrap;\n",
              "      gap: 12px;\n",
              "    }\n",
              "\n",
              "    .colab-df-convert {\n",
              "      background-color: #E8F0FE;\n",
              "      border: none;\n",
              "      border-radius: 50%;\n",
              "      cursor: pointer;\n",
              "      display: none;\n",
              "      fill: #1967D2;\n",
              "      height: 32px;\n",
              "      padding: 0 0 0 0;\n",
              "      width: 32px;\n",
              "    }\n",
              "\n",
              "    .colab-df-convert:hover {\n",
              "      background-color: #E2EBFA;\n",
              "      box-shadow: 0px 1px 2px rgba(60, 64, 67, 0.3), 0px 1px 3px 1px rgba(60, 64, 67, 0.15);\n",
              "      fill: #174EA6;\n",
              "    }\n",
              "\n",
              "    [theme=dark] .colab-df-convert {\n",
              "      background-color: #3B4455;\n",
              "      fill: #D2E3FC;\n",
              "    }\n",
              "\n",
              "    [theme=dark] .colab-df-convert:hover {\n",
              "      background-color: #434B5C;\n",
              "      box-shadow: 0px 1px 3px 1px rgba(0, 0, 0, 0.15);\n",
              "      filter: drop-shadow(0px 1px 2px rgba(0, 0, 0, 0.3));\n",
              "      fill: #FFFFFF;\n",
              "    }\n",
              "  </style>\n",
              "\n",
              "      <script>\n",
              "        const buttonEl =\n",
              "          document.querySelector('#df-ded0ced9-c334-4d89-ace4-7d1a952e397d button.colab-df-convert');\n",
              "        buttonEl.style.display =\n",
              "          google.colab.kernel.accessAllowed ? 'block' : 'none';\n",
              "\n",
              "        async function convertToInteractive(key) {\n",
              "          const element = document.querySelector('#df-ded0ced9-c334-4d89-ace4-7d1a952e397d');\n",
              "          const dataTable =\n",
              "            await google.colab.kernel.invokeFunction('convertToInteractive',\n",
              "                                                     [key], {});\n",
              "          if (!dataTable) return;\n",
              "\n",
              "          const docLinkHtml = 'Like what you see? Visit the ' +\n",
              "            '<a target=\"_blank\" href=https://colab.research.google.com/notebooks/data_table.ipynb>data table notebook</a>'\n",
              "            + ' to learn more about interactive tables.';\n",
              "          element.innerHTML = '';\n",
              "          dataTable['output_type'] = 'display_data';\n",
              "          await google.colab.output.renderOutput(dataTable, element);\n",
              "          const docLink = document.createElement('div');\n",
              "          docLink.innerHTML = docLinkHtml;\n",
              "          element.appendChild(docLink);\n",
              "        }\n",
              "      </script>\n",
              "    </div>\n",
              "  </div>\n",
              "  "
            ]
          },
          "metadata": {},
          "execution_count": 25
        }
      ],
      "source": [
        "#cities\n",
        "city.head()"
      ]
    },
    {
      "cell_type": "code",
      "execution_count": 26,
      "id": "9f236ba5",
      "metadata": {
        "id": "9f236ba5",
        "colab": {
          "base_uri": "https://localhost:8080/"
        },
        "outputId": "7bb120a5-a703-4bd0-d5d8-2c61ea337f0b"
      },
      "outputs": [
        {
          "output_type": "execute_result",
          "data": {
            "text/plain": [
              "(20, 3)"
            ]
          },
          "metadata": {},
          "execution_count": 26
        }
      ],
      "source": [
        "city.shape"
      ]
    },
    {
      "cell_type": "code",
      "execution_count": 27,
      "id": "6b6ad564",
      "metadata": {
        "id": "6b6ad564",
        "colab": {
          "base_uri": "https://localhost:8080/"
        },
        "outputId": "85ae82a8-3d90-4991-c57b-e5cb9bd94ec9"
      },
      "outputs": [
        {
          "output_type": "execute_result",
          "data": {
            "text/plain": [
              "City          20\n",
              "Population    20\n",
              "Users         20\n",
              "dtype: int64"
            ]
          },
          "metadata": {},
          "execution_count": 27
        }
      ],
      "source": [
        "# displays unique cities names count\n",
        "city.nunique()"
      ]
    },
    {
      "cell_type": "code",
      "execution_count": 28,
      "id": "7e3eac05",
      "metadata": {
        "id": "7e3eac05",
        "colab": {
          "base_uri": "https://localhost:8080/"
        },
        "outputId": "66eeb424-da47-41f9-e4b5-b3996f718ebe"
      },
      "outputs": [
        {
          "output_type": "stream",
          "name": "stdout",
          "text": [
            "<class 'pandas.core.frame.DataFrame'>\n",
            "RangeIndex: 20 entries, 0 to 19\n",
            "Data columns (total 3 columns):\n",
            " #   Column      Non-Null Count  Dtype \n",
            "---  ------      --------------  ----- \n",
            " 0   City        20 non-null     object\n",
            " 1   Population  20 non-null     object\n",
            " 2   Users       20 non-null     object\n",
            "dtypes: object(3)\n",
            "memory usage: 608.0+ bytes\n"
          ]
        }
      ],
      "source": [
        "city.info()"
      ]
    },
    {
      "cell_type": "code",
      "execution_count": 29,
      "id": "c9f1579a",
      "metadata": {
        "id": "c9f1579a",
        "colab": {
          "base_uri": "https://localhost:8080/",
          "height": 677
        },
        "outputId": "8c791f52-0358-4911-beb9-73721cd32fc4"
      },
      "outputs": [
        {
          "output_type": "execute_result",
          "data": {
            "text/plain": [
              "                City Population     Users\n",
              "0        NEW YORK NY   8405837    302149 \n",
              "1         CHICAGO IL   1955130    164468 \n",
              "2     LOS ANGELES CA   1595037    144132 \n",
              "3           MIAMI FL   1339155     17675 \n",
              "4     SILICON VALLEY   1177609     27247 \n",
              "5      ORANGE COUNTY   1030185     12994 \n",
              "6       SAN DIEGO CA    959307     69995 \n",
              "7         PHOENIX AZ    943999      6133 \n",
              "8          DALLAS TX    942908     22157 \n",
              "9         ATLANTA GA    814885     24701 \n",
              "10         DENVER CO    754233     12421 \n",
              "11         AUSTIN TX    698371     14978 \n",
              "12        SEATTLE WA    671238     25063 \n",
              "13         TUCSON AZ    631442      5712 \n",
              "14  SAN FRANCISCO CA    629591    213609 \n",
              "15     SACRAMENTO CA    545776      7044 \n",
              "16     PITTSBURGH PA    542085      3643 \n",
              "17     WASHINGTON DC    418859    127001 \n",
              "18      NASHVILLE TN    327225      9270 \n",
              "19         BOSTON MA    248968     80021 "
            ],
            "text/html": [
              "\n",
              "  <div id=\"df-ae866394-f32b-468f-beb0-9bc6418c956c\">\n",
              "    <div class=\"colab-df-container\">\n",
              "      <div>\n",
              "<style scoped>\n",
              "    .dataframe tbody tr th:only-of-type {\n",
              "        vertical-align: middle;\n",
              "    }\n",
              "\n",
              "    .dataframe tbody tr th {\n",
              "        vertical-align: top;\n",
              "    }\n",
              "\n",
              "    .dataframe thead th {\n",
              "        text-align: right;\n",
              "    }\n",
              "</style>\n",
              "<table border=\"1\" class=\"dataframe\">\n",
              "  <thead>\n",
              "    <tr style=\"text-align: right;\">\n",
              "      <th></th>\n",
              "      <th>City</th>\n",
              "      <th>Population</th>\n",
              "      <th>Users</th>\n",
              "    </tr>\n",
              "  </thead>\n",
              "  <tbody>\n",
              "    <tr>\n",
              "      <th>0</th>\n",
              "      <td>NEW YORK NY</td>\n",
              "      <td>8405837</td>\n",
              "      <td>302149</td>\n",
              "    </tr>\n",
              "    <tr>\n",
              "      <th>1</th>\n",
              "      <td>CHICAGO IL</td>\n",
              "      <td>1955130</td>\n",
              "      <td>164468</td>\n",
              "    </tr>\n",
              "    <tr>\n",
              "      <th>2</th>\n",
              "      <td>LOS ANGELES CA</td>\n",
              "      <td>1595037</td>\n",
              "      <td>144132</td>\n",
              "    </tr>\n",
              "    <tr>\n",
              "      <th>3</th>\n",
              "      <td>MIAMI FL</td>\n",
              "      <td>1339155</td>\n",
              "      <td>17675</td>\n",
              "    </tr>\n",
              "    <tr>\n",
              "      <th>4</th>\n",
              "      <td>SILICON VALLEY</td>\n",
              "      <td>1177609</td>\n",
              "      <td>27247</td>\n",
              "    </tr>\n",
              "    <tr>\n",
              "      <th>5</th>\n",
              "      <td>ORANGE COUNTY</td>\n",
              "      <td>1030185</td>\n",
              "      <td>12994</td>\n",
              "    </tr>\n",
              "    <tr>\n",
              "      <th>6</th>\n",
              "      <td>SAN DIEGO CA</td>\n",
              "      <td>959307</td>\n",
              "      <td>69995</td>\n",
              "    </tr>\n",
              "    <tr>\n",
              "      <th>7</th>\n",
              "      <td>PHOENIX AZ</td>\n",
              "      <td>943999</td>\n",
              "      <td>6133</td>\n",
              "    </tr>\n",
              "    <tr>\n",
              "      <th>8</th>\n",
              "      <td>DALLAS TX</td>\n",
              "      <td>942908</td>\n",
              "      <td>22157</td>\n",
              "    </tr>\n",
              "    <tr>\n",
              "      <th>9</th>\n",
              "      <td>ATLANTA GA</td>\n",
              "      <td>814885</td>\n",
              "      <td>24701</td>\n",
              "    </tr>\n",
              "    <tr>\n",
              "      <th>10</th>\n",
              "      <td>DENVER CO</td>\n",
              "      <td>754233</td>\n",
              "      <td>12421</td>\n",
              "    </tr>\n",
              "    <tr>\n",
              "      <th>11</th>\n",
              "      <td>AUSTIN TX</td>\n",
              "      <td>698371</td>\n",
              "      <td>14978</td>\n",
              "    </tr>\n",
              "    <tr>\n",
              "      <th>12</th>\n",
              "      <td>SEATTLE WA</td>\n",
              "      <td>671238</td>\n",
              "      <td>25063</td>\n",
              "    </tr>\n",
              "    <tr>\n",
              "      <th>13</th>\n",
              "      <td>TUCSON AZ</td>\n",
              "      <td>631442</td>\n",
              "      <td>5712</td>\n",
              "    </tr>\n",
              "    <tr>\n",
              "      <th>14</th>\n",
              "      <td>SAN FRANCISCO CA</td>\n",
              "      <td>629591</td>\n",
              "      <td>213609</td>\n",
              "    </tr>\n",
              "    <tr>\n",
              "      <th>15</th>\n",
              "      <td>SACRAMENTO CA</td>\n",
              "      <td>545776</td>\n",
              "      <td>7044</td>\n",
              "    </tr>\n",
              "    <tr>\n",
              "      <th>16</th>\n",
              "      <td>PITTSBURGH PA</td>\n",
              "      <td>542085</td>\n",
              "      <td>3643</td>\n",
              "    </tr>\n",
              "    <tr>\n",
              "      <th>17</th>\n",
              "      <td>WASHINGTON DC</td>\n",
              "      <td>418859</td>\n",
              "      <td>127001</td>\n",
              "    </tr>\n",
              "    <tr>\n",
              "      <th>18</th>\n",
              "      <td>NASHVILLE TN</td>\n",
              "      <td>327225</td>\n",
              "      <td>9270</td>\n",
              "    </tr>\n",
              "    <tr>\n",
              "      <th>19</th>\n",
              "      <td>BOSTON MA</td>\n",
              "      <td>248968</td>\n",
              "      <td>80021</td>\n",
              "    </tr>\n",
              "  </tbody>\n",
              "</table>\n",
              "</div>\n",
              "      <button class=\"colab-df-convert\" onclick=\"convertToInteractive('df-ae866394-f32b-468f-beb0-9bc6418c956c')\"\n",
              "              title=\"Convert this dataframe to an interactive table.\"\n",
              "              style=\"display:none;\">\n",
              "        \n",
              "  <svg xmlns=\"http://www.w3.org/2000/svg\" height=\"24px\"viewBox=\"0 0 24 24\"\n",
              "       width=\"24px\">\n",
              "    <path d=\"M0 0h24v24H0V0z\" fill=\"none\"/>\n",
              "    <path d=\"M18.56 5.44l.94 2.06.94-2.06 2.06-.94-2.06-.94-.94-2.06-.94 2.06-2.06.94zm-11 1L8.5 8.5l.94-2.06 2.06-.94-2.06-.94L8.5 2.5l-.94 2.06-2.06.94zm10 10l.94 2.06.94-2.06 2.06-.94-2.06-.94-.94-2.06-.94 2.06-2.06.94z\"/><path d=\"M17.41 7.96l-1.37-1.37c-.4-.4-.92-.59-1.43-.59-.52 0-1.04.2-1.43.59L10.3 9.45l-7.72 7.72c-.78.78-.78 2.05 0 2.83L4 21.41c.39.39.9.59 1.41.59.51 0 1.02-.2 1.41-.59l7.78-7.78 2.81-2.81c.8-.78.8-2.07 0-2.86zM5.41 20L4 18.59l7.72-7.72 1.47 1.35L5.41 20z\"/>\n",
              "  </svg>\n",
              "      </button>\n",
              "      \n",
              "  <style>\n",
              "    .colab-df-container {\n",
              "      display:flex;\n",
              "      flex-wrap:wrap;\n",
              "      gap: 12px;\n",
              "    }\n",
              "\n",
              "    .colab-df-convert {\n",
              "      background-color: #E8F0FE;\n",
              "      border: none;\n",
              "      border-radius: 50%;\n",
              "      cursor: pointer;\n",
              "      display: none;\n",
              "      fill: #1967D2;\n",
              "      height: 32px;\n",
              "      padding: 0 0 0 0;\n",
              "      width: 32px;\n",
              "    }\n",
              "\n",
              "    .colab-df-convert:hover {\n",
              "      background-color: #E2EBFA;\n",
              "      box-shadow: 0px 1px 2px rgba(60, 64, 67, 0.3), 0px 1px 3px 1px rgba(60, 64, 67, 0.15);\n",
              "      fill: #174EA6;\n",
              "    }\n",
              "\n",
              "    [theme=dark] .colab-df-convert {\n",
              "      background-color: #3B4455;\n",
              "      fill: #D2E3FC;\n",
              "    }\n",
              "\n",
              "    [theme=dark] .colab-df-convert:hover {\n",
              "      background-color: #434B5C;\n",
              "      box-shadow: 0px 1px 3px 1px rgba(0, 0, 0, 0.15);\n",
              "      filter: drop-shadow(0px 1px 2px rgba(0, 0, 0, 0.3));\n",
              "      fill: #FFFFFF;\n",
              "    }\n",
              "  </style>\n",
              "\n",
              "      <script>\n",
              "        const buttonEl =\n",
              "          document.querySelector('#df-ae866394-f32b-468f-beb0-9bc6418c956c button.colab-df-convert');\n",
              "        buttonEl.style.display =\n",
              "          google.colab.kernel.accessAllowed ? 'block' : 'none';\n",
              "\n",
              "        async function convertToInteractive(key) {\n",
              "          const element = document.querySelector('#df-ae866394-f32b-468f-beb0-9bc6418c956c');\n",
              "          const dataTable =\n",
              "            await google.colab.kernel.invokeFunction('convertToInteractive',\n",
              "                                                     [key], {});\n",
              "          if (!dataTable) return;\n",
              "\n",
              "          const docLinkHtml = 'Like what you see? Visit the ' +\n",
              "            '<a target=\"_blank\" href=https://colab.research.google.com/notebooks/data_table.ipynb>data table notebook</a>'\n",
              "            + ' to learn more about interactive tables.';\n",
              "          element.innerHTML = '';\n",
              "          dataTable['output_type'] = 'display_data';\n",
              "          await google.colab.output.renderOutput(dataTable, element);\n",
              "          const docLink = document.createElement('div');\n",
              "          docLink.innerHTML = docLinkHtml;\n",
              "          element.appendChild(docLink);\n",
              "        }\n",
              "      </script>\n",
              "    </div>\n",
              "  </div>\n",
              "  "
            ]
          },
          "metadata": {},
          "execution_count": 29
        }
      ],
      "source": [
        "#replace \",\" with space for numbers in population\n",
        "city['Population']=city['Population'].str.replace(\",\",\"\")\n",
        "city['Users']=city['Users'].str.replace(\",\",\"\")           \n",
        "city"
      ]
    },
    {
      "cell_type": "code",
      "execution_count": 30,
      "id": "001b844d",
      "metadata": {
        "id": "001b844d",
        "colab": {
          "base_uri": "https://localhost:8080/",
          "height": 677
        },
        "outputId": "3187dce5-c3ab-419d-9e7b-1cc61a47734f"
      },
      "outputs": [
        {
          "output_type": "execute_result",
          "data": {
            "text/plain": [
              "                City  Population   Users\n",
              "0        NEW YORK NY     8405837  302149\n",
              "1         CHICAGO IL     1955130  164468\n",
              "2     LOS ANGELES CA     1595037  144132\n",
              "3           MIAMI FL     1339155   17675\n",
              "4     SILICON VALLEY     1177609   27247\n",
              "5      ORANGE COUNTY     1030185   12994\n",
              "6       SAN DIEGO CA      959307   69995\n",
              "7         PHOENIX AZ      943999    6133\n",
              "8          DALLAS TX      942908   22157\n",
              "9         ATLANTA GA      814885   24701\n",
              "10         DENVER CO      754233   12421\n",
              "11         AUSTIN TX      698371   14978\n",
              "12        SEATTLE WA      671238   25063\n",
              "13         TUCSON AZ      631442    5712\n",
              "14  SAN FRANCISCO CA      629591  213609\n",
              "15     SACRAMENTO CA      545776    7044\n",
              "16     PITTSBURGH PA      542085    3643\n",
              "17     WASHINGTON DC      418859  127001\n",
              "18      NASHVILLE TN      327225    9270\n",
              "19         BOSTON MA      248968   80021"
            ],
            "text/html": [
              "\n",
              "  <div id=\"df-fa248e24-1918-43fc-8b56-52bd8c0a7134\">\n",
              "    <div class=\"colab-df-container\">\n",
              "      <div>\n",
              "<style scoped>\n",
              "    .dataframe tbody tr th:only-of-type {\n",
              "        vertical-align: middle;\n",
              "    }\n",
              "\n",
              "    .dataframe tbody tr th {\n",
              "        vertical-align: top;\n",
              "    }\n",
              "\n",
              "    .dataframe thead th {\n",
              "        text-align: right;\n",
              "    }\n",
              "</style>\n",
              "<table border=\"1\" class=\"dataframe\">\n",
              "  <thead>\n",
              "    <tr style=\"text-align: right;\">\n",
              "      <th></th>\n",
              "      <th>City</th>\n",
              "      <th>Population</th>\n",
              "      <th>Users</th>\n",
              "    </tr>\n",
              "  </thead>\n",
              "  <tbody>\n",
              "    <tr>\n",
              "      <th>0</th>\n",
              "      <td>NEW YORK NY</td>\n",
              "      <td>8405837</td>\n",
              "      <td>302149</td>\n",
              "    </tr>\n",
              "    <tr>\n",
              "      <th>1</th>\n",
              "      <td>CHICAGO IL</td>\n",
              "      <td>1955130</td>\n",
              "      <td>164468</td>\n",
              "    </tr>\n",
              "    <tr>\n",
              "      <th>2</th>\n",
              "      <td>LOS ANGELES CA</td>\n",
              "      <td>1595037</td>\n",
              "      <td>144132</td>\n",
              "    </tr>\n",
              "    <tr>\n",
              "      <th>3</th>\n",
              "      <td>MIAMI FL</td>\n",
              "      <td>1339155</td>\n",
              "      <td>17675</td>\n",
              "    </tr>\n",
              "    <tr>\n",
              "      <th>4</th>\n",
              "      <td>SILICON VALLEY</td>\n",
              "      <td>1177609</td>\n",
              "      <td>27247</td>\n",
              "    </tr>\n",
              "    <tr>\n",
              "      <th>5</th>\n",
              "      <td>ORANGE COUNTY</td>\n",
              "      <td>1030185</td>\n",
              "      <td>12994</td>\n",
              "    </tr>\n",
              "    <tr>\n",
              "      <th>6</th>\n",
              "      <td>SAN DIEGO CA</td>\n",
              "      <td>959307</td>\n",
              "      <td>69995</td>\n",
              "    </tr>\n",
              "    <tr>\n",
              "      <th>7</th>\n",
              "      <td>PHOENIX AZ</td>\n",
              "      <td>943999</td>\n",
              "      <td>6133</td>\n",
              "    </tr>\n",
              "    <tr>\n",
              "      <th>8</th>\n",
              "      <td>DALLAS TX</td>\n",
              "      <td>942908</td>\n",
              "      <td>22157</td>\n",
              "    </tr>\n",
              "    <tr>\n",
              "      <th>9</th>\n",
              "      <td>ATLANTA GA</td>\n",
              "      <td>814885</td>\n",
              "      <td>24701</td>\n",
              "    </tr>\n",
              "    <tr>\n",
              "      <th>10</th>\n",
              "      <td>DENVER CO</td>\n",
              "      <td>754233</td>\n",
              "      <td>12421</td>\n",
              "    </tr>\n",
              "    <tr>\n",
              "      <th>11</th>\n",
              "      <td>AUSTIN TX</td>\n",
              "      <td>698371</td>\n",
              "      <td>14978</td>\n",
              "    </tr>\n",
              "    <tr>\n",
              "      <th>12</th>\n",
              "      <td>SEATTLE WA</td>\n",
              "      <td>671238</td>\n",
              "      <td>25063</td>\n",
              "    </tr>\n",
              "    <tr>\n",
              "      <th>13</th>\n",
              "      <td>TUCSON AZ</td>\n",
              "      <td>631442</td>\n",
              "      <td>5712</td>\n",
              "    </tr>\n",
              "    <tr>\n",
              "      <th>14</th>\n",
              "      <td>SAN FRANCISCO CA</td>\n",
              "      <td>629591</td>\n",
              "      <td>213609</td>\n",
              "    </tr>\n",
              "    <tr>\n",
              "      <th>15</th>\n",
              "      <td>SACRAMENTO CA</td>\n",
              "      <td>545776</td>\n",
              "      <td>7044</td>\n",
              "    </tr>\n",
              "    <tr>\n",
              "      <th>16</th>\n",
              "      <td>PITTSBURGH PA</td>\n",
              "      <td>542085</td>\n",
              "      <td>3643</td>\n",
              "    </tr>\n",
              "    <tr>\n",
              "      <th>17</th>\n",
              "      <td>WASHINGTON DC</td>\n",
              "      <td>418859</td>\n",
              "      <td>127001</td>\n",
              "    </tr>\n",
              "    <tr>\n",
              "      <th>18</th>\n",
              "      <td>NASHVILLE TN</td>\n",
              "      <td>327225</td>\n",
              "      <td>9270</td>\n",
              "    </tr>\n",
              "    <tr>\n",
              "      <th>19</th>\n",
              "      <td>BOSTON MA</td>\n",
              "      <td>248968</td>\n",
              "      <td>80021</td>\n",
              "    </tr>\n",
              "  </tbody>\n",
              "</table>\n",
              "</div>\n",
              "      <button class=\"colab-df-convert\" onclick=\"convertToInteractive('df-fa248e24-1918-43fc-8b56-52bd8c0a7134')\"\n",
              "              title=\"Convert this dataframe to an interactive table.\"\n",
              "              style=\"display:none;\">\n",
              "        \n",
              "  <svg xmlns=\"http://www.w3.org/2000/svg\" height=\"24px\"viewBox=\"0 0 24 24\"\n",
              "       width=\"24px\">\n",
              "    <path d=\"M0 0h24v24H0V0z\" fill=\"none\"/>\n",
              "    <path d=\"M18.56 5.44l.94 2.06.94-2.06 2.06-.94-2.06-.94-.94-2.06-.94 2.06-2.06.94zm-11 1L8.5 8.5l.94-2.06 2.06-.94-2.06-.94L8.5 2.5l-.94 2.06-2.06.94zm10 10l.94 2.06.94-2.06 2.06-.94-2.06-.94-.94-2.06-.94 2.06-2.06.94z\"/><path d=\"M17.41 7.96l-1.37-1.37c-.4-.4-.92-.59-1.43-.59-.52 0-1.04.2-1.43.59L10.3 9.45l-7.72 7.72c-.78.78-.78 2.05 0 2.83L4 21.41c.39.39.9.59 1.41.59.51 0 1.02-.2 1.41-.59l7.78-7.78 2.81-2.81c.8-.78.8-2.07 0-2.86zM5.41 20L4 18.59l7.72-7.72 1.47 1.35L5.41 20z\"/>\n",
              "  </svg>\n",
              "      </button>\n",
              "      \n",
              "  <style>\n",
              "    .colab-df-container {\n",
              "      display:flex;\n",
              "      flex-wrap:wrap;\n",
              "      gap: 12px;\n",
              "    }\n",
              "\n",
              "    .colab-df-convert {\n",
              "      background-color: #E8F0FE;\n",
              "      border: none;\n",
              "      border-radius: 50%;\n",
              "      cursor: pointer;\n",
              "      display: none;\n",
              "      fill: #1967D2;\n",
              "      height: 32px;\n",
              "      padding: 0 0 0 0;\n",
              "      width: 32px;\n",
              "    }\n",
              "\n",
              "    .colab-df-convert:hover {\n",
              "      background-color: #E2EBFA;\n",
              "      box-shadow: 0px 1px 2px rgba(60, 64, 67, 0.3), 0px 1px 3px 1px rgba(60, 64, 67, 0.15);\n",
              "      fill: #174EA6;\n",
              "    }\n",
              "\n",
              "    [theme=dark] .colab-df-convert {\n",
              "      background-color: #3B4455;\n",
              "      fill: #D2E3FC;\n",
              "    }\n",
              "\n",
              "    [theme=dark] .colab-df-convert:hover {\n",
              "      background-color: #434B5C;\n",
              "      box-shadow: 0px 1px 3px 1px rgba(0, 0, 0, 0.15);\n",
              "      filter: drop-shadow(0px 1px 2px rgba(0, 0, 0, 0.3));\n",
              "      fill: #FFFFFF;\n",
              "    }\n",
              "  </style>\n",
              "\n",
              "      <script>\n",
              "        const buttonEl =\n",
              "          document.querySelector('#df-fa248e24-1918-43fc-8b56-52bd8c0a7134 button.colab-df-convert');\n",
              "        buttonEl.style.display =\n",
              "          google.colab.kernel.accessAllowed ? 'block' : 'none';\n",
              "\n",
              "        async function convertToInteractive(key) {\n",
              "          const element = document.querySelector('#df-fa248e24-1918-43fc-8b56-52bd8c0a7134');\n",
              "          const dataTable =\n",
              "            await google.colab.kernel.invokeFunction('convertToInteractive',\n",
              "                                                     [key], {});\n",
              "          if (!dataTable) return;\n",
              "\n",
              "          const docLinkHtml = 'Like what you see? Visit the ' +\n",
              "            '<a target=\"_blank\" href=https://colab.research.google.com/notebooks/data_table.ipynb>data table notebook</a>'\n",
              "            + ' to learn more about interactive tables.';\n",
              "          element.innerHTML = '';\n",
              "          dataTable['output_type'] = 'display_data';\n",
              "          await google.colab.output.renderOutput(dataTable, element);\n",
              "          const docLink = document.createElement('div');\n",
              "          docLink.innerHTML = docLinkHtml;\n",
              "          element.appendChild(docLink);\n",
              "        }\n",
              "      </script>\n",
              "    </div>\n",
              "  </div>\n",
              "  "
            ]
          },
          "metadata": {},
          "execution_count": 30
        }
      ],
      "source": [
        "#Converting population and users to numeric values                          \n",
        "city['Population']=pd.to_numeric(city['Population'])\n",
        "city['Users']=pd.to_numeric(city['Users'])\n",
        "city"
      ]
    },
    {
      "cell_type": "code",
      "execution_count": 31,
      "id": "908a533f",
      "metadata": {
        "id": "908a533f",
        "colab": {
          "base_uri": "https://localhost:8080/"
        },
        "outputId": "b4941b57-4f0c-4f18-efdb-e9881594dead"
      },
      "outputs": [
        {
          "output_type": "stream",
          "name": "stdout",
          "text": [
            "<class 'pandas.core.frame.DataFrame'>\n",
            "RangeIndex: 20 entries, 0 to 19\n",
            "Data columns (total 3 columns):\n",
            " #   Column      Non-Null Count  Dtype \n",
            "---  ------      --------------  ----- \n",
            " 0   City        20 non-null     object\n",
            " 1   Population  20 non-null     int64 \n",
            " 2   Users       20 non-null     int64 \n",
            "dtypes: int64(2), object(1)\n",
            "memory usage: 608.0+ bytes\n"
          ]
        }
      ],
      "source": [
        "city.info()"
      ]
    },
    {
      "cell_type": "code",
      "execution_count": 32,
      "id": "4c2c3276",
      "metadata": {
        "id": "4c2c3276",
        "colab": {
          "base_uri": "https://localhost:8080/",
          "height": 206
        },
        "outputId": "122c710c-dd23-4a03-befa-b1ed86a7fadc"
      },
      "outputs": [
        {
          "output_type": "execute_result",
          "data": {
            "text/plain": [
              "   Customer ID Gender  Age  Income (USD/Month)\n",
              "0        29290   Male   28               10813\n",
              "1        27703   Male   27                9237\n",
              "2        28712   Male   53               11242\n",
              "3        28020   Male   23               23327\n",
              "4        27182   Male   33                8536"
            ],
            "text/html": [
              "\n",
              "  <div id=\"df-24ab6af4-b9fa-4c2a-98fc-bac03c00f189\">\n",
              "    <div class=\"colab-df-container\">\n",
              "      <div>\n",
              "<style scoped>\n",
              "    .dataframe tbody tr th:only-of-type {\n",
              "        vertical-align: middle;\n",
              "    }\n",
              "\n",
              "    .dataframe tbody tr th {\n",
              "        vertical-align: top;\n",
              "    }\n",
              "\n",
              "    .dataframe thead th {\n",
              "        text-align: right;\n",
              "    }\n",
              "</style>\n",
              "<table border=\"1\" class=\"dataframe\">\n",
              "  <thead>\n",
              "    <tr style=\"text-align: right;\">\n",
              "      <th></th>\n",
              "      <th>Customer ID</th>\n",
              "      <th>Gender</th>\n",
              "      <th>Age</th>\n",
              "      <th>Income (USD/Month)</th>\n",
              "    </tr>\n",
              "  </thead>\n",
              "  <tbody>\n",
              "    <tr>\n",
              "      <th>0</th>\n",
              "      <td>29290</td>\n",
              "      <td>Male</td>\n",
              "      <td>28</td>\n",
              "      <td>10813</td>\n",
              "    </tr>\n",
              "    <tr>\n",
              "      <th>1</th>\n",
              "      <td>27703</td>\n",
              "      <td>Male</td>\n",
              "      <td>27</td>\n",
              "      <td>9237</td>\n",
              "    </tr>\n",
              "    <tr>\n",
              "      <th>2</th>\n",
              "      <td>28712</td>\n",
              "      <td>Male</td>\n",
              "      <td>53</td>\n",
              "      <td>11242</td>\n",
              "    </tr>\n",
              "    <tr>\n",
              "      <th>3</th>\n",
              "      <td>28020</td>\n",
              "      <td>Male</td>\n",
              "      <td>23</td>\n",
              "      <td>23327</td>\n",
              "    </tr>\n",
              "    <tr>\n",
              "      <th>4</th>\n",
              "      <td>27182</td>\n",
              "      <td>Male</td>\n",
              "      <td>33</td>\n",
              "      <td>8536</td>\n",
              "    </tr>\n",
              "  </tbody>\n",
              "</table>\n",
              "</div>\n",
              "      <button class=\"colab-df-convert\" onclick=\"convertToInteractive('df-24ab6af4-b9fa-4c2a-98fc-bac03c00f189')\"\n",
              "              title=\"Convert this dataframe to an interactive table.\"\n",
              "              style=\"display:none;\">\n",
              "        \n",
              "  <svg xmlns=\"http://www.w3.org/2000/svg\" height=\"24px\"viewBox=\"0 0 24 24\"\n",
              "       width=\"24px\">\n",
              "    <path d=\"M0 0h24v24H0V0z\" fill=\"none\"/>\n",
              "    <path d=\"M18.56 5.44l.94 2.06.94-2.06 2.06-.94-2.06-.94-.94-2.06-.94 2.06-2.06.94zm-11 1L8.5 8.5l.94-2.06 2.06-.94-2.06-.94L8.5 2.5l-.94 2.06-2.06.94zm10 10l.94 2.06.94-2.06 2.06-.94-2.06-.94-.94-2.06-.94 2.06-2.06.94z\"/><path d=\"M17.41 7.96l-1.37-1.37c-.4-.4-.92-.59-1.43-.59-.52 0-1.04.2-1.43.59L10.3 9.45l-7.72 7.72c-.78.78-.78 2.05 0 2.83L4 21.41c.39.39.9.59 1.41.59.51 0 1.02-.2 1.41-.59l7.78-7.78 2.81-2.81c.8-.78.8-2.07 0-2.86zM5.41 20L4 18.59l7.72-7.72 1.47 1.35L5.41 20z\"/>\n",
              "  </svg>\n",
              "      </button>\n",
              "      \n",
              "  <style>\n",
              "    .colab-df-container {\n",
              "      display:flex;\n",
              "      flex-wrap:wrap;\n",
              "      gap: 12px;\n",
              "    }\n",
              "\n",
              "    .colab-df-convert {\n",
              "      background-color: #E8F0FE;\n",
              "      border: none;\n",
              "      border-radius: 50%;\n",
              "      cursor: pointer;\n",
              "      display: none;\n",
              "      fill: #1967D2;\n",
              "      height: 32px;\n",
              "      padding: 0 0 0 0;\n",
              "      width: 32px;\n",
              "    }\n",
              "\n",
              "    .colab-df-convert:hover {\n",
              "      background-color: #E2EBFA;\n",
              "      box-shadow: 0px 1px 2px rgba(60, 64, 67, 0.3), 0px 1px 3px 1px rgba(60, 64, 67, 0.15);\n",
              "      fill: #174EA6;\n",
              "    }\n",
              "\n",
              "    [theme=dark] .colab-df-convert {\n",
              "      background-color: #3B4455;\n",
              "      fill: #D2E3FC;\n",
              "    }\n",
              "\n",
              "    [theme=dark] .colab-df-convert:hover {\n",
              "      background-color: #434B5C;\n",
              "      box-shadow: 0px 1px 3px 1px rgba(0, 0, 0, 0.15);\n",
              "      filter: drop-shadow(0px 1px 2px rgba(0, 0, 0, 0.3));\n",
              "      fill: #FFFFFF;\n",
              "    }\n",
              "  </style>\n",
              "\n",
              "      <script>\n",
              "        const buttonEl =\n",
              "          document.querySelector('#df-24ab6af4-b9fa-4c2a-98fc-bac03c00f189 button.colab-df-convert');\n",
              "        buttonEl.style.display =\n",
              "          google.colab.kernel.accessAllowed ? 'block' : 'none';\n",
              "\n",
              "        async function convertToInteractive(key) {\n",
              "          const element = document.querySelector('#df-24ab6af4-b9fa-4c2a-98fc-bac03c00f189');\n",
              "          const dataTable =\n",
              "            await google.colab.kernel.invokeFunction('convertToInteractive',\n",
              "                                                     [key], {});\n",
              "          if (!dataTable) return;\n",
              "\n",
              "          const docLinkHtml = 'Like what you see? Visit the ' +\n",
              "            '<a target=\"_blank\" href=https://colab.research.google.com/notebooks/data_table.ipynb>data table notebook</a>'\n",
              "            + ' to learn more about interactive tables.';\n",
              "          element.innerHTML = '';\n",
              "          dataTable['output_type'] = 'display_data';\n",
              "          await google.colab.output.renderOutput(dataTable, element);\n",
              "          const docLink = document.createElement('div');\n",
              "          docLink.innerHTML = docLinkHtml;\n",
              "          element.appendChild(docLink);\n",
              "        }\n",
              "      </script>\n",
              "    </div>\n",
              "  </div>\n",
              "  "
            ]
          },
          "metadata": {},
          "execution_count": 32
        }
      ],
      "source": [
        "#customers data \n",
        "customer.head()"
      ]
    },
    {
      "cell_type": "code",
      "execution_count": 33,
      "id": "77b48ded",
      "metadata": {
        "id": "77b48ded",
        "colab": {
          "base_uri": "https://localhost:8080/"
        },
        "outputId": "61df8f1d-4987-4e96-c298-6ba923c58b0a"
      },
      "outputs": [
        {
          "output_type": "execute_result",
          "data": {
            "text/plain": [
              "(49171, 4)"
            ]
          },
          "metadata": {},
          "execution_count": 33
        }
      ],
      "source": [
        "customer.shape"
      ]
    },
    {
      "cell_type": "code",
      "execution_count": 34,
      "id": "a1182ed5",
      "metadata": {
        "id": "a1182ed5",
        "colab": {
          "base_uri": "https://localhost:8080/"
        },
        "outputId": "e7cb26a2-d239-4881-ceeb-8ac805a65999"
      },
      "outputs": [
        {
          "output_type": "stream",
          "name": "stdout",
          "text": [
            "<class 'pandas.core.frame.DataFrame'>\n",
            "RangeIndex: 49171 entries, 0 to 49170\n",
            "Data columns (total 4 columns):\n",
            " #   Column              Non-Null Count  Dtype \n",
            "---  ------              --------------  ----- \n",
            " 0   Customer ID         49171 non-null  int64 \n",
            " 1   Gender              49171 non-null  object\n",
            " 2   Age                 49171 non-null  int64 \n",
            " 3   Income (USD/Month)  49171 non-null  int64 \n",
            "dtypes: int64(3), object(1)\n",
            "memory usage: 1.5+ MB\n"
          ]
        }
      ],
      "source": [
        "customer.info()"
      ]
    },
    {
      "cell_type": "code",
      "execution_count": 35,
      "id": "3088545b",
      "metadata": {
        "id": "3088545b",
        "colab": {
          "base_uri": "https://localhost:8080/",
          "height": 300
        },
        "outputId": "8f7b9bb2-6822-41ed-e566-2a9308ce8634"
      },
      "outputs": [
        {
          "output_type": "execute_result",
          "data": {
            "text/plain": [
              "        Customer ID           Age  Income (USD/Month)\n",
              "count  49171.000000  49171.000000        49171.000000\n",
              "mean   28398.252283     35.363121        15015.631856\n",
              "std    17714.137333     12.599066         8002.208253\n",
              "min        1.000000     18.000000         2000.000000\n",
              "25%    12654.500000     25.000000         8289.500000\n",
              "50%    27631.000000     33.000000        14656.000000\n",
              "75%    43284.500000     42.000000        21035.000000\n",
              "max    60000.000000     65.000000        35000.000000"
            ],
            "text/html": [
              "\n",
              "  <div id=\"df-5b4de557-55fd-43f0-8df6-61b9685f2e17\">\n",
              "    <div class=\"colab-df-container\">\n",
              "      <div>\n",
              "<style scoped>\n",
              "    .dataframe tbody tr th:only-of-type {\n",
              "        vertical-align: middle;\n",
              "    }\n",
              "\n",
              "    .dataframe tbody tr th {\n",
              "        vertical-align: top;\n",
              "    }\n",
              "\n",
              "    .dataframe thead th {\n",
              "        text-align: right;\n",
              "    }\n",
              "</style>\n",
              "<table border=\"1\" class=\"dataframe\">\n",
              "  <thead>\n",
              "    <tr style=\"text-align: right;\">\n",
              "      <th></th>\n",
              "      <th>Customer ID</th>\n",
              "      <th>Age</th>\n",
              "      <th>Income (USD/Month)</th>\n",
              "    </tr>\n",
              "  </thead>\n",
              "  <tbody>\n",
              "    <tr>\n",
              "      <th>count</th>\n",
              "      <td>49171.000000</td>\n",
              "      <td>49171.000000</td>\n",
              "      <td>49171.000000</td>\n",
              "    </tr>\n",
              "    <tr>\n",
              "      <th>mean</th>\n",
              "      <td>28398.252283</td>\n",
              "      <td>35.363121</td>\n",
              "      <td>15015.631856</td>\n",
              "    </tr>\n",
              "    <tr>\n",
              "      <th>std</th>\n",
              "      <td>17714.137333</td>\n",
              "      <td>12.599066</td>\n",
              "      <td>8002.208253</td>\n",
              "    </tr>\n",
              "    <tr>\n",
              "      <th>min</th>\n",
              "      <td>1.000000</td>\n",
              "      <td>18.000000</td>\n",
              "      <td>2000.000000</td>\n",
              "    </tr>\n",
              "    <tr>\n",
              "      <th>25%</th>\n",
              "      <td>12654.500000</td>\n",
              "      <td>25.000000</td>\n",
              "      <td>8289.500000</td>\n",
              "    </tr>\n",
              "    <tr>\n",
              "      <th>50%</th>\n",
              "      <td>27631.000000</td>\n",
              "      <td>33.000000</td>\n",
              "      <td>14656.000000</td>\n",
              "    </tr>\n",
              "    <tr>\n",
              "      <th>75%</th>\n",
              "      <td>43284.500000</td>\n",
              "      <td>42.000000</td>\n",
              "      <td>21035.000000</td>\n",
              "    </tr>\n",
              "    <tr>\n",
              "      <th>max</th>\n",
              "      <td>60000.000000</td>\n",
              "      <td>65.000000</td>\n",
              "      <td>35000.000000</td>\n",
              "    </tr>\n",
              "  </tbody>\n",
              "</table>\n",
              "</div>\n",
              "      <button class=\"colab-df-convert\" onclick=\"convertToInteractive('df-5b4de557-55fd-43f0-8df6-61b9685f2e17')\"\n",
              "              title=\"Convert this dataframe to an interactive table.\"\n",
              "              style=\"display:none;\">\n",
              "        \n",
              "  <svg xmlns=\"http://www.w3.org/2000/svg\" height=\"24px\"viewBox=\"0 0 24 24\"\n",
              "       width=\"24px\">\n",
              "    <path d=\"M0 0h24v24H0V0z\" fill=\"none\"/>\n",
              "    <path d=\"M18.56 5.44l.94 2.06.94-2.06 2.06-.94-2.06-.94-.94-2.06-.94 2.06-2.06.94zm-11 1L8.5 8.5l.94-2.06 2.06-.94-2.06-.94L8.5 2.5l-.94 2.06-2.06.94zm10 10l.94 2.06.94-2.06 2.06-.94-2.06-.94-.94-2.06-.94 2.06-2.06.94z\"/><path d=\"M17.41 7.96l-1.37-1.37c-.4-.4-.92-.59-1.43-.59-.52 0-1.04.2-1.43.59L10.3 9.45l-7.72 7.72c-.78.78-.78 2.05 0 2.83L4 21.41c.39.39.9.59 1.41.59.51 0 1.02-.2 1.41-.59l7.78-7.78 2.81-2.81c.8-.78.8-2.07 0-2.86zM5.41 20L4 18.59l7.72-7.72 1.47 1.35L5.41 20z\"/>\n",
              "  </svg>\n",
              "      </button>\n",
              "      \n",
              "  <style>\n",
              "    .colab-df-container {\n",
              "      display:flex;\n",
              "      flex-wrap:wrap;\n",
              "      gap: 12px;\n",
              "    }\n",
              "\n",
              "    .colab-df-convert {\n",
              "      background-color: #E8F0FE;\n",
              "      border: none;\n",
              "      border-radius: 50%;\n",
              "      cursor: pointer;\n",
              "      display: none;\n",
              "      fill: #1967D2;\n",
              "      height: 32px;\n",
              "      padding: 0 0 0 0;\n",
              "      width: 32px;\n",
              "    }\n",
              "\n",
              "    .colab-df-convert:hover {\n",
              "      background-color: #E2EBFA;\n",
              "      box-shadow: 0px 1px 2px rgba(60, 64, 67, 0.3), 0px 1px 3px 1px rgba(60, 64, 67, 0.15);\n",
              "      fill: #174EA6;\n",
              "    }\n",
              "\n",
              "    [theme=dark] .colab-df-convert {\n",
              "      background-color: #3B4455;\n",
              "      fill: #D2E3FC;\n",
              "    }\n",
              "\n",
              "    [theme=dark] .colab-df-convert:hover {\n",
              "      background-color: #434B5C;\n",
              "      box-shadow: 0px 1px 3px 1px rgba(0, 0, 0, 0.15);\n",
              "      filter: drop-shadow(0px 1px 2px rgba(0, 0, 0, 0.3));\n",
              "      fill: #FFFFFF;\n",
              "    }\n",
              "  </style>\n",
              "\n",
              "      <script>\n",
              "        const buttonEl =\n",
              "          document.querySelector('#df-5b4de557-55fd-43f0-8df6-61b9685f2e17 button.colab-df-convert');\n",
              "        buttonEl.style.display =\n",
              "          google.colab.kernel.accessAllowed ? 'block' : 'none';\n",
              "\n",
              "        async function convertToInteractive(key) {\n",
              "          const element = document.querySelector('#df-5b4de557-55fd-43f0-8df6-61b9685f2e17');\n",
              "          const dataTable =\n",
              "            await google.colab.kernel.invokeFunction('convertToInteractive',\n",
              "                                                     [key], {});\n",
              "          if (!dataTable) return;\n",
              "\n",
              "          const docLinkHtml = 'Like what you see? Visit the ' +\n",
              "            '<a target=\"_blank\" href=https://colab.research.google.com/notebooks/data_table.ipynb>data table notebook</a>'\n",
              "            + ' to learn more about interactive tables.';\n",
              "          element.innerHTML = '';\n",
              "          dataTable['output_type'] = 'display_data';\n",
              "          await google.colab.output.renderOutput(dataTable, element);\n",
              "          const docLink = document.createElement('div');\n",
              "          docLink.innerHTML = docLinkHtml;\n",
              "          element.appendChild(docLink);\n",
              "        }\n",
              "      </script>\n",
              "    </div>\n",
              "  </div>\n",
              "  "
            ]
          },
          "metadata": {},
          "execution_count": 35
        }
      ],
      "source": [
        "customer.describe()"
      ]
    },
    {
      "cell_type": "code",
      "execution_count": 36,
      "id": "73d6f23c",
      "metadata": {
        "id": "73d6f23c",
        "colab": {
          "base_uri": "https://localhost:8080/",
          "height": 206
        },
        "outputId": "3a8a1d30-0345-4c16-805d-6f32613c80a3"
      },
      "outputs": [
        {
          "output_type": "execute_result",
          "data": {
            "text/plain": [
              "   Transaction ID  Customer ID Payment_Mode\n",
              "0        10000011        29290         Card\n",
              "1        10000012        27703         Card\n",
              "2        10000013        28712         Cash\n",
              "3        10000014        28020         Cash\n",
              "4        10000015        27182         Card"
            ],
            "text/html": [
              "\n",
              "  <div id=\"df-c95a1828-58d8-4ecf-be92-0fdf66efcdc6\">\n",
              "    <div class=\"colab-df-container\">\n",
              "      <div>\n",
              "<style scoped>\n",
              "    .dataframe tbody tr th:only-of-type {\n",
              "        vertical-align: middle;\n",
              "    }\n",
              "\n",
              "    .dataframe tbody tr th {\n",
              "        vertical-align: top;\n",
              "    }\n",
              "\n",
              "    .dataframe thead th {\n",
              "        text-align: right;\n",
              "    }\n",
              "</style>\n",
              "<table border=\"1\" class=\"dataframe\">\n",
              "  <thead>\n",
              "    <tr style=\"text-align: right;\">\n",
              "      <th></th>\n",
              "      <th>Transaction ID</th>\n",
              "      <th>Customer ID</th>\n",
              "      <th>Payment_Mode</th>\n",
              "    </tr>\n",
              "  </thead>\n",
              "  <tbody>\n",
              "    <tr>\n",
              "      <th>0</th>\n",
              "      <td>10000011</td>\n",
              "      <td>29290</td>\n",
              "      <td>Card</td>\n",
              "    </tr>\n",
              "    <tr>\n",
              "      <th>1</th>\n",
              "      <td>10000012</td>\n",
              "      <td>27703</td>\n",
              "      <td>Card</td>\n",
              "    </tr>\n",
              "    <tr>\n",
              "      <th>2</th>\n",
              "      <td>10000013</td>\n",
              "      <td>28712</td>\n",
              "      <td>Cash</td>\n",
              "    </tr>\n",
              "    <tr>\n",
              "      <th>3</th>\n",
              "      <td>10000014</td>\n",
              "      <td>28020</td>\n",
              "      <td>Cash</td>\n",
              "    </tr>\n",
              "    <tr>\n",
              "      <th>4</th>\n",
              "      <td>10000015</td>\n",
              "      <td>27182</td>\n",
              "      <td>Card</td>\n",
              "    </tr>\n",
              "  </tbody>\n",
              "</table>\n",
              "</div>\n",
              "      <button class=\"colab-df-convert\" onclick=\"convertToInteractive('df-c95a1828-58d8-4ecf-be92-0fdf66efcdc6')\"\n",
              "              title=\"Convert this dataframe to an interactive table.\"\n",
              "              style=\"display:none;\">\n",
              "        \n",
              "  <svg xmlns=\"http://www.w3.org/2000/svg\" height=\"24px\"viewBox=\"0 0 24 24\"\n",
              "       width=\"24px\">\n",
              "    <path d=\"M0 0h24v24H0V0z\" fill=\"none\"/>\n",
              "    <path d=\"M18.56 5.44l.94 2.06.94-2.06 2.06-.94-2.06-.94-.94-2.06-.94 2.06-2.06.94zm-11 1L8.5 8.5l.94-2.06 2.06-.94-2.06-.94L8.5 2.5l-.94 2.06-2.06.94zm10 10l.94 2.06.94-2.06 2.06-.94-2.06-.94-.94-2.06-.94 2.06-2.06.94z\"/><path d=\"M17.41 7.96l-1.37-1.37c-.4-.4-.92-.59-1.43-.59-.52 0-1.04.2-1.43.59L10.3 9.45l-7.72 7.72c-.78.78-.78 2.05 0 2.83L4 21.41c.39.39.9.59 1.41.59.51 0 1.02-.2 1.41-.59l7.78-7.78 2.81-2.81c.8-.78.8-2.07 0-2.86zM5.41 20L4 18.59l7.72-7.72 1.47 1.35L5.41 20z\"/>\n",
              "  </svg>\n",
              "      </button>\n",
              "      \n",
              "  <style>\n",
              "    .colab-df-container {\n",
              "      display:flex;\n",
              "      flex-wrap:wrap;\n",
              "      gap: 12px;\n",
              "    }\n",
              "\n",
              "    .colab-df-convert {\n",
              "      background-color: #E8F0FE;\n",
              "      border: none;\n",
              "      border-radius: 50%;\n",
              "      cursor: pointer;\n",
              "      display: none;\n",
              "      fill: #1967D2;\n",
              "      height: 32px;\n",
              "      padding: 0 0 0 0;\n",
              "      width: 32px;\n",
              "    }\n",
              "\n",
              "    .colab-df-convert:hover {\n",
              "      background-color: #E2EBFA;\n",
              "      box-shadow: 0px 1px 2px rgba(60, 64, 67, 0.3), 0px 1px 3px 1px rgba(60, 64, 67, 0.15);\n",
              "      fill: #174EA6;\n",
              "    }\n",
              "\n",
              "    [theme=dark] .colab-df-convert {\n",
              "      background-color: #3B4455;\n",
              "      fill: #D2E3FC;\n",
              "    }\n",
              "\n",
              "    [theme=dark] .colab-df-convert:hover {\n",
              "      background-color: #434B5C;\n",
              "      box-shadow: 0px 1px 3px 1px rgba(0, 0, 0, 0.15);\n",
              "      filter: drop-shadow(0px 1px 2px rgba(0, 0, 0, 0.3));\n",
              "      fill: #FFFFFF;\n",
              "    }\n",
              "  </style>\n",
              "\n",
              "      <script>\n",
              "        const buttonEl =\n",
              "          document.querySelector('#df-c95a1828-58d8-4ecf-be92-0fdf66efcdc6 button.colab-df-convert');\n",
              "        buttonEl.style.display =\n",
              "          google.colab.kernel.accessAllowed ? 'block' : 'none';\n",
              "\n",
              "        async function convertToInteractive(key) {\n",
              "          const element = document.querySelector('#df-c95a1828-58d8-4ecf-be92-0fdf66efcdc6');\n",
              "          const dataTable =\n",
              "            await google.colab.kernel.invokeFunction('convertToInteractive',\n",
              "                                                     [key], {});\n",
              "          if (!dataTable) return;\n",
              "\n",
              "          const docLinkHtml = 'Like what you see? Visit the ' +\n",
              "            '<a target=\"_blank\" href=https://colab.research.google.com/notebooks/data_table.ipynb>data table notebook</a>'\n",
              "            + ' to learn more about interactive tables.';\n",
              "          element.innerHTML = '';\n",
              "          dataTable['output_type'] = 'display_data';\n",
              "          await google.colab.output.renderOutput(dataTable, element);\n",
              "          const docLink = document.createElement('div');\n",
              "          docLink.innerHTML = docLinkHtml;\n",
              "          element.appendChild(docLink);\n",
              "        }\n",
              "      </script>\n",
              "    </div>\n",
              "  </div>\n",
              "  "
            ]
          },
          "metadata": {},
          "execution_count": 36
        }
      ],
      "source": [
        "#Transactions data\n",
        "transaction.head()"
      ]
    },
    {
      "cell_type": "code",
      "execution_count": 37,
      "id": "ac558acd",
      "metadata": {
        "id": "ac558acd",
        "colab": {
          "base_uri": "https://localhost:8080/"
        },
        "outputId": "2533f4d5-350e-4cdc-ba34-3ef13ad09e82"
      },
      "outputs": [
        {
          "output_type": "execute_result",
          "data": {
            "text/plain": [
              "(440098, 3)"
            ]
          },
          "metadata": {},
          "execution_count": 37
        }
      ],
      "source": [
        "transaction.shape"
      ]
    },
    {
      "cell_type": "code",
      "execution_count": 38,
      "id": "aa33890a",
      "metadata": {
        "id": "aa33890a",
        "colab": {
          "base_uri": "https://localhost:8080/"
        },
        "outputId": "961ea3ff-3ba9-4197-a3df-c1214288fdd2"
      },
      "outputs": [
        {
          "output_type": "stream",
          "name": "stdout",
          "text": [
            "<class 'pandas.core.frame.DataFrame'>\n",
            "RangeIndex: 440098 entries, 0 to 440097\n",
            "Data columns (total 3 columns):\n",
            " #   Column          Non-Null Count   Dtype \n",
            "---  ------          --------------   ----- \n",
            " 0   Transaction ID  440098 non-null  int64 \n",
            " 1   Customer ID     440098 non-null  int64 \n",
            " 2   Payment_Mode    440098 non-null  object\n",
            "dtypes: int64(2), object(1)\n",
            "memory usage: 10.1+ MB\n"
          ]
        }
      ],
      "source": [
        "transaction.info()"
      ]
    },
    {
      "cell_type": "code",
      "execution_count": 39,
      "id": "ad8d4581",
      "metadata": {
        "id": "ad8d4581",
        "colab": {
          "base_uri": "https://localhost:8080/",
          "height": 300
        },
        "outputId": "fb435223-38d7-4080-dcfb-078a38014772"
      },
      "outputs": [
        {
          "output_type": "execute_result",
          "data": {
            "text/plain": [
              "       Transaction ID    Customer ID\n",
              "count    4.400980e+05  440098.000000\n",
              "mean     1.022006e+07   23619.513120\n",
              "std      1.270455e+05   21195.549816\n",
              "min      1.000001e+07       1.000000\n",
              "25%      1.011004e+07    3530.000000\n",
              "50%      1.022006e+07   15168.000000\n",
              "75%      1.033008e+07   43884.000000\n",
              "max      1.044011e+07   60000.000000"
            ],
            "text/html": [
              "\n",
              "  <div id=\"df-43a2be66-09d7-4a74-8987-a8f4e96c9362\">\n",
              "    <div class=\"colab-df-container\">\n",
              "      <div>\n",
              "<style scoped>\n",
              "    .dataframe tbody tr th:only-of-type {\n",
              "        vertical-align: middle;\n",
              "    }\n",
              "\n",
              "    .dataframe tbody tr th {\n",
              "        vertical-align: top;\n",
              "    }\n",
              "\n",
              "    .dataframe thead th {\n",
              "        text-align: right;\n",
              "    }\n",
              "</style>\n",
              "<table border=\"1\" class=\"dataframe\">\n",
              "  <thead>\n",
              "    <tr style=\"text-align: right;\">\n",
              "      <th></th>\n",
              "      <th>Transaction ID</th>\n",
              "      <th>Customer ID</th>\n",
              "    </tr>\n",
              "  </thead>\n",
              "  <tbody>\n",
              "    <tr>\n",
              "      <th>count</th>\n",
              "      <td>4.400980e+05</td>\n",
              "      <td>440098.000000</td>\n",
              "    </tr>\n",
              "    <tr>\n",
              "      <th>mean</th>\n",
              "      <td>1.022006e+07</td>\n",
              "      <td>23619.513120</td>\n",
              "    </tr>\n",
              "    <tr>\n",
              "      <th>std</th>\n",
              "      <td>1.270455e+05</td>\n",
              "      <td>21195.549816</td>\n",
              "    </tr>\n",
              "    <tr>\n",
              "      <th>min</th>\n",
              "      <td>1.000001e+07</td>\n",
              "      <td>1.000000</td>\n",
              "    </tr>\n",
              "    <tr>\n",
              "      <th>25%</th>\n",
              "      <td>1.011004e+07</td>\n",
              "      <td>3530.000000</td>\n",
              "    </tr>\n",
              "    <tr>\n",
              "      <th>50%</th>\n",
              "      <td>1.022006e+07</td>\n",
              "      <td>15168.000000</td>\n",
              "    </tr>\n",
              "    <tr>\n",
              "      <th>75%</th>\n",
              "      <td>1.033008e+07</td>\n",
              "      <td>43884.000000</td>\n",
              "    </tr>\n",
              "    <tr>\n",
              "      <th>max</th>\n",
              "      <td>1.044011e+07</td>\n",
              "      <td>60000.000000</td>\n",
              "    </tr>\n",
              "  </tbody>\n",
              "</table>\n",
              "</div>\n",
              "      <button class=\"colab-df-convert\" onclick=\"convertToInteractive('df-43a2be66-09d7-4a74-8987-a8f4e96c9362')\"\n",
              "              title=\"Convert this dataframe to an interactive table.\"\n",
              "              style=\"display:none;\">\n",
              "        \n",
              "  <svg xmlns=\"http://www.w3.org/2000/svg\" height=\"24px\"viewBox=\"0 0 24 24\"\n",
              "       width=\"24px\">\n",
              "    <path d=\"M0 0h24v24H0V0z\" fill=\"none\"/>\n",
              "    <path d=\"M18.56 5.44l.94 2.06.94-2.06 2.06-.94-2.06-.94-.94-2.06-.94 2.06-2.06.94zm-11 1L8.5 8.5l.94-2.06 2.06-.94-2.06-.94L8.5 2.5l-.94 2.06-2.06.94zm10 10l.94 2.06.94-2.06 2.06-.94-2.06-.94-.94-2.06-.94 2.06-2.06.94z\"/><path d=\"M17.41 7.96l-1.37-1.37c-.4-.4-.92-.59-1.43-.59-.52 0-1.04.2-1.43.59L10.3 9.45l-7.72 7.72c-.78.78-.78 2.05 0 2.83L4 21.41c.39.39.9.59 1.41.59.51 0 1.02-.2 1.41-.59l7.78-7.78 2.81-2.81c.8-.78.8-2.07 0-2.86zM5.41 20L4 18.59l7.72-7.72 1.47 1.35L5.41 20z\"/>\n",
              "  </svg>\n",
              "      </button>\n",
              "      \n",
              "  <style>\n",
              "    .colab-df-container {\n",
              "      display:flex;\n",
              "      flex-wrap:wrap;\n",
              "      gap: 12px;\n",
              "    }\n",
              "\n",
              "    .colab-df-convert {\n",
              "      background-color: #E8F0FE;\n",
              "      border: none;\n",
              "      border-radius: 50%;\n",
              "      cursor: pointer;\n",
              "      display: none;\n",
              "      fill: #1967D2;\n",
              "      height: 32px;\n",
              "      padding: 0 0 0 0;\n",
              "      width: 32px;\n",
              "    }\n",
              "\n",
              "    .colab-df-convert:hover {\n",
              "      background-color: #E2EBFA;\n",
              "      box-shadow: 0px 1px 2px rgba(60, 64, 67, 0.3), 0px 1px 3px 1px rgba(60, 64, 67, 0.15);\n",
              "      fill: #174EA6;\n",
              "    }\n",
              "\n",
              "    [theme=dark] .colab-df-convert {\n",
              "      background-color: #3B4455;\n",
              "      fill: #D2E3FC;\n",
              "    }\n",
              "\n",
              "    [theme=dark] .colab-df-convert:hover {\n",
              "      background-color: #434B5C;\n",
              "      box-shadow: 0px 1px 3px 1px rgba(0, 0, 0, 0.15);\n",
              "      filter: drop-shadow(0px 1px 2px rgba(0, 0, 0, 0.3));\n",
              "      fill: #FFFFFF;\n",
              "    }\n",
              "  </style>\n",
              "\n",
              "      <script>\n",
              "        const buttonEl =\n",
              "          document.querySelector('#df-43a2be66-09d7-4a74-8987-a8f4e96c9362 button.colab-df-convert');\n",
              "        buttonEl.style.display =\n",
              "          google.colab.kernel.accessAllowed ? 'block' : 'none';\n",
              "\n",
              "        async function convertToInteractive(key) {\n",
              "          const element = document.querySelector('#df-43a2be66-09d7-4a74-8987-a8f4e96c9362');\n",
              "          const dataTable =\n",
              "            await google.colab.kernel.invokeFunction('convertToInteractive',\n",
              "                                                     [key], {});\n",
              "          if (!dataTable) return;\n",
              "\n",
              "          const docLinkHtml = 'Like what you see? Visit the ' +\n",
              "            '<a target=\"_blank\" href=https://colab.research.google.com/notebooks/data_table.ipynb>data table notebook</a>'\n",
              "            + ' to learn more about interactive tables.';\n",
              "          element.innerHTML = '';\n",
              "          dataTable['output_type'] = 'display_data';\n",
              "          await google.colab.output.renderOutput(dataTable, element);\n",
              "          const docLink = document.createElement('div');\n",
              "          docLink.innerHTML = docLinkHtml;\n",
              "          element.appendChild(docLink);\n",
              "        }\n",
              "      </script>\n",
              "    </div>\n",
              "  </div>\n",
              "  "
            ]
          },
          "metadata": {},
          "execution_count": 39
        }
      ],
      "source": [
        "transaction.describe()"
      ]
    },
    {
      "cell_type": "code",
      "execution_count": 40,
      "id": "16ac2811",
      "metadata": {
        "id": "16ac2811"
      },
      "outputs": [],
      "source": [
        "#merging datas\n",
        "#The city and cab dataset are related ,\n",
        "#City Name in the city dataset is related to the city Name in the cab dataset.\n",
        "merged_data=pd.merge(city,cab)"
      ]
    },
    {
      "cell_type": "code",
      "execution_count": 41,
      "id": "4b3ef5d0",
      "metadata": {
        "id": "4b3ef5d0",
        "colab": {
          "base_uri": "https://localhost:8080/"
        },
        "outputId": "397fed3a-d99a-49b7-87bf-b192991cf684"
      },
      "outputs": [
        {
          "output_type": "stream",
          "name": "stdout",
          "text": [
            "               City  Population   Users  Transaction ID Date of Travel  \\\n",
            "0       NEW YORK NY     8405837  302149        10000139     07-01-2016   \n",
            "1       NEW YORK NY     8405837  302149        10000140     08-01-2016   \n",
            "2       NEW YORK NY     8405837  302149        10000141     05-01-2016   \n",
            "3       NEW YORK NY     8405837  302149        10000142     03-01-2016   \n",
            "4       NEW YORK NY     8405837  302149        10000143     08-01-2016   \n",
            "...             ...         ...     ...             ...            ...   \n",
            "160144    BOSTON MA      248968   80021        10197460     20-07-2017   \n",
            "160145    BOSTON MA      248968   80021        10197461     15-07-2017   \n",
            "160146    BOSTON MA      248968   80021        10197462     19-07-2017   \n",
            "160147    BOSTON MA      248968   80021        10197463     22-07-2017   \n",
            "160148    BOSTON MA      248968   80021        10197464     24-07-2017   \n",
            "\n",
            "           Company  KM Travelled  Price Charged  Cost of Trip  \n",
            "0         Pink Cab         17.85         242.90      198.1350  \n",
            "1         Pink Cab         25.30         407.21      255.5300  \n",
            "2         Pink Cab         16.32         236.41      186.0480  \n",
            "3         Pink Cab         12.43         194.61      144.1880  \n",
            "4         Pink Cab         29.70         434.57      350.4600  \n",
            "...            ...           ...            ...           ...  \n",
            "160144  Yellow Cab          2.00          27.80       25.9200  \n",
            "160145  Yellow Cab         26.88         412.57      383.8464  \n",
            "160146  Yellow Cab         35.31         434.18      474.5664  \n",
            "160147  Yellow Cab          5.60          73.35       70.5600  \n",
            "160148  Yellow Cab         20.14         250.34      253.7640  \n",
            "\n",
            "[160149 rows x 9 columns]\n"
          ]
        }
      ],
      "source": [
        "merged_data\n",
        "print(merged_data)"
      ]
    },
    {
      "cell_type": "code",
      "source": [
        "#cab.shape\n",
        "#city.shape\n",
        "merged_data.shape"
      ],
      "metadata": {
        "id": "w0zGBmMb0YHY",
        "colab": {
          "base_uri": "https://localhost:8080/"
        },
        "outputId": "f78c5d2d-1306-4a03-8edd-e017c19f94c2"
      },
      "id": "w0zGBmMb0YHY",
      "execution_count": 42,
      "outputs": [
        {
          "output_type": "execute_result",
          "data": {
            "text/plain": [
              "(160149, 9)"
            ]
          },
          "metadata": {},
          "execution_count": 42
        }
      ]
    },
    {
      "cell_type": "code",
      "execution_count": 43,
      "id": "c1b19273",
      "metadata": {
        "id": "c1b19273"
      },
      "outputs": [],
      "source": [
        "#The customers dataset and transactions datasets are related through the Customer ID\n",
        "merged_data = pd.merge(merged_data, transaction)"
      ]
    },
    {
      "cell_type": "code",
      "execution_count": 44,
      "id": "9c522c1b",
      "metadata": {
        "id": "9c522c1b",
        "colab": {
          "base_uri": "https://localhost:8080/"
        },
        "outputId": "cd686374-c87b-4c6c-8b12-d36fe0ea4551"
      },
      "outputs": [
        {
          "output_type": "stream",
          "name": "stdout",
          "text": [
            "               City  Population   Users  Transaction ID Date of Travel  \\\n",
            "0       NEW YORK NY     8405837  302149        10000139     07-01-2016   \n",
            "1       NEW YORK NY     8405837  302149        10000140     08-01-2016   \n",
            "2       NEW YORK NY     8405837  302149        10000141     05-01-2016   \n",
            "3       NEW YORK NY     8405837  302149        10000142     03-01-2016   \n",
            "4       NEW YORK NY     8405837  302149        10000143     08-01-2016   \n",
            "...             ...         ...     ...             ...            ...   \n",
            "160144    BOSTON MA      248968   80021        10197460     20-07-2017   \n",
            "160145    BOSTON MA      248968   80021        10197461     15-07-2017   \n",
            "160146    BOSTON MA      248968   80021        10197462     19-07-2017   \n",
            "160147    BOSTON MA      248968   80021        10197463     22-07-2017   \n",
            "160148    BOSTON MA      248968   80021        10197464     24-07-2017   \n",
            "\n",
            "           Company  KM Travelled  Price Charged  Cost of Trip  Customer ID  \\\n",
            "0         Pink Cab         17.85         242.90      198.1350         2416   \n",
            "1         Pink Cab         25.30         407.21      255.5300         2060   \n",
            "2         Pink Cab         16.32         236.41      186.0480         1451   \n",
            "3         Pink Cab         12.43         194.61      144.1880         1609   \n",
            "4         Pink Cab         29.70         434.57      350.4600         2927   \n",
            "...            ...           ...            ...           ...          ...   \n",
            "160144  Yellow Cab          2.00          27.80       25.9200        58411   \n",
            "160145  Yellow Cab         26.88         412.57      383.8464        57968   \n",
            "160146  Yellow Cab         35.31         434.18      474.5664        57354   \n",
            "160147  Yellow Cab          5.60          73.35       70.5600        59970   \n",
            "160148  Yellow Cab         20.14         250.34      253.7640        58809   \n",
            "\n",
            "       Payment_Mode  \n",
            "0              Cash  \n",
            "1              Card  \n",
            "2              Card  \n",
            "3              Card  \n",
            "4              Cash  \n",
            "...             ...  \n",
            "160144         Card  \n",
            "160145         Card  \n",
            "160146         Card  \n",
            "160147         Card  \n",
            "160148         Cash  \n",
            "\n",
            "[160149 rows x 11 columns]\n"
          ]
        }
      ],
      "source": [
        "merged_data\n",
        "print(merged_data)"
      ]
    },
    {
      "cell_type": "code",
      "source": [
        "merged_data.shape"
      ],
      "metadata": {
        "id": "zBHSjVRmz7wT",
        "colab": {
          "base_uri": "https://localhost:8080/"
        },
        "outputId": "32c4d23d-d391-4fb6-e3d1-f13a9d10d6d7"
      },
      "id": "zBHSjVRmz7wT",
      "execution_count": 45,
      "outputs": [
        {
          "output_type": "execute_result",
          "data": {
            "text/plain": [
              "(160149, 11)"
            ]
          },
          "metadata": {},
          "execution_count": 45
        }
      ]
    },
    {
      "cell_type": "code",
      "execution_count": 46,
      "id": "aee10c33",
      "metadata": {
        "id": "aee10c33"
      },
      "outputs": [],
      "source": [
        "#The tranactions dataset and the customer datasest are related through the Transaction ID\n",
        "merged_data = pd.merge(merged_data,customer )"
      ]
    },
    {
      "cell_type": "code",
      "execution_count": 47,
      "id": "9ef6338b",
      "metadata": {
        "id": "9ef6338b",
        "colab": {
          "base_uri": "https://localhost:8080/"
        },
        "outputId": "884f7790-5e1b-4d09-c904-015fbd777094"
      },
      "outputs": [
        {
          "output_type": "stream",
          "name": "stdout",
          "text": [
            "               City  Population   Users  Transaction ID Date of Travel  \\\n",
            "0       NEW YORK NY     8405837  302149        10000139     07-01-2016   \n",
            "1       NEW YORK NY     8405837  302149        10006684     04-02-2016   \n",
            "2       NEW YORK NY     8405837  302149        10015798     12-03-2016   \n",
            "3       NEW YORK NY     8405837  302149        10074689     07-09-2016   \n",
            "4       NEW YORK NY     8405837  302149        10078883     17-09-2016   \n",
            "...             ...         ...     ...             ...            ...   \n",
            "160144    BOSTON MA      248968   80021        10194731     17-07-2017   \n",
            "160145    BOSTON MA      248968   80021        10194754     11-07-2017   \n",
            "160146    BOSTON MA      248968   80021        10196584     17-07-2017   \n",
            "160147    BOSTON MA      248968   80021        10197378     20-07-2017   \n",
            "160148    BOSTON MA      248968   80021        10197438     20-07-2017   \n",
            "\n",
            "           Company  KM Travelled  Price Charged  Cost of Trip  Customer ID  \\\n",
            "0         Pink Cab         17.85         242.90      198.1350         2416   \n",
            "1       Yellow Cab         34.34        1099.35      482.1336         2416   \n",
            "2       Yellow Cab         19.20         559.30      264.9600         2416   \n",
            "3       Yellow Cab         14.84         322.28      179.8608         2416   \n",
            "4         Pink Cab         37.08         728.27      393.0480         2416   \n",
            "...            ...           ...            ...           ...          ...   \n",
            "160144  Yellow Cab         39.78         515.32      544.1904        59630   \n",
            "160145  Yellow Cab         12.35         158.32      171.9120        57941   \n",
            "160146    Pink Cab         15.21         195.02      177.9570        59923   \n",
            "160147  Yellow Cab         27.44         390.80      378.6720        58171   \n",
            "160148  Yellow Cab         14.14         229.39      193.4352        57404   \n",
            "\n",
            "       Payment_Mode  Gender  Age  Income (USD/Month)  \n",
            "0              Cash    Male   28               21399  \n",
            "1              Cash    Male   28               21399  \n",
            "2              Card    Male   28               21399  \n",
            "3              Card    Male   28               21399  \n",
            "4              Card    Male   28               21399  \n",
            "...             ...     ...  ...                 ...  \n",
            "160144         Card  Female   27               34451  \n",
            "160145         Card    Male   22               12477  \n",
            "160146         Cash  Female   33               19089  \n",
            "160147         Card    Male   24                9745  \n",
            "160148         Card    Male   43                3492  \n",
            "\n",
            "[160149 rows x 14 columns]\n"
          ]
        }
      ],
      "source": [
        "merged_data\n",
        "print(merged_data)"
      ]
    },
    {
      "cell_type": "code",
      "source": [
        "\n",
        "merged_data.shape"
      ],
      "metadata": {
        "id": "mjPeYnEM1g7f",
        "colab": {
          "base_uri": "https://localhost:8080/"
        },
        "outputId": "b9cbe28d-d230-4543-f317-c8a8469d9bef"
      },
      "id": "mjPeYnEM1g7f",
      "execution_count": 48,
      "outputs": [
        {
          "output_type": "execute_result",
          "data": {
            "text/plain": [
              "(160149, 14)"
            ]
          },
          "metadata": {},
          "execution_count": 48
        }
      ]
    },
    {
      "cell_type": "code",
      "source": [
        "#replace \",\" with space for numbers in population\n",
        "#city['Population']=city['Population'].str.replace(\",\",\"\")\n",
        "#city['Users']=city['Users'].str.replace(\",\",\"\")           \n",
        "#city"
      ],
      "metadata": {
        "id": "4Fv3SePC17-M"
      },
      "id": "4Fv3SePC17-M",
      "execution_count": 49,
      "outputs": []
    },
    {
      "cell_type": "code",
      "execution_count": 50,
      "id": "a99c2f31",
      "metadata": {
        "id": "a99c2f31",
        "colab": {
          "base_uri": "https://localhost:8080/"
        },
        "outputId": "0d6ffd38-cc61-412f-fd8f-85ab3c3021e4"
      },
      "outputs": [
        {
          "output_type": "stream",
          "name": "stdout",
          "text": [
            "               City  Population   Users  Transaction_ID Date_of_Travel  \\\n",
            "0       NEW YORK NY     8405837  302149        10000139     07-01-2016   \n",
            "1       NEW YORK NY     8405837  302149        10006684     04-02-2016   \n",
            "2       NEW YORK NY     8405837  302149        10015798     12-03-2016   \n",
            "3       NEW YORK NY     8405837  302149        10074689     07-09-2016   \n",
            "4       NEW YORK NY     8405837  302149        10078883     17-09-2016   \n",
            "...             ...         ...     ...             ...            ...   \n",
            "160144    BOSTON MA      248968   80021        10194731     17-07-2017   \n",
            "160145    BOSTON MA      248968   80021        10194754     11-07-2017   \n",
            "160146    BOSTON MA      248968   80021        10196584     17-07-2017   \n",
            "160147    BOSTON MA      248968   80021        10197378     20-07-2017   \n",
            "160148    BOSTON MA      248968   80021        10197438     20-07-2017   \n",
            "\n",
            "           Company  KM_Travelled  Price_Charged  Cost_of_Trip  Customer_ID  \\\n",
            "0         Pink Cab         17.85         242.90      198.1350         2416   \n",
            "1       Yellow Cab         34.34        1099.35      482.1336         2416   \n",
            "2       Yellow Cab         19.20         559.30      264.9600         2416   \n",
            "3       Yellow Cab         14.84         322.28      179.8608         2416   \n",
            "4         Pink Cab         37.08         728.27      393.0480         2416   \n",
            "...            ...           ...            ...           ...          ...   \n",
            "160144  Yellow Cab         39.78         515.32      544.1904        59630   \n",
            "160145  Yellow Cab         12.35         158.32      171.9120        57941   \n",
            "160146    Pink Cab         15.21         195.02      177.9570        59923   \n",
            "160147  Yellow Cab         27.44         390.80      378.6720        58171   \n",
            "160148  Yellow Cab         14.14         229.39      193.4352        57404   \n",
            "\n",
            "       Payment_Mode  Gender  Age  Income_(USD/Month)  \n",
            "0              Cash    Male   28               21399  \n",
            "1              Cash    Male   28               21399  \n",
            "2              Card    Male   28               21399  \n",
            "3              Card    Male   28               21399  \n",
            "4              Card    Male   28               21399  \n",
            "...             ...     ...  ...                 ...  \n",
            "160144         Card  Female   27               34451  \n",
            "160145         Card    Male   22               12477  \n",
            "160146         Cash  Female   33               19089  \n",
            "160147         Card    Male   24                9745  \n",
            "160148         Card    Male   43                3492  \n",
            "\n",
            "[160149 rows x 14 columns]\n"
          ]
        }
      ],
      "source": [
        "merged_data.columns=merged_data.columns.str.replace(\" \",\"_\")            \n",
        "merged_data\n",
        "print(merged_data)"
      ]
    },
    {
      "cell_type": "code",
      "execution_count": 51,
      "id": "d163f085",
      "metadata": {
        "id": "d163f085",
        "colab": {
          "base_uri": "https://localhost:8080/",
          "height": 113
        },
        "outputId": "2352c216-c2ae-463c-f846-f4fb2446e5d8"
      },
      "outputs": [
        {
          "output_type": "execute_result",
          "data": {
            "text/plain": [
              "Empty DataFrame\n",
              "Columns: [City, Population, Users, Transaction_ID, Date_of_Travel, Company, KM_Travelled, Price_Charged, Cost_of_Trip, Customer_ID, Payment_Mode, Gender, Age, Income_(USD/Month)]\n",
              "Index: []"
            ],
            "text/html": [
              "\n",
              "  <div id=\"df-ccc0e9fe-acb8-4d2e-ac71-854ec44b19d5\">\n",
              "    <div class=\"colab-df-container\">\n",
              "      <div>\n",
              "<style scoped>\n",
              "    .dataframe tbody tr th:only-of-type {\n",
              "        vertical-align: middle;\n",
              "    }\n",
              "\n",
              "    .dataframe tbody tr th {\n",
              "        vertical-align: top;\n",
              "    }\n",
              "\n",
              "    .dataframe thead th {\n",
              "        text-align: right;\n",
              "    }\n",
              "</style>\n",
              "<table border=\"1\" class=\"dataframe\">\n",
              "  <thead>\n",
              "    <tr style=\"text-align: right;\">\n",
              "      <th></th>\n",
              "      <th>City</th>\n",
              "      <th>Population</th>\n",
              "      <th>Users</th>\n",
              "      <th>Transaction_ID</th>\n",
              "      <th>Date_of_Travel</th>\n",
              "      <th>Company</th>\n",
              "      <th>KM_Travelled</th>\n",
              "      <th>Price_Charged</th>\n",
              "      <th>Cost_of_Trip</th>\n",
              "      <th>Customer_ID</th>\n",
              "      <th>Payment_Mode</th>\n",
              "      <th>Gender</th>\n",
              "      <th>Age</th>\n",
              "      <th>Income_(USD/Month)</th>\n",
              "    </tr>\n",
              "  </thead>\n",
              "  <tbody>\n",
              "  </tbody>\n",
              "</table>\n",
              "</div>\n",
              "      <button class=\"colab-df-convert\" onclick=\"convertToInteractive('df-ccc0e9fe-acb8-4d2e-ac71-854ec44b19d5')\"\n",
              "              title=\"Convert this dataframe to an interactive table.\"\n",
              "              style=\"display:none;\">\n",
              "        \n",
              "  <svg xmlns=\"http://www.w3.org/2000/svg\" height=\"24px\"viewBox=\"0 0 24 24\"\n",
              "       width=\"24px\">\n",
              "    <path d=\"M0 0h24v24H0V0z\" fill=\"none\"/>\n",
              "    <path d=\"M18.56 5.44l.94 2.06.94-2.06 2.06-.94-2.06-.94-.94-2.06-.94 2.06-2.06.94zm-11 1L8.5 8.5l.94-2.06 2.06-.94-2.06-.94L8.5 2.5l-.94 2.06-2.06.94zm10 10l.94 2.06.94-2.06 2.06-.94-2.06-.94-.94-2.06-.94 2.06-2.06.94z\"/><path d=\"M17.41 7.96l-1.37-1.37c-.4-.4-.92-.59-1.43-.59-.52 0-1.04.2-1.43.59L10.3 9.45l-7.72 7.72c-.78.78-.78 2.05 0 2.83L4 21.41c.39.39.9.59 1.41.59.51 0 1.02-.2 1.41-.59l7.78-7.78 2.81-2.81c.8-.78.8-2.07 0-2.86zM5.41 20L4 18.59l7.72-7.72 1.47 1.35L5.41 20z\"/>\n",
              "  </svg>\n",
              "      </button>\n",
              "      \n",
              "  <style>\n",
              "    .colab-df-container {\n",
              "      display:flex;\n",
              "      flex-wrap:wrap;\n",
              "      gap: 12px;\n",
              "    }\n",
              "\n",
              "    .colab-df-convert {\n",
              "      background-color: #E8F0FE;\n",
              "      border: none;\n",
              "      border-radius: 50%;\n",
              "      cursor: pointer;\n",
              "      display: none;\n",
              "      fill: #1967D2;\n",
              "      height: 32px;\n",
              "      padding: 0 0 0 0;\n",
              "      width: 32px;\n",
              "    }\n",
              "\n",
              "    .colab-df-convert:hover {\n",
              "      background-color: #E2EBFA;\n",
              "      box-shadow: 0px 1px 2px rgba(60, 64, 67, 0.3), 0px 1px 3px 1px rgba(60, 64, 67, 0.15);\n",
              "      fill: #174EA6;\n",
              "    }\n",
              "\n",
              "    [theme=dark] .colab-df-convert {\n",
              "      background-color: #3B4455;\n",
              "      fill: #D2E3FC;\n",
              "    }\n",
              "\n",
              "    [theme=dark] .colab-df-convert:hover {\n",
              "      background-color: #434B5C;\n",
              "      box-shadow: 0px 1px 3px 1px rgba(0, 0, 0, 0.15);\n",
              "      filter: drop-shadow(0px 1px 2px rgba(0, 0, 0, 0.3));\n",
              "      fill: #FFFFFF;\n",
              "    }\n",
              "  </style>\n",
              "\n",
              "      <script>\n",
              "        const buttonEl =\n",
              "          document.querySelector('#df-ccc0e9fe-acb8-4d2e-ac71-854ec44b19d5 button.colab-df-convert');\n",
              "        buttonEl.style.display =\n",
              "          google.colab.kernel.accessAllowed ? 'block' : 'none';\n",
              "\n",
              "        async function convertToInteractive(key) {\n",
              "          const element = document.querySelector('#df-ccc0e9fe-acb8-4d2e-ac71-854ec44b19d5');\n",
              "          const dataTable =\n",
              "            await google.colab.kernel.invokeFunction('convertToInteractive',\n",
              "                                                     [key], {});\n",
              "          if (!dataTable) return;\n",
              "\n",
              "          const docLinkHtml = 'Like what you see? Visit the ' +\n",
              "            '<a target=\"_blank\" href=https://colab.research.google.com/notebooks/data_table.ipynb>data table notebook</a>'\n",
              "            + ' to learn more about interactive tables.';\n",
              "          element.innerHTML = '';\n",
              "          dataTable['output_type'] = 'display_data';\n",
              "          await google.colab.output.renderOutput(dataTable, element);\n",
              "          const docLink = document.createElement('div');\n",
              "          docLink.innerHTML = docLinkHtml;\n",
              "          element.appendChild(docLink);\n",
              "        }\n",
              "      </script>\n",
              "    </div>\n",
              "  </div>\n",
              "  "
            ]
          },
          "metadata": {},
          "execution_count": 51
        }
      ],
      "source": [
        "#find duplicates\n",
        "merged_data[merged_data.duplicated()]                                   "
      ]
    },
    {
      "cell_type": "code",
      "execution_count": 52,
      "id": "e2885fff",
      "metadata": {
        "id": "e2885fff",
        "colab": {
          "base_uri": "https://localhost:8080/"
        },
        "outputId": "f7d0f3fc-d15c-49a8-a125-9ca8d65794ac"
      },
      "outputs": [
        {
          "output_type": "execute_result",
          "data": {
            "text/plain": [
              "KM_Travelled          1\n",
              "Price_Charged         1\n",
              "Cost_of_Trip          1\n",
              "City                  0\n",
              "Population            0\n",
              "Users                 0\n",
              "Transaction_ID        0\n",
              "Date_of_Travel        0\n",
              "Company               0\n",
              "Customer_ID           0\n",
              "Payment_Mode          0\n",
              "Gender                0\n",
              "Age                   0\n",
              "Income_(USD/Month)    0\n",
              "dtype: int64"
            ]
          },
          "metadata": {},
          "execution_count": 52
        }
      ],
      "source": [
        "merged_data.isnull().sum().sort_values(ascending=False)                 "
      ]
    },
    {
      "cell_type": "code",
      "execution_count": 53,
      "id": "dcbade77",
      "metadata": {
        "id": "dcbade77",
        "colab": {
          "base_uri": "https://localhost:8080/"
        },
        "outputId": "6f235124-3e31-4f41-ae74-55087d0a38e1"
      },
      "outputs": [
        {
          "output_type": "stream",
          "name": "stderr",
          "text": [
            "/usr/local/lib/python3.7/dist-packages/ipykernel_launcher.py:9: FutureWarning: weekofyear and week have been deprecated, please use DatetimeIndex.isocalendar().week instead, which returns a Series.  To exactly reproduce the behavior of week and weekofyear and return an Index, you may call pd.Int64Index(idx.isocalendar().week)\n",
            "  if __name__ == '__main__':\n"
          ]
        },
        {
          "output_type": "stream",
          "name": "stdout",
          "text": [
            "               City  Population   Users  Transaction_ID Date_of_Travel  \\\n",
            "0       NEW YORK NY     8405837  302149        10000139     07-01-2016   \n",
            "1       NEW YORK NY     8405837  302149        10006684     04-02-2016   \n",
            "2       NEW YORK NY     8405837  302149        10015798     12-03-2016   \n",
            "3       NEW YORK NY     8405837  302149        10074689     07-09-2016   \n",
            "4       NEW YORK NY     8405837  302149        10078883     17-09-2016   \n",
            "...             ...         ...     ...             ...            ...   \n",
            "160144    BOSTON MA      248968   80021        10194731     17-07-2017   \n",
            "160145    BOSTON MA      248968   80021        10194754     11-07-2017   \n",
            "160146    BOSTON MA      248968   80021        10196584     17-07-2017   \n",
            "160147    BOSTON MA      248968   80021        10197378     20-07-2017   \n",
            "160148    BOSTON MA      248968   80021        10197438     20-07-2017   \n",
            "\n",
            "           Company  KM_Travelled  Price_Charged  Cost_of_Trip  Customer_ID  \\\n",
            "0         Pink Cab         17.85         242.90      198.1350         2416   \n",
            "1       Yellow Cab         34.34        1099.35      482.1336         2416   \n",
            "2       Yellow Cab         19.20         559.30      264.9600         2416   \n",
            "3       Yellow Cab         14.84         322.28      179.8608         2416   \n",
            "4         Pink Cab         37.08         728.27      393.0480         2416   \n",
            "...            ...           ...            ...           ...          ...   \n",
            "160144  Yellow Cab         39.78         515.32      544.1904        59630   \n",
            "160145  Yellow Cab         12.35         158.32      171.9120        57941   \n",
            "160146    Pink Cab         15.21         195.02      177.9570        59923   \n",
            "160147  Yellow Cab         27.44         390.80      378.6720        58171   \n",
            "160148  Yellow Cab         14.14         229.39      193.4352        57404   \n",
            "\n",
            "       Payment_Mode  Gender  Age  Income_(USD/Month)  Month  Day  Year  \\\n",
            "0              Cash    Male   28               21399      7    1  2016   \n",
            "1              Cash    Male   28               21399      4    2  2016   \n",
            "2              Card    Male   28               21399     12    3  2016   \n",
            "3              Card    Male   28               21399      7    9  2016   \n",
            "4              Card    Male   28               21399      9   17  2016   \n",
            "...             ...     ...  ...                 ...    ...  ...   ...   \n",
            "160144         Card  Female   27               34451      7   17  2017   \n",
            "160145         Card    Male   22               12477     11    7  2017   \n",
            "160146         Cash  Female   33               19089      7   17  2017   \n",
            "160147         Card    Male   24                9745      7   20  2017   \n",
            "160148         Card    Male   43                3492      7   20  2017   \n",
            "\n",
            "        Year_week  Day_week  Quarter  \n",
            "0              26         4        3  \n",
            "1              13         5        2  \n",
            "2              48         5        4  \n",
            "3              27         5        3  \n",
            "4              37         5        3  \n",
            "...           ...       ...      ...  \n",
            "160144         29         0        3  \n",
            "160145         45         1        4  \n",
            "160146         29         0        3  \n",
            "160147         29         3        3  \n",
            "160148         29         3        3  \n",
            "\n",
            "[160149 rows x 20 columns]\n"
          ]
        }
      ],
      "source": [
        "#feature transformation                                                 \n",
        "#returns month of date\n",
        "merged_data['Month']=pd.DatetimeIndex(merged_data['Date_of_Travel']).month\n",
        "#returns day of datetime\n",
        "merged_data['Day']=pd.DatetimeIndex(merged_data['Date_of_Travel']).day\n",
        "#returns year of datetime\n",
        "merged_data['Year']=pd.DatetimeIndex(merged_data['Date_of_Travel']).year\n",
        "#returns week of datetime\n",
        "merged_data['Year_week']=pd.DatetimeIndex(merged_data['Date_of_Travel']).week\n",
        "#returns day week of date time with Monday=0 and sunday=6\n",
        "merged_data['Day_week']=pd.DatetimeIndex(merged_data['Date_of_Travel']).dayofweek\n",
        "#returns quarter of date time\n",
        "merged_data['Quarter']=pd.DatetimeIndex(merged_data['Date_of_Travel']).quarter\n",
        "\n",
        "merged_data\n",
        "print(merged_data)"
      ]
    },
    {
      "cell_type": "code",
      "source": [
        "merged_data.shape"
      ],
      "metadata": {
        "id": "OzxDVWpLGeXX",
        "colab": {
          "base_uri": "https://localhost:8080/"
        },
        "outputId": "ad31c977-1eda-4c44-83f0-16b29b646e58"
      },
      "id": "OzxDVWpLGeXX",
      "execution_count": 54,
      "outputs": [
        {
          "output_type": "execute_result",
          "data": {
            "text/plain": [
              "(160149, 20)"
            ]
          },
          "metadata": {},
          "execution_count": 54
        }
      ]
    },
    {
      "cell_type": "code",
      "execution_count": 55,
      "id": "7d92134f",
      "metadata": {
        "id": "7d92134f",
        "colab": {
          "base_uri": "https://localhost:8080/"
        },
        "outputId": "68d14441-0d23-44f6-b468-1a180a4445eb"
      },
      "outputs": [
        {
          "output_type": "stream",
          "name": "stdout",
          "text": [
            "               City  Population   Users  Transaction_ID Date_of_Travel  \\\n",
            "0       NEW YORK NY     8405837  302149        10000139     07-01-2016   \n",
            "1       NEW YORK NY     8405837  302149        10006684     04-02-2016   \n",
            "2       NEW YORK NY     8405837  302149        10015798     12-03-2016   \n",
            "3       NEW YORK NY     8405837  302149        10074689     07-09-2016   \n",
            "4       NEW YORK NY     8405837  302149        10078883     17-09-2016   \n",
            "...             ...         ...     ...             ...            ...   \n",
            "160144    BOSTON MA      248968   80021        10194731     17-07-2017   \n",
            "160145    BOSTON MA      248968   80021        10194754     11-07-2017   \n",
            "160146    BOSTON MA      248968   80021        10196584     17-07-2017   \n",
            "160147    BOSTON MA      248968   80021        10197378     20-07-2017   \n",
            "160148    BOSTON MA      248968   80021        10197438     20-07-2017   \n",
            "\n",
            "           Company  KM_Travelled  Price_Charged  Cost_of_Trip  Customer_ID  \\\n",
            "0         Pink Cab         17.85         242.90      198.1350         2416   \n",
            "1       Yellow Cab         34.34        1099.35      482.1336         2416   \n",
            "2       Yellow Cab         19.20         559.30      264.9600         2416   \n",
            "3       Yellow Cab         14.84         322.28      179.8608         2416   \n",
            "4         Pink Cab         37.08         728.27      393.0480         2416   \n",
            "...            ...           ...            ...           ...          ...   \n",
            "160144  Yellow Cab         39.78         515.32      544.1904        59630   \n",
            "160145  Yellow Cab         12.35         158.32      171.9120        57941   \n",
            "160146    Pink Cab         15.21         195.02      177.9570        59923   \n",
            "160147  Yellow Cab         27.44         390.80      378.6720        58171   \n",
            "160148  Yellow Cab         14.14         229.39      193.4352        57404   \n",
            "\n",
            "        ...  Gender Age  Income_(USD/Month)  Month  Day  Year  Year_week  \\\n",
            "0       ...    Male  28               21399      7    1  2016         26   \n",
            "1       ...    Male  28               21399      4    2  2016         13   \n",
            "2       ...    Male  28               21399     12    3  2016         48   \n",
            "3       ...    Male  28               21399      7    9  2016         27   \n",
            "4       ...    Male  28               21399      9   17  2016         37   \n",
            "...     ...     ...  ..                 ...    ...  ...   ...        ...   \n",
            "160144  ...  Female  27               34451      7   17  2017         29   \n",
            "160145  ...    Male  22               12477     11    7  2017         45   \n",
            "160146  ...  Female  33               19089      7   17  2017         29   \n",
            "160147  ...    Male  24                9745      7   20  2017         29   \n",
            "160148  ...    Male  43                3492      7   20  2017         29   \n",
            "\n",
            "        Day_week  Quarter    Profit  \n",
            "0              4        3   44.7650  \n",
            "1              5        2  617.2164  \n",
            "2              5        4  294.3400  \n",
            "3              5        3  142.4192  \n",
            "4              5        3  335.2220  \n",
            "...          ...      ...       ...  \n",
            "160144         0        3  -28.8704  \n",
            "160145         1        4  -13.5920  \n",
            "160146         0        3   17.0630  \n",
            "160147         3        3   12.1280  \n",
            "160148         3        3   35.9548  \n",
            "\n",
            "[160149 rows x 21 columns]\n"
          ]
        }
      ],
      "source": [
        "#generating a new profit column from subtracting the price charged -cost of trip\n",
        "merged_data['Profit']=merged_data['Price_Charged']-merged_data['Cost_of_Trip']\n",
        "merged_data\n",
        "print(merged_data)"
      ]
    },
    {
      "cell_type": "code",
      "execution_count": 56,
      "id": "da3225ed",
      "metadata": {
        "id": "da3225ed",
        "colab": {
          "base_uri": "https://localhost:8080/"
        },
        "outputId": "33172b10-db89-4f97-f783-8fd4c322f81d"
      },
      "outputs": [
        {
          "output_type": "stream",
          "name": "stdout",
          "text": [
            "               City  Population   Users  Transaction_ID Date_of_Travel  \\\n",
            "0       NEW YORK NY     8405837  302149        10000139     07-01-2016   \n",
            "1       NEW YORK NY     8405837  302149        10006684     04-02-2016   \n",
            "2       NEW YORK NY     8405837  302149        10015798     12-03-2016   \n",
            "3       NEW YORK NY     8405837  302149        10074689     07-09-2016   \n",
            "4       NEW YORK NY     8405837  302149        10078883     17-09-2016   \n",
            "...             ...         ...     ...             ...            ...   \n",
            "160144    BOSTON MA      248968   80021        10194731     17-07-2017   \n",
            "160145    BOSTON MA      248968   80021        10194754     11-07-2017   \n",
            "160146    BOSTON MA      248968   80021        10196584     17-07-2017   \n",
            "160147    BOSTON MA      248968   80021        10197378     20-07-2017   \n",
            "160148    BOSTON MA      248968   80021        10197438     20-07-2017   \n",
            "\n",
            "           Company  KM_Travelled  Price_Charged  Cost_of_Trip  Customer_ID  \\\n",
            "0         Pink Cab         17.85         242.90      198.1350         2416   \n",
            "1       Yellow Cab         34.34        1099.35      482.1336         2416   \n",
            "2       Yellow Cab         19.20         559.30      264.9600         2416   \n",
            "3       Yellow Cab         14.84         322.28      179.8608         2416   \n",
            "4         Pink Cab         37.08         728.27      393.0480         2416   \n",
            "...            ...           ...            ...           ...          ...   \n",
            "160144  Yellow Cab         39.78         515.32      544.1904        59630   \n",
            "160145  Yellow Cab         12.35         158.32      171.9120        57941   \n",
            "160146    Pink Cab         15.21         195.02      177.9570        59923   \n",
            "160147  Yellow Cab         27.44         390.80      378.6720        58171   \n",
            "160148  Yellow Cab         14.14         229.39      193.4352        57404   \n",
            "\n",
            "        ... Age Income_(USD/Month)  Month  Day  Year  Year_week  Day_week  \\\n",
            "0       ...  28              21399      7    1  2016         26         4   \n",
            "1       ...  28              21399      4    2  2016         13         5   \n",
            "2       ...  28              21399     12    3  2016         48         5   \n",
            "3       ...  28              21399      7    9  2016         27         5   \n",
            "4       ...  28              21399      9   17  2016         37         5   \n",
            "...     ...  ..                ...    ...  ...   ...        ...       ...   \n",
            "160144  ...  27              34451      7   17  2017         29         0   \n",
            "160145  ...  22              12477     11    7  2017         45         1   \n",
            "160146  ...  33              19089      7   17  2017         29         0   \n",
            "160147  ...  24               9745      7   20  2017         29         3   \n",
            "160148  ...  43               3492      7   20  2017         29         3   \n",
            "\n",
            "        Quarter    Profit  Profited  \n",
            "0             3   44.7650         1  \n",
            "1             2  617.2164         1  \n",
            "2             4  294.3400         1  \n",
            "3             3  142.4192         1  \n",
            "4             3  335.2220         1  \n",
            "...         ...       ...       ...  \n",
            "160144        3  -28.8704         0  \n",
            "160145        4  -13.5920         0  \n",
            "160146        3   17.0630         1  \n",
            "160147        3   12.1280         1  \n",
            "160148        3   35.9548         1  \n",
            "\n",
            "[160149 rows x 22 columns]\n"
          ]
        }
      ],
      "source": [
        "#Column created to check profit or loss from the ride (1 for profit and 0 for loss)\n",
        "merged_data['Profited']=merged_data['Profit'].apply(lambda x: 1 if x>1 else 0)\n",
        "merged_data\n",
        "print(merged_data)"
      ]
    },
    {
      "cell_type": "code",
      "execution_count": 57,
      "id": "63e3d07a",
      "metadata": {
        "id": "63e3d07a",
        "colab": {
          "base_uri": "https://localhost:8080/"
        },
        "outputId": "0fdbd211-1fe7-4865-9794-69c2f66fc8ab"
      },
      "outputs": [
        {
          "output_type": "stream",
          "name": "stdout",
          "text": [
            "               City  Population   Users  Transaction_ID Date_of_Travel  \\\n",
            "0       NEW YORK NY     8405837  302149        10000139     07-01-2016   \n",
            "1       NEW YORK NY     8405837  302149        10006684     04-02-2016   \n",
            "2       NEW YORK NY     8405837  302149        10015798     12-03-2016   \n",
            "3       NEW YORK NY     8405837  302149        10074689     07-09-2016   \n",
            "4       NEW YORK NY     8405837  302149        10078883     17-09-2016   \n",
            "...             ...         ...     ...             ...            ...   \n",
            "160144    BOSTON MA      248968   80021        10194731     17-07-2017   \n",
            "160145    BOSTON MA      248968   80021        10194754     11-07-2017   \n",
            "160146    BOSTON MA      248968   80021        10196584     17-07-2017   \n",
            "160147    BOSTON MA      248968   80021        10197378     20-07-2017   \n",
            "160148    BOSTON MA      248968   80021        10197438     20-07-2017   \n",
            "\n",
            "           Company  KM_Travelled  Price_Charged  Cost_of_Trip  Customer_ID  \\\n",
            "0         Pink Cab         17.85         242.90      198.1350         2416   \n",
            "1       Yellow Cab         34.34        1099.35      482.1336         2416   \n",
            "2       Yellow Cab         19.20         559.30      264.9600         2416   \n",
            "3       Yellow Cab         14.84         322.28      179.8608         2416   \n",
            "4         Pink Cab         37.08         728.27      393.0480         2416   \n",
            "...            ...           ...            ...           ...          ...   \n",
            "160144  Yellow Cab         39.78         515.32      544.1904        59630   \n",
            "160145  Yellow Cab         12.35         158.32      171.9120        57941   \n",
            "160146    Pink Cab         15.21         195.02      177.9570        59923   \n",
            "160147  Yellow Cab         27.44         390.80      378.6720        58171   \n",
            "160148  Yellow Cab         14.14         229.39      193.4352        57404   \n",
            "\n",
            "        ... Month Day  Year  Year_week  Day_week  Quarter    Profit  Profited  \\\n",
            "0       ...     7   1  2016         26         4        3   44.7650         1   \n",
            "1       ...     4   2  2016         13         5        2  617.2164         1   \n",
            "2       ...    12   3  2016         48         5        4  294.3400         1   \n",
            "3       ...     7   9  2016         27         5        3  142.4192         1   \n",
            "4       ...     9  17  2016         37         5        3  335.2220         1   \n",
            "...     ...   ...  ..   ...        ...       ...      ...       ...       ...   \n",
            "160144  ...     7  17  2017         29         0        3  -28.8704         0   \n",
            "160145  ...    11   7  2017         45         1        4  -13.5920         0   \n",
            "160146  ...     7  17  2017         29         0        3   17.0630         1   \n",
            "160147  ...     7  20  2017         29         3        3   12.1280         1   \n",
            "160148  ...     7  20  2017         29         3        3   35.9548         1   \n",
            "\n",
            "         Price/KM  Profit/KM  \n",
            "0       13.607843   2.507843  \n",
            "1       32.013687  17.973687  \n",
            "2       29.130208  15.330208  \n",
            "3       21.716981   9.596981  \n",
            "4       19.640507   9.040507  \n",
            "...           ...        ...  \n",
            "160144  12.954248  -0.725752  \n",
            "160145  12.819433  -1.100567  \n",
            "160146  12.821828   1.121828  \n",
            "160147  14.241983   0.441983  \n",
            "160148  16.222772   2.542772  \n",
            "\n",
            "[160149 rows x 24 columns]\n"
          ]
        }
      ],
      "source": [
        "#create a column to generate the price/km and profit/km of each ride\n",
        "merged_data['Price/KM']=merged_data['Price_Charged']/merged_data['KM_Travelled']\n",
        "merged_data['Profit/KM']=merged_data['Profit']/merged_data['KM_Travelled']\n",
        "merged_data\n",
        "print(merged_data)"
      ]
    },
    {
      "cell_type": "code",
      "source": [
        "merged_data.info()"
      ],
      "metadata": {
        "id": "Maeu7IbXJcKl",
        "colab": {
          "base_uri": "https://localhost:8080/"
        },
        "outputId": "5c3e9f75-7a3c-4997-e0d3-50ecd69a96c4"
      },
      "id": "Maeu7IbXJcKl",
      "execution_count": 58,
      "outputs": [
        {
          "output_type": "stream",
          "name": "stdout",
          "text": [
            "<class 'pandas.core.frame.DataFrame'>\n",
            "Int64Index: 160149 entries, 0 to 160148\n",
            "Data columns (total 24 columns):\n",
            " #   Column              Non-Null Count   Dtype  \n",
            "---  ------              --------------   -----  \n",
            " 0   City                160149 non-null  object \n",
            " 1   Population          160149 non-null  int64  \n",
            " 2   Users               160149 non-null  int64  \n",
            " 3   Transaction_ID      160149 non-null  int64  \n",
            " 4   Date_of_Travel      160149 non-null  object \n",
            " 5   Company             160149 non-null  object \n",
            " 6   KM_Travelled        160148 non-null  float64\n",
            " 7   Price_Charged       160148 non-null  float64\n",
            " 8   Cost_of_Trip        160148 non-null  float64\n",
            " 9   Customer_ID         160149 non-null  int64  \n",
            " 10  Payment_Mode        160149 non-null  object \n",
            " 11  Gender              160149 non-null  object \n",
            " 12  Age                 160149 non-null  int64  \n",
            " 13  Income_(USD/Month)  160149 non-null  int64  \n",
            " 14  Month               160149 non-null  int64  \n",
            " 15  Day                 160149 non-null  int64  \n",
            " 16  Year                160149 non-null  int64  \n",
            " 17  Year_week           160149 non-null  int64  \n",
            " 18  Day_week            160149 non-null  int64  \n",
            " 19  Quarter             160149 non-null  int64  \n",
            " 20  Profit              160148 non-null  float64\n",
            " 21  Profited            160149 non-null  int64  \n",
            " 22  Price/KM            160148 non-null  float64\n",
            " 23  Profit/KM           160148 non-null  float64\n",
            "dtypes: float64(6), int64(13), object(5)\n",
            "memory usage: 30.5+ MB\n"
          ]
        }
      ]
    },
    {
      "cell_type": "code",
      "execution_count": 59,
      "id": "9848dacf",
      "metadata": {
        "id": "9848dacf",
        "colab": {
          "base_uri": "https://localhost:8080/"
        },
        "outputId": "25de6b12-316a-4ff4-dc61-1afeeac67b3a"
      },
      "outputs": [
        {
          "output_type": "stream",
          "name": "stdout",
          "text": [
            "        Population   Users  Transaction_ID  KM_Travelled  Price_Charged  \\\n",
            "0          8405837  302149        10000139         17.85         242.90   \n",
            "1          8405837  302149        10006684         34.34        1099.35   \n",
            "2          8405837  302149        10015798         19.20         559.30   \n",
            "3          8405837  302149        10074689         14.84         322.28   \n",
            "4          8405837  302149        10078883         37.08         728.27   \n",
            "...            ...     ...             ...           ...            ...   \n",
            "160144      248968   80021        10194731         39.78         515.32   \n",
            "160145      248968   80021        10194754         12.35         158.32   \n",
            "160146      248968   80021        10196584         15.21         195.02   \n",
            "160147      248968   80021        10197378         27.44         390.80   \n",
            "160148      248968   80021        10197438         14.14         229.39   \n",
            "\n",
            "        Cost_of_Trip  Customer_ID  Age  Income_(USD/Month)  Month  Day  Year  \\\n",
            "0           198.1350         2416   28               21399      7    1  2016   \n",
            "1           482.1336         2416   28               21399      4    2  2016   \n",
            "2           264.9600         2416   28               21399     12    3  2016   \n",
            "3           179.8608         2416   28               21399      7    9  2016   \n",
            "4           393.0480         2416   28               21399      9   17  2016   \n",
            "...              ...          ...  ...                 ...    ...  ...   ...   \n",
            "160144      544.1904        59630   27               34451      7   17  2017   \n",
            "160145      171.9120        57941   22               12477     11    7  2017   \n",
            "160146      177.9570        59923   33               19089      7   17  2017   \n",
            "160147      378.6720        58171   24                9745      7   20  2017   \n",
            "160148      193.4352        57404   43                3492      7   20  2017   \n",
            "\n",
            "        Year_week  Day_week  Quarter    Profit  Profited   Price/KM  Profit/KM  \n",
            "0              26         4        3   44.7650         1  13.607843   2.507843  \n",
            "1              13         5        2  617.2164         1  32.013687  17.973687  \n",
            "2              48         5        4  294.3400         1  29.130208  15.330208  \n",
            "3              27         5        3  142.4192         1  21.716981   9.596981  \n",
            "4              37         5        3  335.2220         1  19.640507   9.040507  \n",
            "...           ...       ...      ...       ...       ...        ...        ...  \n",
            "160144         29         0        3  -28.8704         0  12.954248  -0.725752  \n",
            "160145         45         1        4  -13.5920         0  12.819433  -1.100567  \n",
            "160146         29         0        3   17.0630         1  12.821828   1.121828  \n",
            "160147         29         3        3   12.1280         1  14.241983   0.441983  \n",
            "160148         29         3        3   35.9548         1  16.222772   2.542772  \n",
            "\n",
            "[160149 rows x 19 columns]\n"
          ]
        }
      ],
      "source": [
        "# consider only numerical data\n",
        "#select all the numerical columns\n",
        "numerical_cols=merged_data.select_dtypes(exclude='object')\n",
        "numerical_cols\n",
        "print(numerical_cols)"
      ]
    },
    {
      "cell_type": "code",
      "execution_count": 60,
      "id": "85130e17",
      "metadata": {
        "id": "85130e17",
        "colab": {
          "base_uri": "https://localhost:8080/",
          "height": 424
        },
        "outputId": "612dab77-72fc-4c42-c31b-7db69d30c1ab"
      },
      "outputs": [
        {
          "output_type": "execute_result",
          "data": {
            "text/plain": [
              "               City Date_of_Travel     Company Payment_Mode  Gender\n",
              "0       NEW YORK NY     07-01-2016    Pink Cab         Cash    Male\n",
              "1       NEW YORK NY     04-02-2016  Yellow Cab         Cash    Male\n",
              "2       NEW YORK NY     12-03-2016  Yellow Cab         Card    Male\n",
              "3       NEW YORK NY     07-09-2016  Yellow Cab         Card    Male\n",
              "4       NEW YORK NY     17-09-2016    Pink Cab         Card    Male\n",
              "...             ...            ...         ...          ...     ...\n",
              "160144    BOSTON MA     17-07-2017  Yellow Cab         Card  Female\n",
              "160145    BOSTON MA     11-07-2017  Yellow Cab         Card    Male\n",
              "160146    BOSTON MA     17-07-2017    Pink Cab         Cash  Female\n",
              "160147    BOSTON MA     20-07-2017  Yellow Cab         Card    Male\n",
              "160148    BOSTON MA     20-07-2017  Yellow Cab         Card    Male\n",
              "\n",
              "[160149 rows x 5 columns]"
            ],
            "text/html": [
              "\n",
              "  <div id=\"df-5dde06fd-d3b4-41e8-822e-af99e5ddf013\">\n",
              "    <div class=\"colab-df-container\">\n",
              "      <div>\n",
              "<style scoped>\n",
              "    .dataframe tbody tr th:only-of-type {\n",
              "        vertical-align: middle;\n",
              "    }\n",
              "\n",
              "    .dataframe tbody tr th {\n",
              "        vertical-align: top;\n",
              "    }\n",
              "\n",
              "    .dataframe thead th {\n",
              "        text-align: right;\n",
              "    }\n",
              "</style>\n",
              "<table border=\"1\" class=\"dataframe\">\n",
              "  <thead>\n",
              "    <tr style=\"text-align: right;\">\n",
              "      <th></th>\n",
              "      <th>City</th>\n",
              "      <th>Date_of_Travel</th>\n",
              "      <th>Company</th>\n",
              "      <th>Payment_Mode</th>\n",
              "      <th>Gender</th>\n",
              "    </tr>\n",
              "  </thead>\n",
              "  <tbody>\n",
              "    <tr>\n",
              "      <th>0</th>\n",
              "      <td>NEW YORK NY</td>\n",
              "      <td>07-01-2016</td>\n",
              "      <td>Pink Cab</td>\n",
              "      <td>Cash</td>\n",
              "      <td>Male</td>\n",
              "    </tr>\n",
              "    <tr>\n",
              "      <th>1</th>\n",
              "      <td>NEW YORK NY</td>\n",
              "      <td>04-02-2016</td>\n",
              "      <td>Yellow Cab</td>\n",
              "      <td>Cash</td>\n",
              "      <td>Male</td>\n",
              "    </tr>\n",
              "    <tr>\n",
              "      <th>2</th>\n",
              "      <td>NEW YORK NY</td>\n",
              "      <td>12-03-2016</td>\n",
              "      <td>Yellow Cab</td>\n",
              "      <td>Card</td>\n",
              "      <td>Male</td>\n",
              "    </tr>\n",
              "    <tr>\n",
              "      <th>3</th>\n",
              "      <td>NEW YORK NY</td>\n",
              "      <td>07-09-2016</td>\n",
              "      <td>Yellow Cab</td>\n",
              "      <td>Card</td>\n",
              "      <td>Male</td>\n",
              "    </tr>\n",
              "    <tr>\n",
              "      <th>4</th>\n",
              "      <td>NEW YORK NY</td>\n",
              "      <td>17-09-2016</td>\n",
              "      <td>Pink Cab</td>\n",
              "      <td>Card</td>\n",
              "      <td>Male</td>\n",
              "    </tr>\n",
              "    <tr>\n",
              "      <th>...</th>\n",
              "      <td>...</td>\n",
              "      <td>...</td>\n",
              "      <td>...</td>\n",
              "      <td>...</td>\n",
              "      <td>...</td>\n",
              "    </tr>\n",
              "    <tr>\n",
              "      <th>160144</th>\n",
              "      <td>BOSTON MA</td>\n",
              "      <td>17-07-2017</td>\n",
              "      <td>Yellow Cab</td>\n",
              "      <td>Card</td>\n",
              "      <td>Female</td>\n",
              "    </tr>\n",
              "    <tr>\n",
              "      <th>160145</th>\n",
              "      <td>BOSTON MA</td>\n",
              "      <td>11-07-2017</td>\n",
              "      <td>Yellow Cab</td>\n",
              "      <td>Card</td>\n",
              "      <td>Male</td>\n",
              "    </tr>\n",
              "    <tr>\n",
              "      <th>160146</th>\n",
              "      <td>BOSTON MA</td>\n",
              "      <td>17-07-2017</td>\n",
              "      <td>Pink Cab</td>\n",
              "      <td>Cash</td>\n",
              "      <td>Female</td>\n",
              "    </tr>\n",
              "    <tr>\n",
              "      <th>160147</th>\n",
              "      <td>BOSTON MA</td>\n",
              "      <td>20-07-2017</td>\n",
              "      <td>Yellow Cab</td>\n",
              "      <td>Card</td>\n",
              "      <td>Male</td>\n",
              "    </tr>\n",
              "    <tr>\n",
              "      <th>160148</th>\n",
              "      <td>BOSTON MA</td>\n",
              "      <td>20-07-2017</td>\n",
              "      <td>Yellow Cab</td>\n",
              "      <td>Card</td>\n",
              "      <td>Male</td>\n",
              "    </tr>\n",
              "  </tbody>\n",
              "</table>\n",
              "<p>160149 rows × 5 columns</p>\n",
              "</div>\n",
              "      <button class=\"colab-df-convert\" onclick=\"convertToInteractive('df-5dde06fd-d3b4-41e8-822e-af99e5ddf013')\"\n",
              "              title=\"Convert this dataframe to an interactive table.\"\n",
              "              style=\"display:none;\">\n",
              "        \n",
              "  <svg xmlns=\"http://www.w3.org/2000/svg\" height=\"24px\"viewBox=\"0 0 24 24\"\n",
              "       width=\"24px\">\n",
              "    <path d=\"M0 0h24v24H0V0z\" fill=\"none\"/>\n",
              "    <path d=\"M18.56 5.44l.94 2.06.94-2.06 2.06-.94-2.06-.94-.94-2.06-.94 2.06-2.06.94zm-11 1L8.5 8.5l.94-2.06 2.06-.94-2.06-.94L8.5 2.5l-.94 2.06-2.06.94zm10 10l.94 2.06.94-2.06 2.06-.94-2.06-.94-.94-2.06-.94 2.06-2.06.94z\"/><path d=\"M17.41 7.96l-1.37-1.37c-.4-.4-.92-.59-1.43-.59-.52 0-1.04.2-1.43.59L10.3 9.45l-7.72 7.72c-.78.78-.78 2.05 0 2.83L4 21.41c.39.39.9.59 1.41.59.51 0 1.02-.2 1.41-.59l7.78-7.78 2.81-2.81c.8-.78.8-2.07 0-2.86zM5.41 20L4 18.59l7.72-7.72 1.47 1.35L5.41 20z\"/>\n",
              "  </svg>\n",
              "      </button>\n",
              "      \n",
              "  <style>\n",
              "    .colab-df-container {\n",
              "      display:flex;\n",
              "      flex-wrap:wrap;\n",
              "      gap: 12px;\n",
              "    }\n",
              "\n",
              "    .colab-df-convert {\n",
              "      background-color: #E8F0FE;\n",
              "      border: none;\n",
              "      border-radius: 50%;\n",
              "      cursor: pointer;\n",
              "      display: none;\n",
              "      fill: #1967D2;\n",
              "      height: 32px;\n",
              "      padding: 0 0 0 0;\n",
              "      width: 32px;\n",
              "    }\n",
              "\n",
              "    .colab-df-convert:hover {\n",
              "      background-color: #E2EBFA;\n",
              "      box-shadow: 0px 1px 2px rgba(60, 64, 67, 0.3), 0px 1px 3px 1px rgba(60, 64, 67, 0.15);\n",
              "      fill: #174EA6;\n",
              "    }\n",
              "\n",
              "    [theme=dark] .colab-df-convert {\n",
              "      background-color: #3B4455;\n",
              "      fill: #D2E3FC;\n",
              "    }\n",
              "\n",
              "    [theme=dark] .colab-df-convert:hover {\n",
              "      background-color: #434B5C;\n",
              "      box-shadow: 0px 1px 3px 1px rgba(0, 0, 0, 0.15);\n",
              "      filter: drop-shadow(0px 1px 2px rgba(0, 0, 0, 0.3));\n",
              "      fill: #FFFFFF;\n",
              "    }\n",
              "  </style>\n",
              "\n",
              "      <script>\n",
              "        const buttonEl =\n",
              "          document.querySelector('#df-5dde06fd-d3b4-41e8-822e-af99e5ddf013 button.colab-df-convert');\n",
              "        buttonEl.style.display =\n",
              "          google.colab.kernel.accessAllowed ? 'block' : 'none';\n",
              "\n",
              "        async function convertToInteractive(key) {\n",
              "          const element = document.querySelector('#df-5dde06fd-d3b4-41e8-822e-af99e5ddf013');\n",
              "          const dataTable =\n",
              "            await google.colab.kernel.invokeFunction('convertToInteractive',\n",
              "                                                     [key], {});\n",
              "          if (!dataTable) return;\n",
              "\n",
              "          const docLinkHtml = 'Like what you see? Visit the ' +\n",
              "            '<a target=\"_blank\" href=https://colab.research.google.com/notebooks/data_table.ipynb>data table notebook</a>'\n",
              "            + ' to learn more about interactive tables.';\n",
              "          element.innerHTML = '';\n",
              "          dataTable['output_type'] = 'display_data';\n",
              "          await google.colab.output.renderOutput(dataTable, element);\n",
              "          const docLink = document.createElement('div');\n",
              "          docLink.innerHTML = docLinkHtml;\n",
              "          element.appendChild(docLink);\n",
              "        }\n",
              "      </script>\n",
              "    </div>\n",
              "  </div>\n",
              "  "
            ]
          },
          "metadata": {},
          "execution_count": 60
        }
      ],
      "source": [
        "#consider only object columns\n",
        "object_cols=merged_data.select_dtypes(include='object')\n",
        "object_cols"
      ]
    },
    {
      "cell_type": "code",
      "execution_count": 61,
      "id": "c4b9b156",
      "metadata": {
        "id": "c4b9b156"
      },
      "outputs": [],
      "source": [
        "# visualise data\n",
        "from scipy import stats\n",
        "import pprint                                            # use to print data structures in a readable, pretty way \n",
        "import warnings                                          # ignore warning messages                         \n",
        "warnings.simplefilter(action='ignore', category=FutureWarning)   \n",
        "sns.set_theme()                                          # function changes the global defaults for all plots using the \n",
        "                                                         # matplotlib rcParams system. The themeing is decomposed into several distinct sets of parameter values"
      ]
    },
    {
      "cell_type": "code",
      "execution_count": 62,
      "id": "0a49477c",
      "metadata": {
        "id": "0a49477c"
      },
      "outputs": [],
      "source": [
        "#function to get quartile and descriptive statistics\n",
        "def numericalAnalysis(datar,col):\n",
        "    print(f\"Quantile statistics of the column:{col}\")\n",
        "    print(f\"Quantile1 is: {np.quantile(datar[col],.25)} \")\n",
        "    print(f\"Quantile2 is: {np.quantile(datar[col],.50)}\")\n",
        "    print(f\"Quantile3 is: {np.quantile(datar[col],.75)}\\n\")\n",
        "    print(f\"The skewness of the column is {stats.skew(datar[col])}\")\n",
        "    print(f\"The kurtosis of the column is {stats.kurtosis(datar[col])}\\n\")\n",
        "    pprint.pprint(merged_data[col].describe())                              \n",
        "    print(\"\\n\")"
      ]
    },
    {
      "cell_type": "code",
      "execution_count": 63,
      "id": "77931300",
      "metadata": {
        "id": "77931300",
        "colab": {
          "base_uri": "https://localhost:8080/"
        },
        "outputId": "47634e25-772c-4f82-b191-f2e25af1be23"
      },
      "outputs": [
        {
          "output_type": "stream",
          "name": "stdout",
          "text": [
            "Quantile statistics of the column:KM_Travelled\n",
            "Quantile1 is: nan \n",
            "Quantile2 is: nan\n",
            "Quantile3 is: nan\n",
            "\n",
            "The skewness of the column is nan\n",
            "The kurtosis of the column is nan\n",
            "\n",
            "count    160148.000000\n",
            "mean         22.575858\n",
            "std          12.228186\n",
            "min           1.900000\n",
            "25%          12.000000\n",
            "50%          22.470000\n",
            "75%          32.960000\n",
            "max          48.000000\n",
            "Name: KM_Travelled, dtype: float64\n",
            "\n",
            "\n"
          ]
        }
      ],
      "source": [
        "numericalAnalysis(numerical_cols,\"KM_Travelled\")"
      ]
    },
    {
      "cell_type": "code",
      "execution_count": 64,
      "id": "97cf8e21",
      "metadata": {
        "id": "97cf8e21"
      },
      "outputs": [],
      "source": [
        "#function to plot a boxplot and histogram of the distribution\n",
        "\n",
        "def vizHist(datar,col,c):# plt.figure(figsize=(10,8))          \n",
        "    sns.histplot(x=datar[col],bins=40, color=c, kde=True )     \n",
        "    plt.title(\"Histogram of {}\".format(col), fontsize=20)      \n",
        "    plt.ylabel('Frequency')\n",
        "    plt.xlabel(col)\n",
        "\n",
        "def boxPlot(datar,col):# plt.figure(figsize=(10,8))\n",
        "    print(\"Boxplot of {} \".format(col))\n",
        "    sns.boxplot(datar[col])"
      ]
    },
    {
      "cell_type": "code",
      "execution_count": 65,
      "id": "e4d88996",
      "metadata": {
        "id": "e4d88996",
        "colab": {
          "base_uri": "https://localhost:8080/",
          "height": 302
        },
        "outputId": "08011c2a-6435-4fdc-97d7-149fdc0a897c"
      },
      "outputs": [
        {
          "output_type": "execute_result",
          "data": {
            "text/plain": [
              "<matplotlib.axes._subplots.AxesSubplot at 0x7f87a06704d0>"
            ]
          },
          "metadata": {},
          "execution_count": 65
        },
        {
          "output_type": "display_data",
          "data": {
            "text/plain": [
              "<Figure size 432x288 with 1 Axes>"
            ],
            "image/png": "[encoded data removed]"
          },
          "metadata": {}
        }
      ],
      "source": [
        "sns.distplot(merged_data [\"KM_Travelled\"])                 "
      ]
    },
    {
      "cell_type": "code",
      "execution_count": 66,
      "id": "f52ac885",
      "metadata": {
        "id": "f52ac885",
        "colab": {
          "base_uri": "https://localhost:8080/",
          "height": 306
        },
        "outputId": "ddfe7428-b573-42b8-c978-42cd35f1b776"
      },
      "outputs": [
        {
          "output_type": "display_data",
          "data": {
            "text/plain": [
              "<Figure size 432x288 with 1 Axes>"
            ],
            "image/png": "[encoded data removed]"
          },
          "metadata": {}
        }
      ],
      "source": [
        "vizHist(numerical_cols,\"KM_Travelled\",'g')"
      ]
    },
    {
      "cell_type": "code",
      "execution_count": 67,
      "id": "1ea86aff",
      "metadata": {
        "id": "1ea86aff",
        "colab": {
          "base_uri": "https://localhost:8080/",
          "height": 302
        },
        "outputId": "9d71598d-14ec-4ecc-f466-d3fd99dad257"
      },
      "outputs": [
        {
          "output_type": "stream",
          "name": "stdout",
          "text": [
            "Boxplot of KM_Travelled \n"
          ]
        },
        {
          "output_type": "display_data",
          "data": {
            "text/plain": [
              "<Figure size 432x288 with 1 Axes>"
            ],
            "image/png": "[encoded data removed]"
          },
          "metadata": {}
        }
      ],
      "source": [
        "boxPlot(numerical_cols,'KM_Travelled')"
      ]
    },
    {
      "cell_type": "code",
      "execution_count": 68,
      "id": "a3adef48",
      "metadata": {
        "id": "a3adef48",
        "colab": {
          "base_uri": "https://localhost:8080/"
        },
        "outputId": "28b6e196-0466-4091-8d7f-70b5336d6e1a"
      },
      "outputs": [
        {
          "output_type": "stream",
          "name": "stdout",
          "text": [
            "Quantile statistics of the column:Price_Charged\n",
            "Quantile1 is: nan \n",
            "Quantile2 is: nan\n",
            "Quantile3 is: nan\n",
            "\n",
            "The skewness of the column is nan\n",
            "The kurtosis of the column is nan\n",
            "\n",
            "count    160148.000000\n",
            "mean        439.001196\n",
            "std         288.621912\n",
            "min          15.600000\n",
            "25%         212.240000\n",
            "50%         396.645000\n",
            "75%         604.062500\n",
            "max        2048.030000\n",
            "Name: Price_Charged, dtype: float64\n",
            "\n",
            "\n"
          ]
        }
      ],
      "source": [
        "# check for pricecharged\n",
        "numericalAnalysis(merged_data,\"Price_Charged\")"
      ]
    },
    {
      "cell_type": "code",
      "execution_count": 69,
      "id": "f8de869e",
      "metadata": {
        "id": "f8de869e",
        "colab": {
          "base_uri": "https://localhost:8080/",
          "height": 382
        },
        "outputId": "85e58852-0a56-4382-87c9-26b6cc6fbb86"
      },
      "outputs": [
        {
          "output_type": "execute_result",
          "data": {
            "text/plain": [
              "<seaborn.axisgrid.FacetGrid at 0x7f87b856a450>"
            ]
          },
          "metadata": {},
          "execution_count": 69
        },
        {
          "output_type": "display_data",
          "data": {
            "text/plain": [
              "<Figure size 360x360 with 1 Axes>"
            ],
            "image/png": "[encoded data removed]"
          },
          "metadata": {}
        }
      ],
      "source": [
        "sns.displot(merged_data['Price_Charged'])"
      ]
    },
    {
      "cell_type": "code",
      "source": [
        "vizHist(merged_data,\"Price_Charged\",'g')"
      ],
      "metadata": {
        "id": "B0Cjy19qlmPT",
        "colab": {
          "base_uri": "https://localhost:8080/",
          "height": 306
        },
        "outputId": "988ac47f-6be5-4790-c17e-b9f93f7a4728"
      },
      "id": "B0Cjy19qlmPT",
      "execution_count": 70,
      "outputs": [
        {
          "output_type": "display_data",
          "data": {
            "text/plain": [
              "<Figure size 432x288 with 1 Axes>"
            ],
            "image/png": "[encoded data removed]"
          },
          "metadata": {}
        }
      ]
    },
    {
      "cell_type": "code",
      "execution_count": 71,
      "id": "4bfef571",
      "metadata": {
        "id": "4bfef571",
        "colab": {
          "base_uri": "https://localhost:8080/",
          "height": 302
        },
        "outputId": "78430554-29f0-4e10-dcfd-0f35c78a9d9a"
      },
      "outputs": [
        {
          "output_type": "stream",
          "name": "stdout",
          "text": [
            "Boxplot of Price_Charged \n"
          ]
        },
        {
          "output_type": "display_data",
          "data": {
            "text/plain": [
              "<Figure size 432x288 with 1 Axes>"
            ],
            "image/png": "[encoded data removed]"
          },
          "metadata": {}
        }
      ],
      "source": [
        "boxPlot(merged_data,'Price_Charged')"
      ]
    },
    {
      "cell_type": "code",
      "execution_count": 72,
      "id": "4f3e9779",
      "metadata": {
        "id": "4f3e9779",
        "colab": {
          "base_uri": "https://localhost:8080/"
        },
        "outputId": "5ced229f-82aa-4ecc-8513-994dcc9ff6ed"
      },
      "outputs": [
        {
          "output_type": "stream",
          "name": "stdout",
          "text": [
            "Quantile statistics of the column:Cost_of_Trip\n",
            "Quantile1 is: nan \n",
            "Quantile2 is: nan\n",
            "Quantile3 is: nan\n",
            "\n",
            "The skewness of the column is nan\n",
            "The kurtosis of the column is nan\n",
            "\n",
            "count    160148.000000\n",
            "mean        286.732840\n",
            "std         158.141157\n",
            "min          19.000000\n",
            "25%         151.512000\n",
            "50%         282.828000\n",
            "75%         414.720000\n",
            "max         691.200000\n",
            "Name: Cost_of_Trip, dtype: float64\n",
            "\n",
            "\n"
          ]
        }
      ],
      "source": [
        "# Cost_of_Trip\n",
        "numericalAnalysis(merged_data,\"Cost_of_Trip\")"
      ]
    },
    {
      "cell_type": "code",
      "execution_count": 73,
      "id": "ee91aee4",
      "metadata": {
        "id": "ee91aee4",
        "colab": {
          "base_uri": "https://localhost:8080/",
          "height": 382
        },
        "outputId": "3d935f4a-6791-4cc0-9c6e-ad05adc406c5"
      },
      "outputs": [
        {
          "output_type": "execute_result",
          "data": {
            "text/plain": [
              "<seaborn.axisgrid.FacetGrid at 0x7f879a99d490>"
            ]
          },
          "metadata": {},
          "execution_count": 73
        },
        {
          "output_type": "display_data",
          "data": {
            "text/plain": [
              "<Figure size 360x360 with 1 Axes>"
            ],
            "image/png": "[encoded data removed]"
          },
          "metadata": {}
        }
      ],
      "source": [
        "sns.displot(merged_data['Cost_of_Trip'])"
      ]
    },
    {
      "cell_type": "code",
      "execution_count": 74,
      "id": "6d032bc5",
      "metadata": {
        "id": "6d032bc5",
        "colab": {
          "base_uri": "https://localhost:8080/",
          "height": 306
        },
        "outputId": "1142b99f-d901-4191-e1a2-c098069c5c10"
      },
      "outputs": [
        {
          "output_type": "display_data",
          "data": {
            "text/plain": [
              "<Figure size 432x288 with 1 Axes>"
            ],
            "image/png": "[encoded data removed]"
          },
          "metadata": {}
        }
      ],
      "source": [
        "vizHist(merged_data,\"Cost_of_Trip\",'g')"
      ]
    },
    {
      "cell_type": "code",
      "execution_count": 75,
      "id": "ce03dda1",
      "metadata": {
        "id": "ce03dda1",
        "colab": {
          "base_uri": "https://localhost:8080/",
          "height": 302
        },
        "outputId": "d4fa3e80-ef37-4300-b184-916f73e8c7e1"
      },
      "outputs": [
        {
          "output_type": "stream",
          "name": "stdout",
          "text": [
            "Boxplot of Cost_of_Trip \n"
          ]
        },
        {
          "output_type": "display_data",
          "data": {
            "text/plain": [
              "<Figure size 432x288 with 1 Axes>"
            ],
            "image/png": "[encoded data removed]"
          },
          "metadata": {}
        }
      ],
      "source": [
        "boxPlot(merged_data,'Cost_of_Trip')"
      ]
    },
    {
      "cell_type": "code",
      "execution_count": 76,
      "id": "ea23a617",
      "metadata": {
        "id": "ea23a617",
        "colab": {
          "base_uri": "https://localhost:8080/"
        },
        "outputId": "4c16a833-8fd6-4c4c-c075-19e5bacf97a1"
      },
      "outputs": [
        {
          "output_type": "stream",
          "name": "stdout",
          "text": [
            "Quantile statistics of the column:Age\n",
            "Quantile1 is: 25.0 \n",
            "Quantile2 is: 33.0\n",
            "Quantile3 is: 42.0\n",
            "\n",
            "The skewness of the column is 0.6865709966617602\n",
            "The kurtosis of the column is -0.46343027311699014\n",
            "\n",
            "count    160149.000000\n",
            "mean         35.352490\n",
            "std          12.613946\n",
            "min          18.000000\n",
            "25%          25.000000\n",
            "50%          33.000000\n",
            "75%          42.000000\n",
            "max          65.000000\n",
            "Name: Age, dtype: float64\n",
            "\n",
            "\n"
          ]
        }
      ],
      "source": [
        "# Age\n",
        "numericalAnalysis(merged_data,\"Age\")"
      ]
    },
    {
      "cell_type": "code",
      "execution_count": 77,
      "id": "5de376ba",
      "metadata": {
        "id": "5de376ba",
        "colab": {
          "base_uri": "https://localhost:8080/",
          "height": 382
        },
        "outputId": "1b760bd1-b6ef-4fc8-e82a-e43b56b30f1b"
      },
      "outputs": [
        {
          "output_type": "execute_result",
          "data": {
            "text/plain": [
              "<seaborn.axisgrid.FacetGrid at 0x7f87a01b5950>"
            ]
          },
          "metadata": {},
          "execution_count": 77
        },
        {
          "output_type": "display_data",
          "data": {
            "text/plain": [
              "<Figure size 360x360 with 1 Axes>"
            ],
            "image/png": "[encoded data removed]"
          },
          "metadata": {}
        }
      ],
      "source": [
        "sns.displot(merged_data['Age'])"
      ]
    },
    {
      "cell_type": "code",
      "execution_count": 78,
      "id": "bb2f6504",
      "metadata": {
        "id": "bb2f6504",
        "colab": {
          "base_uri": "https://localhost:8080/",
          "height": 306
        },
        "outputId": "0642e40d-070c-4861-80d1-2f3e5c45961e"
      },
      "outputs": [
        {
          "output_type": "display_data",
          "data": {
            "text/plain": [
              "<Figure size 432x288 with 1 Axes>"
            ],
            "image/png": "[encoded data removed]"
          },
          "metadata": {}
        }
      ],
      "source": [
        "vizHist(merged_data,'Age','g')"
      ]
    },
    {
      "cell_type": "code",
      "execution_count": 79,
      "id": "1c1772f0",
      "metadata": {
        "id": "1c1772f0",
        "colab": {
          "base_uri": "https://localhost:8080/",
          "height": 302
        },
        "outputId": "c051fd60-8bfa-4630-8832-20ea35833727"
      },
      "outputs": [
        {
          "output_type": "stream",
          "name": "stdout",
          "text": [
            "Boxplot of Age \n"
          ]
        },
        {
          "output_type": "display_data",
          "data": {
            "text/plain": [
              "<Figure size 432x288 with 1 Axes>"
            ],
            "image/png": "[encoded data removed]"
          },
          "metadata": {}
        }
      ],
      "source": [
        "boxPlot(merged_data,'Age')"
      ]
    },
    {
      "cell_type": "code",
      "execution_count": 80,
      "id": "0e8bbec7",
      "metadata": {
        "id": "0e8bbec7",
        "colab": {
          "base_uri": "https://localhost:8080/"
        },
        "outputId": "9a811bfe-850e-46b0-dab4-df3cc1442627"
      },
      "outputs": [
        {
          "output_type": "stream",
          "name": "stdout",
          "text": [
            "Quantile statistics of the column:Income_(USD/Month)\n",
            "Quantile1 is: 8406.0 \n",
            "Quantile2 is: 14692.0\n",
            "Quantile3 is: 21038.0\n",
            "\n",
            "The skewness of the column is 0.31048067502421733\n",
            "The kurtosis of the column is -0.6587241546507405\n",
            "\n",
            "count    160149.000000\n",
            "mean      15058.443325\n",
            "std        7988.722512\n",
            "min        2000.000000\n",
            "25%        8406.000000\n",
            "50%       14692.000000\n",
            "75%       21038.000000\n",
            "max       35000.000000\n",
            "Name: Income_(USD/Month), dtype: float64\n",
            "\n",
            "\n"
          ]
        }
      ],
      "source": [
        "# income\n",
        "numericalAnalysis(merged_data,'Income_(USD/Month)')"
      ]
    },
    {
      "cell_type": "code",
      "source": [
        "sns.displot(merged_data['Income_(USD/Month)'])"
      ],
      "metadata": {
        "id": "dGShCTDOW0SM"
      },
      "id": "dGShCTDOW0SM",
      "execution_count": null,
      "outputs": []
    },
    {
      "cell_type": "code",
      "execution_count": null,
      "id": "b2963cbe",
      "metadata": {
        "id": "b2963cbe"
      },
      "outputs": [],
      "source": [
        "vizHist(merged_data, 'Income_(USD/Month)','g')"
      ]
    },
    {
      "cell_type": "code",
      "execution_count": null,
      "id": "61300d4e",
      "metadata": {
        "id": "61300d4e"
      },
      "outputs": [],
      "source": [
        "boxPlot(merged_data,'Income_(USD/Month)')"
      ]
    },
    {
      "cell_type": "code",
      "execution_count": null,
      "id": "70973959",
      "metadata": {
        "id": "70973959"
      },
      "outputs": [],
      "source": [
        "# population\n",
        "numericalAnalysis(city,'Population')"
      ]
    },
    {
      "cell_type": "code",
      "execution_count": null,
      "id": "46ceea18",
      "metadata": {
        "id": "46ceea18"
      },
      "outputs": [],
      "source": [
        "sns.distplot(city['Population'])"
      ]
    },
    {
      "cell_type": "code",
      "source": [
        "vizHist(merged_data, 'Population','g')"
      ],
      "metadata": {
        "id": "atP4RqrmXPrM"
      },
      "id": "atP4RqrmXPrM",
      "execution_count": null,
      "outputs": []
    },
    {
      "cell_type": "code",
      "execution_count": null,
      "id": "b7415aa6",
      "metadata": {
        "id": "b7415aa6"
      },
      "outputs": [],
      "source": [
        "boxPlot(city, 'Population')"
      ]
    },
    {
      "cell_type": "code",
      "execution_count": null,
      "id": "fd1d0e5d",
      "metadata": {
        "id": "fd1d0e5d"
      },
      "outputs": [],
      "source": [
        "#Users\n",
        "numericalAnalysis(city,'Users')"
      ]
    },
    {
      "cell_type": "code",
      "execution_count": null,
      "id": "ed6ff980",
      "metadata": {
        "id": "ed6ff980"
      },
      "outputs": [],
      "source": [
        "sns.distplot(city['Users'])"
      ]
    },
    {
      "cell_type": "code",
      "source": [
        "vizHist(merged_data, 'Users','g')"
      ],
      "metadata": {
        "id": "9EMqmVHbXyyN"
      },
      "id": "9EMqmVHbXyyN",
      "execution_count": null,
      "outputs": []
    },
    {
      "cell_type": "code",
      "execution_count": null,
      "id": "9f37dcd2",
      "metadata": {
        "id": "9f37dcd2"
      },
      "outputs": [],
      "source": [
        "boxPlot(city,'Users')"
      ]
    },
    {
      "cell_type": "code",
      "execution_count": null,
      "id": "4fca0b10",
      "metadata": {
        "id": "4fca0b10"
      },
      "outputs": [],
      "source": [
        "merged_data.info()"
      ]
    },
    {
      "cell_type": "code",
      "source": [
        "print(merged_data)"
      ],
      "metadata": {
        "id": "puCXQ18NiW3h"
      },
      "id": "puCXQ18NiW3h",
      "execution_count": null,
      "outputs": []
    },
    {
      "cell_type": "code",
      "execution_count": null,
      "id": "4a25fc6d",
      "metadata": {
        "id": "4a25fc6d"
      },
      "outputs": [],
      "source": [
        "#Day_week\n",
        "plotter = merged_data.groupby([\"Day_week\",\"Company\"]).Transaction_ID.count()       \n",
        "plotter.unstack().plot(kind=\"line\")\n",
        "plt.xticks(range(0,7),[\"Mon\",\"Tue\",\"Wed\",\"Thur\",\"Fri\",\"Sat\",\"Sun\"])\n",
        "plt.ylabel(\"No.of Customers\")\n",
        "plt.title(\"Week Analysis\")\n",
        "print(plotter)"
      ]
    },
    {
      "cell_type": "code",
      "source": [
        "#Day\n",
        "plot1=merged_data.groupby(\"Day\").Transaction_ID.count()\n",
        "plt.figure(figsize=(14,6))\n",
        "sns.barplot(x=plot1.index,y=plot1.values)\n",
        "plt.title(\"Day analysis\")\n",
        "plt.ylabel(\"No.of Customers\")\n",
        "plt.show()\n",
        "print(plot1)"
      ],
      "metadata": {
        "id": "Mn-ggrqMt0mg"
      },
      "id": "Mn-ggrqMt0mg",
      "execution_count": null,
      "outputs": []
    },
    {
      "cell_type": "code",
      "source": [
        "plotter = merged_data.groupby([\"Day\",\"Company\"]).Transaction_ID.count()\n",
        "plt.figure(figsize=(14,6))\n",
        "plotter.unstack().plot(kind=\"bar\")\n",
        "plt.xticks(range(0,31))\n",
        "plt.ylabel(\"No.of Customers\")\n",
        "plt.title(\"Day Analysis per Company\")\n",
        "print(plotter)"
      ],
      "metadata": {
        "id": "L3wQS2Am0hpW"
      },
      "id": "L3wQS2Am0hpW",
      "execution_count": null,
      "outputs": []
    },
    {
      "cell_type": "code",
      "source": [
        "plot1= merged_data[merged_data.Company == \"Pink Cab\"].groupby(\"Day\").Transaction_ID.count()\n",
        "plt.figure(figsize=(14,6))\n",
        "sns.lineplot(x=plot1.index,y=plot1.values)\n",
        "plt.title(\"Customers Analysis for Pink cab\")\n",
        "plt.ylabel(\"Number Of Rides\")"
      ],
      "metadata": {
        "id": "q1QaLdoMePw9"
      },
      "id": "q1QaLdoMePw9",
      "execution_count": null,
      "outputs": []
    },
    {
      "cell_type": "code",
      "execution_count": null,
      "id": "6d8d91d6",
      "metadata": {
        "id": "6d8d91d6"
      },
      "outputs": [],
      "source": [
        "#Month\n",
        "plot1=merged_data.groupby(\"Month\").Transaction_ID.count()\n",
        "plt.figure(figsize=(14,6))\n",
        "sns.barplot(x=plot1.index,y=plot1.values)\n",
        "plt.title(\"Monthly Analysis\")\n",
        "plt.ylabel(\"No.of Customers\")\n",
        "plt.show()"
      ]
    },
    {
      "cell_type": "code",
      "execution_count": null,
      "id": "feccbe89",
      "metadata": {
        "id": "feccbe89"
      },
      "outputs": [],
      "source": [
        "plotter = merged_data.groupby([\"Month\",\"Company\"]).Transaction_ID.count()\n",
        "plt.figure(figsize=(14,6))\n",
        "plotter.unstack().plot(kind=\"bar\")\n",
        "plt.xticks(range(1,12))\n",
        "plt.ylabel(\"No.of Customers\")\n",
        "plt.title(\"Monthly Analysis per Company\")"
      ]
    },
    {
      "cell_type": "code",
      "source": [
        "#yellow cab monthly transaction id count is plotted\n",
        "plot= merged_data[merged_data.Company == \"Yellow Cab\"].groupby(\"Month\").Transaction_ID.count()\n",
        "plt.figure(figsize=(14,6))\n",
        "sns.barplot(x=plot.index,y=plot.values)\n",
        "plt.title(\"Customers Analysis for Yellow cab\")\n",
        "plt.ylabel(\"Number Of Customers\")"
      ],
      "metadata": {
        "id": "AJnYya_VeAZ2"
      },
      "id": "AJnYya_VeAZ2",
      "execution_count": null,
      "outputs": []
    },
    {
      "cell_type": "code",
      "source": [
        "plt.figure(figsize=(14,6))\n",
        "ax =plt.subplot(111)\n",
        "ax.bar(plot4.index-0.2,plot4.values,width=0.4,color=\"Pink\",align=\"center\",label=\"Pink Cab\")\n",
        "ax.bar(plot5.index+0.2,plot5.values,width=0.4,color=\"Yellow\",align=\"center\",label=\"Yellow Cab\")\n",
        "plt.title(\"Transactions Per month \")\n",
        "plt.ylabel(\"No. of Transactions\")\n",
        "#locs, labels = plt.xticks()\n",
        "plt.xticks(np.arange(1,13),[\"Jan\",\"Feb\",\"Mar\",\"Apr\",\"May\",\"Jun\",\"Jul\",\"Aug\",\"Sep\",\"Oct\",\"Nov\",\"Dec\"],rotation=20)\n",
        "plt.xlabel(\"Month\")\n",
        "plt.legend()"
      ],
      "metadata": {
        "id": "pEfUtw41g1JZ"
      },
      "id": "pEfUtw41g1JZ",
      "execution_count": null,
      "outputs": []
    },
    {
      "cell_type": "code",
      "execution_count": null,
      "id": "6698957c",
      "metadata": {
        "id": "6698957c"
      },
      "outputs": [],
      "source": [
        "#Year\n",
        "plotter = merged_data.groupby([\"Year\",\"Company\"]).Transaction_ID.count()\n",
        "plt.figure(figsize=(20,10))\n",
        "plotter.unstack().plot(kind=\"bar\")\n",
        "plt.ylabel(\"No.of Customers\")\n",
        "plt.title(\"Monthly Analysis per Company\")"
      ]
    },
    {
      "cell_type": "code",
      "source": [
        "print(merged_data)\n",
        "\n"
      ],
      "metadata": {
        "id": "eGx0CgIT3kSS"
      },
      "id": "eGx0CgIT3kSS",
      "execution_count": null,
      "outputs": []
    },
    {
      "cell_type": "code",
      "execution_count": null,
      "id": "148df585",
      "metadata": {
        "id": "148df585"
      },
      "outputs": [],
      "source": [
        "#Year vs Users vs Company                                                        # 1 doubt users \n",
        "plt.figure(figsize=(10,10))\n",
        "plt.xticks()\n",
        "sns.barplot(x=merged_data['Year'],y=merged_data['Users'],hue=merged_data['Company'],estimator=sum)"
      ]
    },
    {
      "cell_type": "code",
      "execution_count": null,
      "id": "88ef822a",
      "metadata": {
        "id": "88ef822a"
      },
      "outputs": [],
      "source": [
        "merged_data.groupby([\"Year\",\"Company\"]).Transaction_ID.count()"
      ]
    },
    {
      "cell_type": "code",
      "execution_count": null,
      "id": "cdb26ad8",
      "metadata": {
        "id": "cdb26ad8"
      },
      "outputs": [],
      "source": [
        "plot2 =merged_data.groupby([\"Year\",\"Company\"]).Transaction_ID.count()    \n",
        "plt.figure(figsize=(100,50))\n",
        "plot2.unstack().plot(kind=\"bar\" ,stacked=True)\n",
        "plt.title(\"Yearly Customer distribution\")"
      ]
    },
    {
      "cell_type": "code",
      "execution_count": null,
      "id": "a4513fbc",
      "metadata": {
        "id": "a4513fbc"
      },
      "outputs": [],
      "source": [
        "#Company Analysis\n",
        "plot3=merged_data.groupby(\"Company\").Transaction_ID.count()\n",
        "plt.figure(figsize=(10,6))\n",
        "sns.barplot(x=plot3.index,y=plot3.values)\n",
        "plt.title(\"Overall Number Of Customers\")\n",
        "plt.ylabel(\"Number Of Customers\")"
      ]
    },
    {
      "cell_type": "code",
      "execution_count": null,
      "id": "58f90662",
      "metadata": {
        "id": "58f90662"
      },
      "outputs": [],
      "source": [
        "plot4= merged_data[merged_data.Company==\"Pink Cab\"].groupby(\"Month\").Transaction_ID.count()\n",
        "print(\"Pink cab monthly transaction info :\", plot4)\n",
        "plot5= merged_data[merged_data.Company==\"Yellow Cab\"].groupby(\"Month\").Transaction_ID.count()\n",
        "print(\"Yellow cab monthly transaction info :\", plot5)"
      ]
    },
    {
      "cell_type": "code",
      "execution_count": null,
      "id": "240a6762",
      "metadata": {
        "id": "240a6762"
      },
      "outputs": [],
      "source": [
        "plt.figure(figsize=(14,6))\n",
        "ax =plt.subplot(111)\n",
        "ax.bar(plot4.index-0.2,plot4.values,width=0.4,color=\"Pink\",align=\"center\",label=\"Pink Cab\")\n",
        "ax.bar(plot5.index+0.2,plot5.values,width=0.4,color=\"Yellow\",align=\"center\",label=\"Yellow Cab\")\n",
        "plt.title(\"Transactions Per month \")\n",
        "plt.ylabel(\"No. of Transactions\")\n",
        "#locs, labels = plt.xticks()\n",
        "plt.xticks(np.arange(1,13),[\"Jan\",\"Feb\",\"Mar\",\"Apr\",\"May\",\"Jun\",\"Jul\",\"Aug\",\"Sep\",\"Oct\",\"Nov\",\"Dec\"],rotation=20)\n",
        "plt.xlabel(\"Month\")\n",
        "plt.legend()"
      ]
    },
    {
      "cell_type": "code",
      "execution_count": null,
      "id": "77b9b567",
      "metadata": {
        "id": "77b9b567"
      },
      "outputs": [],
      "source": [
        "#customer gender analysis\n",
        "#Company Analysis\n",
        "plot3=merged_data.groupby(\"Gender\").Transaction_ID.count()\n",
        "plt.figure(figsize=(14,6))\n",
        "sns.barplot(x=plot3.index,y=plot3.values)\n",
        "plt.title(\"Overall Number Of Customers\")\n",
        "plt.ylabel(\"Number Of Customers\")"
      ]
    },
    {
      "cell_type": "code",
      "execution_count": null,
      "id": "93b8129b",
      "metadata": {
        "id": "93b8129b"
      },
      "outputs": [],
      "source": [
        "plt.figure(figsize=(10,10))\n",
        "plt.xticks()\n",
        "sns.barplot(x=merged_data['Company'],y=merged_data['Users'],hue=merged_data['Gender'],estimator=sum)"
      ]
    },
    {
      "cell_type": "code",
      "execution_count": null,
      "id": "7ec237b5",
      "metadata": {
        "id": "7ec237b5"
      },
      "outputs": [],
      "source": [
        "#Company Analysis\n",
        "plot3=merged_data.groupby(\"Payment_Mode\").Transaction_ID.count()\n",
        "plt.figure(figsize=(14,6))\n",
        "sns.barplot(x=plot3.index,y=plot3.values)\n",
        "plt.title(\"Overall Number Of Customers\")\n",
        "plt.ylabel(\"Number Of Customers\")"
      ]
    },
    {
      "cell_type": "code",
      "execution_count": null,
      "id": "8b31929f",
      "metadata": {
        "id": "8b31929f"
      },
      "outputs": [],
      "source": [
        "sns.scatterplot(y=city['Users'],x=city['Population'])"
      ]
    },
    {
      "cell_type": "code",
      "execution_count": null,
      "id": "9a21c946",
      "metadata": {
        "id": "9a21c946"
      },
      "outputs": [],
      "source": [
        "merged_data.Profit.max()"
      ]
    },
    {
      "cell_type": "code",
      "execution_count": null,
      "id": "3ad4bad8",
      "metadata": {
        "id": "3ad4bad8"
      },
      "outputs": [],
      "source": [
        "merged_data.Profit.min()"
      ]
    },
    {
      "cell_type": "code",
      "execution_count": null,
      "id": "7f7111c7",
      "metadata": {
        "id": "7f7111c7"
      },
      "outputs": [],
      "source": [
        "sns.scatterplot(x=merged_data['KM_Travelled'],y=merged_data[\"Profit\"])"
      ]
    },
    {
      "cell_type": "code",
      "execution_count": null,
      "id": "67be72d9",
      "metadata": {
        "id": "67be72d9"
      },
      "outputs": [],
      "source": [
        "sns.scatterplot(x=merged_data['KM_Travelled'],y=merged_data[\"Profit\"],hue=merged_data['Company'])"
      ]
    },
    {
      "cell_type": "code",
      "execution_count": null,
      "id": "618fbc5b",
      "metadata": {
        "id": "618fbc5b"
      },
      "outputs": [],
      "source": [
        "merged_data.groupby(['Gender'])['Income_(USD/Month)'].mean()"
      ]
    },
    {
      "cell_type": "code",
      "execution_count": null,
      "id": "65b91220",
      "metadata": {
        "id": "65b91220"
      },
      "outputs": [],
      "source": [
        "sns.catplot(x=\"Gender\", y=\"Income_(USD/Month)\", data=merged_data)"
      ]
    },
    {
      "cell_type": "code",
      "execution_count": null,
      "id": "d1ab152c",
      "metadata": {
        "id": "d1ab152c"
      },
      "outputs": [],
      "source": [
        "#Age vs Income\n",
        "sns.scatterplot(x=merged_data[\"Age\"],y=merged_data[\"Income_(USD/Month)\"])"
      ]
    },
    {
      "cell_type": "code",
      "execution_count": null,
      "id": "4aa3fcca",
      "metadata": {
        "id": "4aa3fcca"
      },
      "outputs": [],
      "source": [
        "#income vs kms travelled\n",
        "sns.scatterplot(x=merged_data[\"Income_(USD/Month)\"],y=merged_data['KM_Travelled'])"
      ]
    },
    {
      "cell_type": "code",
      "execution_count": null,
      "id": "c3f73a7f",
      "metadata": {
        "id": "c3f73a7f"
      },
      "outputs": [],
      "source": [
        "#Quarter vs profit\n",
        "merged_data.groupby(['Quarter'])[\"Profit\"].mean()"
      ]
    },
    {
      "cell_type": "code",
      "execution_count": null,
      "id": "fcd7f8f5",
      "metadata": {
        "id": "fcd7f8f5"
      },
      "outputs": [],
      "source": [
        "merged_data.groupby(['Quarter','Year'])[\"Profit\"].sum()"
      ]
    },
    {
      "cell_type": "code",
      "execution_count": null,
      "id": "5059cdb2",
      "metadata": {
        "id": "5059cdb2"
      },
      "outputs": [],
      "source": [
        "#Quarters vs KM Travelled\n",
        "merged_data.groupby(['Quarter'])['KM_Travelled'].median()"
      ]
    },
    {
      "cell_type": "code",
      "execution_count": null,
      "id": "63576b7a",
      "metadata": {
        "id": "63576b7a"
      },
      "outputs": [],
      "source": [
        "merged_data.groupby(['Quarter'])['KM_Travelled'].mean()"
      ]
    },
    {
      "cell_type": "code",
      "execution_count": null,
      "id": "c9a9d6d8",
      "metadata": {
        "id": "c9a9d6d8"
      },
      "outputs": [],
      "source": [
        "merged_data.groupby(['Quarter'])['KM_Travelled'].sum()"
      ]
    },
    {
      "cell_type": "code",
      "execution_count": null,
      "id": "13721736",
      "metadata": {
        "id": "13721736"
      },
      "outputs": [],
      "source": [
        "quarterDistance=merged_data.groupby('Quarter')['KM_Travelled'].sum()\n",
        "quarterDistance=pd.DataFrame(quarterDistance)\n",
        "quarterDistance=quarterDistance.sort_values(by='KM_Travelled',ascending=False)\n",
        "# plt.figure(figsize=(10,10))\n",
        "\n",
        "quarterDistance.plot.bar(color='green',linewidth=1.5,figsize=(8,8))\n",
        "plt.xticks()\n",
        "plt.ylabel('KM Travelled')\n",
        "plt.xlabel(\"Year\")\n",
        "plt.title(\"Number of KM Travelled per Quarter\")"
      ]
    },
    {
      "cell_type": "code",
      "execution_count": null,
      "id": "56dfb0ab",
      "metadata": {
        "id": "56dfb0ab"
      },
      "outputs": [],
      "source": [
        "merged_data.groupby(['KM_Travelled','Company'])['Users'].count()"
      ]
    },
    {
      "cell_type": "code",
      "execution_count": null,
      "id": "35ff8e2f",
      "metadata": {
        "id": "35ff8e2f"
      },
      "outputs": [],
      "source": [
        "merged_data.info()"
      ]
    },
    {
      "cell_type": "code",
      "execution_count": null,
      "id": "4b616359",
      "metadata": {
        "id": "4b616359"
      },
      "outputs": [],
      "source": [
        "merged_data.groupby(['Day_week'])['KM_Travelled'].median()"
      ]
    },
    {
      "cell_type": "code",
      "execution_count": null,
      "id": "6476ec74",
      "metadata": {
        "id": "6476ec74"
      },
      "outputs": [],
      "source": [
        "merged_data.groupby(['Day_week'])['KM_Travelled'].sum()"
      ]
    },
    {
      "cell_type": "code",
      "execution_count": null,
      "id": "6271b1ff",
      "metadata": {
        "id": "6271b1ff"
      },
      "outputs": [],
      "source": [
        "dayDistance=merged_data.groupby('Day_week')['KM_Travelled'].sum()\n",
        "dayDistance=pd.DataFrame(dayDistance)\n",
        "dayDistance=dayDistance.sort_values(by='KM_Travelled',ascending=False)\n",
        "# plt.figure(figsize=(10,10))\n",
        "\n",
        "dayDistance.plot.bar(color='blue',linewidth=1,figsize=(8,8))\n",
        "plt.xticks()\n",
        "plt.ylabel('Number of KMs')\n",
        "plt.xlabel(\"Year\")\n",
        "plt.title(\"Number of KM Travelled per Day\")"
      ]
    },
    {
      "cell_type": "code",
      "execution_count": null,
      "id": "089a971e",
      "metadata": {
        "id": "089a971e"
      },
      "outputs": [],
      "source": [
        "sns.barplot(x=\"Day_week\", y=\"Profit\", data=merged_data)"
      ]
    },
    {
      "cell_type": "code",
      "execution_count": null,
      "id": "57cfdaac",
      "metadata": {
        "id": "57cfdaac"
      },
      "outputs": [],
      "source": [
        "merged_data.groupby(['Day_week','Users'])['Profit'].sum()"
      ]
    },
    {
      "cell_type": "code",
      "execution_count": null,
      "id": "be5fc083",
      "metadata": {
        "id": "be5fc083"
      },
      "outputs": [],
      "source": [
        "sns.catplot(x=\"Company\", y=\"Profit\", data=merged_data)"
      ]
    },
    {
      "cell_type": "code",
      "execution_count": null,
      "id": "6b11497d",
      "metadata": {
        "id": "6b11497d"
      },
      "outputs": [],
      "source": [
        "merged_data.groupby(['Company'])['Profit'].mean()"
      ]
    },
    {
      "cell_type": "code",
      "execution_count": null,
      "id": "4b57140a",
      "metadata": {
        "id": "4b57140a"
      },
      "outputs": [],
      "source": [
        "merged_data.groupby(['Company'])['Profit'].sum()"
      ]
    },
    {
      "cell_type": "code",
      "execution_count": null,
      "id": "b1d9fb34",
      "metadata": {
        "id": "b1d9fb34"
      },
      "outputs": [],
      "source": [
        "#monthly profit\n",
        "merged_data.groupby(['Month'])['Profit'].sum()"
      ]
    },
    {
      "cell_type": "code",
      "execution_count": null,
      "id": "89041242",
      "metadata": {
        "id": "89041242"
      },
      "outputs": [],
      "source": [
        "sns.barplot(x=\"Year\",y= 'Profit', data = merged_data)"
      ]
    },
    {
      "cell_type": "code",
      "execution_count": null,
      "id": "929cec34",
      "metadata": {
        "id": "929cec34"
      },
      "outputs": [],
      "source": [
        "sns.barplot(x=\"Month\", y=\"Profit\", data=merged_data)"
      ]
    },
    {
      "cell_type": "code",
      "execution_count": null,
      "id": "932bccd7",
      "metadata": {
        "id": "932bccd7"
      },
      "outputs": [],
      "source": [
        "monthRev=merged_data.groupby('Month')['Price_Charged'].sum()\n",
        "monthRev=pd.DataFrame(monthRev)\n",
        "monthRev=monthRev.sort_values(by='Price_Charged',ascending=False)\n",
        "# plt.figure(figsize=(10,10))\n",
        "\n",
        "monthRev.plot.bar(color='seagreen',linewidth=1,figsize=(8,8))\n",
        "plt.xticks(rotation=90)\n",
        "plt.ylabel('Revenue in $Millions')\n",
        "plt.xlabel(\"Month\")\n",
        "plt.title(\"Revenue Per Month\")"
      ]
    },
    {
      "cell_type": "code",
      "execution_count": null,
      "id": "62c95c5a",
      "metadata": {
        "id": "62c95c5a"
      },
      "outputs": [],
      "source": [
        "#revenue permonth for yellow cab\n",
        "yellowCab=merged_data[merged_data['Company']==\"Yellow Cab\"]\n",
        "sns.barplot(x=yellowCab['Month'],y=yellowCab['Cost_of_Trip'],estimator=sum)\n",
        "plt.title(\"Revenue Per Month for YellowCab\")"
      ]
    },
    {
      "cell_type": "code",
      "execution_count": null,
      "id": "e683ff86",
      "metadata": {
        "id": "e683ff86"
      },
      "outputs": [],
      "source": [
        "#revenue per month for pink cab\n",
        "PinkCab=merged_data[merged_data['Company']==\"Pink Cab\"]\n",
        "sns.barplot(x=PinkCab['Month'],y=PinkCab['Cost_of_Trip'],estimator=sum)\n",
        "plt.title(\"Revenue Per Month for Pink cab\")"
      ]
    },
    {
      "cell_type": "code",
      "execution_count": null,
      "id": "8804634d",
      "metadata": {
        "id": "8804634d"
      },
      "outputs": [],
      "source": [
        "#city vs profit\n",
        "merged_data.groupby(['City'])['Profit'].sum().sort_values(ascending=False)"
      ]
    },
    {
      "cell_type": "code",
      "execution_count": null,
      "id": "bf614648",
      "metadata": {
        "id": "bf614648"
      },
      "outputs": [],
      "source": [
        "merged_data.groupby(['Company'])['Profit/KM'].sum().sort_values(ascending=False)"
      ]
    },
    {
      "cell_type": "code",
      "execution_count": null,
      "id": "bd3c94a7",
      "metadata": {
        "id": "bd3c94a7"
      },
      "outputs": [],
      "source": [
        "cityProfit=merged_data.groupby('City').Profit.sum()\n",
        "cityProfit=pd.DataFrame(cityProfit)\n",
        "cityProfit=cityProfit.sort_values(by='Profit',ascending=False)\n",
        "plt.figure(figsize=(8,8))\n",
        "\n",
        "cityProfit.plot.bar(color='red',linewidth=1,figsize=(8,8))\n",
        "plt.xticks()\n",
        "plt.ylabel('Profit in $Millions')\n",
        "plt.xlabel(\"Cities\")\n",
        "plt.title(\"Proifits per each City\")"
      ]
    },
    {
      "cell_type": "code",
      "execution_count": null,
      "id": "80a066c8",
      "metadata": {
        "id": "80a066c8"
      },
      "outputs": [],
      "source": [
        "plt.figure(figsize=(30,7))\n",
        "sns.barplot(x=merged_data[\"City\"],y=merged_data['Profit'],estimator=sum)\n",
        "plt.xticks()"
      ]
    },
    {
      "cell_type": "code",
      "execution_count": 124,
      "id": "a5a3ccf6",
      "metadata": {
        "id": "a5a3ccf6",
        "colab": {
          "base_uri": "https://localhost:8080/",
          "height": 318
        },
        "outputId": "0a59ec44-efbd-4397-dd9b-d5bc987081e4"
      },
      "outputs": [
        {
          "output_type": "execute_result",
          "data": {
            "text/plain": [
              "Text(0.5, 1.0, 'Profits Per Month for Yellow Company')"
            ]
          },
          "metadata": {},
          "execution_count": 124
        },
        {
          "output_type": "display_data",
          "data": {
            "text/plain": [
              "<Figure size 432x288 with 1 Axes>"
            ],
            "image/png": "[encoded data removed]"
          },
          "metadata": {}
        }
      ],
      "source": [
        "#profit per city for each company\n",
        "sns.barplot(x=yellowCab['City'],y=yellowCab['Profit'],estimator=sum)\n",
        "plt.xticks()\n",
        "plt.title(\"Profits Per Month for Yellow Company\")"
      ]
    },
    {
      "cell_type": "code",
      "execution_count": 125,
      "id": "6aa4bc7a",
      "metadata": {
        "id": "6aa4bc7a",
        "colab": {
          "base_uri": "https://localhost:8080/",
          "height": 318
        },
        "outputId": "f5fde9f0-8289-4b1e-c232-b56d3ba2004f"
      },
      "outputs": [
        {
          "output_type": "execute_result",
          "data": {
            "text/plain": [
              "Text(0.5, 1.0, 'Profit for Pink Company')"
            ]
          },
          "metadata": {},
          "execution_count": 125
        },
        {
          "output_type": "display_data",
          "data": {
            "text/plain": [
              "<Figure size 432x288 with 1 Axes>"
            ],
            "image/png": "[encoded data removed]"
          },
          "metadata": {}
        }
      ],
      "source": [
        "sns.barplot(x=PinkCab['City'],y=PinkCab['Profit'],estimator=sum)\n",
        "plt.xticks()\n",
        "plt.title(\"Profit for Pink Company\")"
      ]
    },
    {
      "cell_type": "code",
      "execution_count": 126,
      "id": "0ea9d860",
      "metadata": {
        "id": "0ea9d860",
        "colab": {
          "base_uri": "https://localhost:8080/"
        },
        "outputId": "c01c4ceb-63fd-4718-d8d4-5da445ebeef9"
      },
      "outputs": [
        {
          "output_type": "execute_result",
          "data": {
            "text/plain": [
              "Year\n",
              "2016    1.581377e+07\n",
              "2017    8.571704e+06\n",
              "Name: Profit, dtype: float64"
            ]
          },
          "metadata": {},
          "execution_count": 126
        }
      ],
      "source": [
        "merged_data.groupby(['Year'])['Profit'].sum()"
      ]
    },
    {
      "cell_type": "code",
      "execution_count": 127,
      "id": "0e0a89ed",
      "metadata": {
        "id": "0e0a89ed"
      },
      "outputs": [],
      "source": [
        "data2016=merged_data.loc[merged_data['Year']==2016]\n",
        "data2017=merged_data.loc[merged_data['Year']==2017]\n",
        "data2018=merged_data.loc[merged_data['Year']==2018]\n",
        "profit2016=round(data2016['Profit'].sum())\n",
        "profit2017=round(data2017['Profit'].sum())\n",
        "profit2018=round(data2018['Profit'].sum())\n",
        "# sns.lineplot(x=data['Year'],y=data['Profit'])"
      ]
    },
    {
      "cell_type": "code",
      "execution_count": null,
      "id": "4eecee3f",
      "metadata": {
        "id": "4eecee3f"
      },
      "outputs": [],
      "source": [
        "pd1=pd.DataFrame(data=[profit2018,profit2017,profit2016],columns=[\"Profit\"],index=[2018,2017,2016])\n",
        "pd1"
      ]
    },
    {
      "cell_type": "code",
      "execution_count": null,
      "id": "81f33b22",
      "metadata": {
        "id": "81f33b22"
      },
      "outputs": [],
      "source": [
        "plt.xticks(rotation=90)\n",
        "sns.lineplot(y=pd1['Profit'],x=pd1.index)"
      ]
    },
    {
      "cell_type": "code",
      "execution_count": null,
      "id": "b0c84165",
      "metadata": {
        "id": "b0c84165"
      },
      "outputs": [],
      "source": [
        "yearlyProfit=merged_data.groupby('Year').Profit.sum()\n",
        "yearlyProfit=pd.DataFrame(yearlyProfit)\n",
        "yearlyProfit=yearlyProfit.sort_values(by='Profit',ascending=False)\n",
        "# plt.figure(figsize=(10,10))\n",
        "\n",
        "yearlyProfit.plot.bar(color='cyan',linewidth=1,figsize=(8,8))\n",
        "plt.xticks()\n",
        "plt.ylabel('Profit in $Millions')\n",
        "plt.xlabel(\"Year\")\n",
        "plt.title(\"Proifits per Year\")"
      ]
    },
    {
      "cell_type": "code",
      "execution_count": null,
      "id": "dccac242",
      "metadata": {
        "id": "dccac242"
      },
      "outputs": [],
      "source": [
        "yearlyProfit=merged_data.groupby(['Year','Company'])['Profit'].sum().unstack().fillna(0)\n",
        "yearlyProfit=pd.DataFrame(yearlyProfit)\n",
        "yearlyProfit=yearlyProfit.sort_values(by='Year',ascending=False)\n",
        "# plt.figure(figsize=(10,10))\n",
        "\n",
        "yearlyProfit.plot(kind= 'bar')\n",
        "plt.xticks()\n",
        "plt.ylabel('Profit in $Millions')\n",
        "plt.xlabel(\"Year\")\n",
        "plt.title(\"Proifits per Year\")"
      ]
    },
    {
      "cell_type": "code",
      "execution_count": null,
      "id": "41edf7b7",
      "metadata": {
        "id": "41edf7b7"
      },
      "outputs": [],
      "source": [
        "yearlyProfit=merged_data.groupby(['Year','Company'])['Profit/KM'].mean().unstack().fillna(0)\n",
        "yearlyProfit=pd.DataFrame(yearlyProfit)\n",
        "yearlyProfit=yearlyProfit.sort_values(by='Year',ascending=False)\n",
        "# plt.figure(figsize=(10,10))\n",
        "\n",
        "yearlyProfit.plot(kind= 'bar',stacked=True)\n",
        "plt.xticks()\n",
        "plt.ylabel('Average Profit Per KM')\n",
        "plt.xlabel(\"Year\")\n",
        "plt.title(\"Avg Proifits per KM\")"
      ]
    },
    {
      "cell_type": "code",
      "execution_count": null,
      "id": "402fa315",
      "metadata": {
        "id": "402fa315"
      },
      "outputs": [],
      "source": [
        "yearlyProfit=merged_data.groupby(['Company','Year','Gender'])['Profit'].sum().unstack().fillna(0)\n",
        "yearlyProfit=pd.DataFrame(yearlyProfit)\n",
        "yearlyProfit=yearlyProfit.sort_values(by='Company',ascending=False)\n",
        "\n",
        "\n",
        "yearlyProfit.plot(kind= 'bar',figsize=(20,10))\n",
        "plt.xticks(rotation = 360)\n",
        "plt.ylabel('Profit in $Millions')\n",
        "plt.xlabel(\"Company and Year\")\n",
        "plt.title(\"Proifits per Year per Gender for each company\")"
      ]
    },
    {
      "cell_type": "code",
      "execution_count": null,
      "id": "d253396b",
      "metadata": {
        "id": "d253396b"
      },
      "outputs": [],
      "source": [
        "yearlyProfit=merged_data.groupby(['Company','Year','Gender'])['Gender'].count().unstack().fillna(0)\n",
        "yearlyProfit=pd.DataFrame(yearlyProfit)\n",
        "yearlyProfit=yearlyProfit.sort_values(by='Company',ascending=False)\n",
        "\n",
        "\n",
        "yearlyProfit.plot(kind= 'bar',figsize=(20,10))\n",
        "plt.xticks(rotation = 360)\n",
        "plt.ylabel('Customer distribution')\n",
        "plt.xlabel(\"Company and Year\")\n",
        "plt.title(\"Customer base analysis Year per Gender for each company\")"
      ]
    },
    {
      "cell_type": "code",
      "execution_count": null,
      "id": "1bc10f23",
      "metadata": {
        "id": "1bc10f23"
      },
      "outputs": [],
      "source": [
        "merged_data.groupby(['Company','Payment_Mode'])['Profit'].sum()"
      ]
    },
    {
      "cell_type": "code",
      "execution_count": null,
      "id": "a598a477",
      "metadata": {
        "id": "a598a477"
      },
      "outputs": [],
      "source": [
        "#profit vs card or cash\n",
        "plt.figure(figsize=(10,10))\n",
        "plt.xticks()\n",
        "merged_data.groupby(['Company','Payment_Mode'])[\"Profit\"].sum()\n",
        "sns.barplot(x=merged_data['Payment_Mode'],y=merged_data['Profit'],hue=merged_data['Company'],estimator=sum)"
      ]
    },
    {
      "cell_type": "code",
      "execution_count": null,
      "id": "250758fb",
      "metadata": {
        "id": "250758fb"
      },
      "outputs": [],
      "source": [
        "#profit vs Quarter \n",
        "plt.figure(figsize=(10,10))\n",
        "plt.xticks()\n",
        "merged_data.groupby(['Company','Quarter'])[\"Profit\"].sum()\n",
        "sns.barplot(x=merged_data['Quarter'],y=merged_data['Profit'],hue=merged_data['Company'],estimator=sum)"
      ]
    },
    {
      "cell_type": "code",
      "execution_count": null,
      "id": "396ad4ba",
      "metadata": {
        "id": "396ad4ba"
      },
      "outputs": [],
      "source": [
        "#profit vs Quarter \n",
        "plt.figure(figsize=(10,10))\n",
        "plt.xticks()\n",
        "merged_data.groupby(['Company','Day_week'])[\"Profit\"].sum()\n",
        "sns.barplot(x=merged_data['Day_week'],y=merged_data['Profit'],hue=merged_data['Company'],estimator=sum)"
      ]
    },
    {
      "cell_type": "code",
      "execution_count": null,
      "id": "000dd5c8",
      "metadata": {
        "id": "000dd5c8"
      },
      "outputs": [],
      "source": [
        "#Company vs Income vs Year\n",
        "plt.figure(figsize=(10,10))\n",
        "plt.xticks()\n",
        "sns.barplot(x=merged_data['Company'],y=merged_data['Income_(USD/Month)'],hue=merged_data['Year'],estimator=sum)"
      ]
    },
    {
      "cell_type": "code",
      "execution_count": null,
      "id": "4db9a979",
      "metadata": {
        "id": "4db9a979"
      },
      "outputs": [],
      "source": [
        "import pandas as pd\n",
        "data3 = merged_data[(merged_data['Income_(USD/Month)']>2500) & (merged_data['Income_(USD/Month)']<15000)].groupby(['Year','Company'])['Company'].count()\n",
        "\n",
        "data1 = merged_data[(merged_data['Income_(USD/Month)']<2500)].groupby(['Year','Company'])['Company'].count()\n",
        "data2 = merged_data[(merged_data['Income_(USD/Month)']>15000)].groupby(['Year','Company'])['Company'].count()\n",
        "\n",
        "df=pd.DataFrame({'>15000':data2, '<2500':data1, '2500-15000':data3})\n",
        "ax = df.plot(kind='bar', stacked=True, width = 1)\n",
        "for bar in ax.patches:\n",
        "    height = bar.get_height()\n",
        "    width = bar.get_width()\n",
        "    x = bar.get_x()\n",
        "    y = bar.get_y()\n",
        "    label_text = height\n",
        "    label_x = x + width / 2\n",
        "    label_y = y + height / 2\n",
        "    ax.text(label_x, label_y, label_text, ha='center',    \n",
        "            va='center')\n",
        "    \n",
        "#ax.set_xticklabels(Class,rotation='horizontal')\n",
        "plt.title(\"Income wise customer basis analysis year wise and company wise\")\n",
        "\n",
        "plt.show()"
      ]
    },
    {
      "cell_type": "code",
      "execution_count": null,
      "id": "dac0acc8",
      "metadata": {
        "id": "dac0acc8"
      },
      "outputs": [],
      "source": [
        "import pandas as pd\n",
        "data3 = merged_data[(merged_data['Income_(USD/Month)']>2500) & (merged_data['Income_(USD/Month)']<15000)].groupby(['Company'])['Users'].count()\n",
        "\n",
        "data1 = merged_data[(merged_data['Income_(USD/Month)']<2500)].groupby(['Company'])['Users'].count()\n",
        "data2 = merged_data[(merged_data['Income_(USD/Month)']>15000)].groupby(['Company'])['Users'].count()\n",
        "\n",
        "df=pd.DataFrame({'>15000':data2, '<2500':data1, '2500-15000':data3})\n",
        "ax = df.plot(kind='bar', stacked=True, width = 0.35)\n",
        "'''\n",
        "for bar in ax.patches:\n",
        "    height = bar.get_height()\n",
        "    width = bar.get_width()\n",
        "    x = bar.get_x()\n",
        "    y = bar.get_y()\n",
        "    label_text = height\n",
        "    label_x = x + width / 2\n",
        "    label_y = y + height / 2\n",
        "    ax.text(label_x, label_y, label_text, ha='center',    \n",
        "            va='center')\n",
        "    '''\n",
        "plt.xticks(rotation=360)\n",
        "plt.ylabel(' Users Count')\n",
        "plt.xlabel(\"Company\")\n",
        "plt.title(\"Customers with varied income sources for different companies\")\n",
        "plt.show()"
      ]
    },
    {
      "cell_type": "code",
      "execution_count": null,
      "id": "e1942538",
      "metadata": {
        "id": "e1942538"
      },
      "outputs": [],
      "source": [
        "import pandas as pd\n",
        "data3 = merged_data[(merged_data['Age']>18) & (merged_data['Age']<=25)].groupby(['Year','Company'])['Profit'].sum()\n",
        "\n",
        "data1 = merged_data[(merged_data['Age']>26) & (merged_data['Age']<=40)].groupby(['Year','Company'])['Profit'].sum()\n",
        "data2 = merged_data[(merged_data['Age']>41) & (merged_data['Age']<=60)].groupby(['Year','Company'])['Profit'].sum()\n",
        "data4 = merged_data[(merged_data['Age']>41)].groupby(['Year','Company'])['Profit'].sum()\n",
        "df=pd.DataFrame({'60+':data4,'41-60':data2,'26-40':data1,'18-25':data3 })\n",
        "ax = df.plot(kind='bar', stacked=True, width = 0.55)\n",
        "'''\n",
        "for bar in ax.patches:\n",
        "    height = bar.get_height()\n",
        "    width = bar.get_width()\n",
        "    x = bar.get_x()\n",
        "    y = bar.get_y()\n",
        "    label_text = height\n",
        "    label_x = x + width / 2\n",
        "    label_y = y + height / 2\n",
        "    ax.text(label_x, label_y, label_text, ha='center',    \n",
        "            va='center')\n",
        "    '''\n",
        "#ax.set_xticklabels(Class,rotation='horizontal')\n",
        "plt.title(\"Profit share by age group\")\n",
        "plt.ylabel(' Profit')\n",
        "plt.show()"
      ]
    },
    {
      "cell_type": "code",
      "execution_count": null,
      "id": "ab7b3587",
      "metadata": {
        "id": "ab7b3587"
      },
      "outputs": [],
      "source": [
        "import pandas as pd\n",
        "data3 = merged_data[(merged_data['Age']>18) & (merged_data['Age']<=25)].groupby(['Year','Company'])['Users'].sum()\n",
        "\n",
        "data1 = merged_data[(merged_data['Age']>26) & (merged_data['Age']<=40)].groupby(['Year','Company'])['Users'].sum()\n",
        "data2 = merged_data[(merged_data['Age']>41) & (merged_data['Age']<=60)].groupby(['Year','Company'])['Users'].sum()\n",
        "data4 = merged_data[(merged_data['Age']>41)].groupby(['Year','Company'])['Users'].sum()\n",
        "df=pd.DataFrame({'60+':data4,'41-60':data2,'26-40':data1,'18-25':data3 })\n",
        "ax = df.plot(kind='bar', stacked=True, width = 0.55)\n",
        "'''\n",
        "for bar in ax.patches:\n",
        "    height = bar.get_height()\n",
        "    width = bar.get_width()\n",
        "    x = bar.get_x()\n",
        "    y = bar.get_y()\n",
        "    label_text = height\n",
        "    label_x = x + width / 2\n",
        "    label_y = y + height / 2\n",
        "    ax.text(label_x, label_y, label_text, ha='center',    \n",
        "            va='center')\n",
        "    '''\n",
        "#ax.set_xticklabels(Class,rotation='horizontal')\n",
        "plt.title(\"Customer segmentation by age group\")\n",
        "plt.ylabel(' Customers')\n",
        "plt.show()"
      ]
    },
    {
      "cell_type": "code",
      "execution_count": null,
      "id": "70013546",
      "metadata": {
        "id": "70013546"
      },
      "outputs": [],
      "source": [
        "import pandas as pd\n",
        "data1 = merged_data[(merged_data['Company']==\"Yellow Cab\")].groupby(['City'])['Users'].count()\n",
        "data2 = merged_data[(merged_data['Company']==\"Pink Cab\")].groupby(['City'])['Users'].count()\n",
        "df=pd.DataFrame({'Yellow Cab':data1, 'Pink Cab':data2})\n",
        "ax = df.plot(kind='bar', stacked=True, width = 0.85)\n",
        "'''\n",
        "for bar in ax.patches:\n",
        "    height = bar.get_height()\n",
        "    width = bar.get_width()\n",
        "    x = bar.get_x()\n",
        "    y = bar.get_y()\n",
        "    label_text = height\n",
        "    label_x = x + width / 2\n",
        "    label_y = y + height / 2\n",
        "    ax.text(label_x, label_y, label_text, ha='center',    \n",
        "            va='center')\n",
        "    '''\n",
        "plt.xticks(rotation=90)\n",
        "plt.ylabel(' Users Count')\n",
        "plt.xlabel(\"Cities\")\n",
        "plt.title(\"Users Covered by company\")\n",
        "plt.show()"
      ]
    },
    {
      "cell_type": "code",
      "execution_count": null,
      "id": "5bfafee2",
      "metadata": {
        "id": "5bfafee2"
      },
      "outputs": [],
      "source": [
        "cities = merged_data.groupby(\"City\").Transaction_ID.count()\n",
        "labs = cities.index\n",
        "vals  = cities.values\n",
        "wp = { 'linewidth' : 0.85, 'edgecolor' : \"Blue\" }\n",
        "figp , axs =plt.subplots(figsize=(20,15))\n",
        "wedges, texts, autotexts = axs.pie(vals,labels=labs,autopct=\"%1.1f%%\",startangle=90,wedgeprops = wp,\n",
        "                                  textprops = dict(color =\"Red\"))\n",
        "  \n",
        "plt.setp(autotexts, size = 8, weight =\"bold\")\n",
        "axs.axis('equal')\n",
        "plt.title(\"Transaction Per City\")\n",
        "plt.show()"
      ]
    },
    {
      "cell_type": "code",
      "execution_count": null,
      "id": "2c38e89a",
      "metadata": {
        "id": "2c38e89a"
      },
      "outputs": [],
      "source": [
        "# merged_data[(merged_data['Company']==\"Yellow Cab\")].groupby(['Year','Quarter'])['Profit'].sum()\n",
        "    \n",
        "import pandas as pd\n",
        "data1 = merged_data[(merged_data['Company']==\"Yellow Cab\")].groupby(['Year','Quarter'])['Profit'].sum()\n",
        "data2 = merged_data[(merged_data['Company']==\"Pink Cab\")].groupby(['Year','Quarter'])['Profit'].sum()\n",
        "df=pd.DataFrame({'Yellow Cab':data1, 'Pink Cab':data2})\n",
        "ax = df.plot(kind='bar', stacked=False, width = 0.85)\n",
        "'''\n",
        "for bar in ax.patches:\n",
        "    height = bar.get_height()\n",
        "    width = bar.get_width()\n",
        "    x = bar.get_x()\n",
        "    y = bar.get_y()\n",
        "    label_text = height\n",
        "    label_x = x + width / 2\n",
        "    label_y = y + height / 2\n",
        "    ax.text(label_x, label_y, label_text, ha='center',    \n",
        "            va='center')\n",
        "    '''\n",
        "plt.xticks(rotation=90)\n",
        "plt.ylabel(' Profit')\n",
        "plt.xlabel(\"Year and quarter\")\n",
        "plt.title(\"Seasonablitiy Profit\")\n",
        "plt.show()"
      ]
    },
    {
      "cell_type": "code",
      "execution_count": null,
      "id": "aef01be1",
      "metadata": {
        "id": "aef01be1"
      },
      "outputs": [],
      "source": [
        "\n",
        "import pandas as pd\n",
        "data1 = merged_data[merged_data['Company']==\"Yellow Cab\"].groupby(['Day_week'])[\"Transaction_ID\"].count()\n",
        "data2 = merged_data[merged_data['Company']==\"Pink Cab\"].groupby(['Day_week'])[\"Transaction_ID\"].count()\n",
        "df=pd.DataFrame({'Yellow Cab':data1, 'Pink Cab':data2})\n",
        "ax = df.plot(kind='bar', stacked=True, width = 0.95)\n",
        "\n",
        "for bar in ax.patches:\n",
        "    height = bar.get_height()\n",
        "    width = bar.get_width()\n",
        "    x = bar.get_x()\n",
        "    y = bar.get_y()\n",
        "    label_text = height\n",
        "    label_x = x + width / 2\n",
        "    label_y = y + height / 2\n",
        "    ax.text(label_x, label_y, label_text, ha='center',    \n",
        "            va='center')\n",
        "    \n",
        "plt.xticks()\n",
        "plt.ylabel(' No of Rides')\n",
        "plt.xlabel(\"Daywise\")\n",
        "plt.title(\"Daywise Ride analysis\")\n",
        "plt.show()"
      ]
    },
    {
      "cell_type": "code",
      "execution_count": null,
      "id": "39319696",
      "metadata": {
        "id": "39319696"
      },
      "outputs": [],
      "source": [
        "\n",
        "import pandas as pd\n",
        "data1 = merged_data[merged_data['Company']==\"Pink Cab\"].groupby(['Company'])[\"KM_Travelled\"].value_counts(bins=5)\n",
        "data2 = merged_data[merged_data['Company']==\"Yellow Cab\"].groupby(['Company'])[\"KM_Travelled\"].value_counts(bins=5)\n",
        "df=pd.DataFrame({'Pink Cab':data1, 'Yellow Cab':data2})\n",
        "ax = df.plot(kind='bar', stacked=True, width = 0.95)\n",
        "\n",
        "plt.xticks()\n",
        "plt.ylabel(' No of Customers')\n",
        "plt.xlabel(\"KM travelled(bin)\")\n",
        "plt.title(\"Customers vs KM Travelled\")\n",
        "plt.show()"
      ]
    },
    {
      "cell_type": "code",
      "execution_count": null,
      "id": "ed9ed48d",
      "metadata": {
        "id": "ed9ed48d"
      },
      "outputs": [],
      "source": [
        "import pandas as pd\n",
        "data1 = merged_data[merged_data['Company']==\"Pink Cab\"].groupby(['Company','Day_week'])[\"KM_Travelled\"].count()\n",
        "data2 = merged_data[merged_data['Company']==\"Yellow Cab\"].groupby(['Company','Day_week'])[\"KM_Travelled\"].count()\n",
        "df=pd.DataFrame({'Pink Cab':data1, 'Yellow Cab':data2})\n",
        "ax = df.plot(kind='bar', stacked=False, width = 0.95)\n",
        "\n",
        "plt.xticks()\n",
        "plt.ylabel(' No of Customers')\n",
        "plt.xlabel(\"Cab and Day week \")\n",
        "plt.title(\"Customers vs KM Travelled on all week days\")\n",
        "plt.show()"
      ]
    },
    {
      "cell_type": "code",
      "execution_count": null,
      "id": "1d63a9a3",
      "metadata": {
        "id": "1d63a9a3"
      },
      "outputs": [],
      "source": [
        "merged_data.info()"
      ]
    },
    {
      "cell_type": "code",
      "execution_count": null,
      "id": "3bf3baf4",
      "metadata": {
        "id": "3bf3baf4",
        "outputId": "a1c21765-3d23-4860-9722-13fde7e6eeb9"
      },
      "outputs": [
        {
          "data": {
            "text/plain": [
              "Year  Company   \n",
              "2016  Pink Cab      1.739883e+06\n",
              "      Yellow Cab    1.407389e+07\n",
              "2017  Pink Cab      2.015101e+06\n",
              "      Yellow Cab    1.646427e+07\n",
              "2018  Pink Cab      1.552345e+06\n",
              "      Yellow Cab    1.348222e+07\n",
              "Name: Profit, dtype: float64"
            ]
          },
          "execution_count": 143,
          "metadata": {},
          "output_type": "execute_result"
        }
      ],
      "source": [
        "merged_data.groupby(['Year','Company'])['Profit'].sum()"
      ]
    },
    {
      "cell_type": "code",
      "execution_count": null,
      "id": "c3adfd4b",
      "metadata": {
        "id": "c3adfd4b"
      },
      "outputs": [],
      "source": [
        "yearlyProfit=merged_data.groupby(['City','Company'])['Profit'].mean().unstack().fillna(0)\n",
        "yearlyProfit=pd.DataFrame(yearlyProfit)\n",
        "yearlyProfit=yearlyProfit.sort_values(by='City',ascending=False)\n",
        "# plt.figure(figsize=(10,10))\n",
        "\n",
        "yearlyProfit.plot(kind= 'bar', stacked= True)\n",
        "plt.xticks()\n",
        "plt.ylabel('Profit')\n",
        "plt.xlabel(\"Year\")\n",
        "plt.title(\"City wise profits per company\")"
      ]
    },
    {
      "cell_type": "code",
      "execution_count": null,
      "id": "79d85725",
      "metadata": {
        "id": "79d85725"
      },
      "outputs": [],
      "source": [
        "#profit per company per month\n",
        "merged_data.groupby(['Month','Company'])['Profit'].mean()"
      ]
    },
    {
      "cell_type": "code",
      "execution_count": null,
      "id": "5bb383ae",
      "metadata": {
        "id": "5bb383ae"
      },
      "outputs": [],
      "source": [
        "#day vs rides\n",
        "fig, ax = plt.subplots(figsize=(15,7))\n",
        "merged_data.groupby(['Day','Company'])['Users'].count().unstack().plot(ax=ax)\n",
        "plt.ylabel(\"Rides\")\n",
        "plt.title(\"Day vs No of rides\")"
      ]
    },
    {
      "cell_type": "code",
      "execution_count": null,
      "id": "79b87997",
      "metadata": {
        "id": "79b87997"
      },
      "outputs": [],
      "source": [
        "merged_data.groupby(['Company','Day_week'])['Profit'].sum().sort_values(ascending=False)"
      ]
    },
    {
      "cell_type": "code",
      "execution_count": null,
      "id": "b8e55648",
      "metadata": {
        "id": "b8e55648"
      },
      "outputs": [],
      "source": [
        "city['User/Pop']=(city['Users']/city['Population'])*100\n",
        "city"
      ]
    },
    {
      "cell_type": "code",
      "execution_count": null,
      "id": "6e752264",
      "metadata": {
        "id": "6e752264"
      },
      "outputs": [],
      "source": [
        "plt.figure(figsize=(30,10))\n",
        "plt.xticks()\n",
        "sns.barplot(x=city['City'],y=city['User/Pop'])"
      ]
    },
    {
      "cell_type": "code",
      "execution_count": null,
      "id": "752c1785",
      "metadata": {
        "id": "752c1785",
        "outputId": "6dc59c2f-8b1a-47eb-be8c-d01a373ab5cf"
      },
      "outputs": [
        {
          "name": "stdout",
          "output_type": "stream",
          "text": [
            "We accept null hypothesis that the higher the population the higher the users\n",
            "P value is  0.2664038337675313\n"
          ]
        }
      ],
      "source": [
        "high=merged_data[(merged_data['Income_(USD/Month)']>=25000)].groupby(['Company'])['Year'].sum()\n",
        "low=merged_data[(merged_data['Income_(USD/Month)']<15000)].groupby(['Company'])['Year'].sum()\n",
        "\n",
        "_, p_value = stats.ttest_ind(a=high.values,b=low.values,equal_var=True)\n",
        "if(p_value<0.05):\n",
        "    print('We accept alternate hyothesis that the higher the population the higher the number of users')\n",
        "else:\n",
        "    print('We accept null hypothesis that the higher the population the higher the users')\n",
        "    \n",
        "print('P value is ', p_value)"
      ]
    },
    {
      "cell_type": "code",
      "execution_count": null,
      "id": "7027c03a",
      "metadata": {
        "id": "7027c03a",
        "outputId": "037630d4-fa7f-424f-a919-fbb782820002"
      },
      "outputs": [
        {
          "data": {
            "text/plain": [
              "Company\n",
              "Pink Cab      15738954\n",
              "Yellow Cab    50639770\n",
              "Name: Year, dtype: int64"
            ]
          },
          "execution_count": 154,
          "metadata": {},
          "output_type": "execute_result"
        }
      ],
      "source": [
        "high"
      ]
    },
    {
      "cell_type": "code",
      "execution_count": null,
      "id": "45751692",
      "metadata": {
        "id": "45751692",
        "outputId": "c42cc518-0def-4007-cc4a-4039f0e5d63b"
      },
      "outputs": [
        {
          "data": {
            "text/plain": [
              "Company\n",
              "Pink Cab       87245576\n",
              "Yellow Cab    283624113\n",
              "Name: Year, dtype: int64"
            ]
          },
          "execution_count": 155,
          "metadata": {},
          "output_type": "execute_result"
        }
      ],
      "source": [
        "low"
      ]
    },
    {
      "cell_type": "code",
      "execution_count": null,
      "id": "7b299d0d",
      "metadata": {
        "id": "7b299d0d"
      },
      "outputs": [],
      "source": [
        "high=merged_data[(merged_data['Population']>=1595037)].groupby(['City'])['Users'].sum()\n",
        "low=merged_data[(merged_data['Population']<1595037)].groupby(['City'])['Users'].sum()\n",
        "\n",
        "_, p_value = stats.ttest_ind(a=high.values,b=low.values,equal_var=True)\n",
        "if(p_value<0.05):\n",
        "    print('We accept alternate hyothesis that the higher the population the higher the number of users')\n",
        "else:\n",
        "    print('We accept null hypothesis that the higher the population the higher the users')\n",
        "    \n",
        "print('P value is ', p_value)"
      ]
    },
    {
      "cell_type": "code",
      "execution_count": null,
      "id": "cc1f5252",
      "metadata": {
        "id": "cc1f5252"
      },
      "outputs": [],
      "source": [
        "high"
      ]
    },
    {
      "cell_type": "code",
      "execution_count": null,
      "id": "5f23729c",
      "metadata": {
        "id": "5f23729c"
      },
      "outputs": [],
      "source": [
        "low"
      ]
    },
    {
      "cell_type": "code",
      "execution_count": null,
      "id": "e01646c7",
      "metadata": {
        "id": "e01646c7",
        "outputId": "014aec68-ea82-4cff-a5ee-1af82f30c732"
      },
      "outputs": [
        {
          "name": "stdout",
          "output_type": "stream",
          "text": [
            "We accept null hypothesis that Cards are not used for trips that cost more\n",
            "P value is  0.8919986499028361\n"
          ]
        }
      ],
      "source": [
        "#payments\n",
        "high=merged_data[(merged_data['Payment_Mode']==\"Card\")].groupby(['Transaction_ID'])['Price_Charged'].sum()\n",
        "low=merged_data[(merged_data['Payment_Mode']==\"Cash\")].groupby(['Transaction_ID'])['Price_Charged'].sum()\n",
        "\n",
        "_, p_value = stats.ttest_ind(a=high.values,b=low.values,equal_var=True)\n",
        "if(p_value<0.05):\n",
        "    print('We accept alternate hypothesis that Cards are used for trips that cost more')\n",
        "else:\n",
        "    print('We accept null hypothesis that Cards are not used for trips that cost more')\n",
        "    \n",
        "print('P value is ', p_value)"
      ]
    },
    {
      "cell_type": "code",
      "execution_count": null,
      "id": "a675b775",
      "metadata": {
        "id": "a675b775"
      },
      "outputs": [],
      "source": [
        "high"
      ]
    },
    {
      "cell_type": "code",
      "execution_count": null,
      "id": "bf047ec8",
      "metadata": {
        "id": "bf047ec8"
      },
      "outputs": [],
      "source": [
        "low"
      ]
    },
    {
      "cell_type": "code",
      "execution_count": null,
      "id": "33d64e93",
      "metadata": {
        "id": "33d64e93"
      },
      "outputs": [],
      "source": [
        "high=merged_data[(merged_data['Price_Charged']>386)].groupby(['Price_Charged'])['Profit'].sum()\n",
        "low=merged_data[(merged_data['Price_Charged']<386)].groupby(['Price_Charged'])['Profit'].sum()\n",
        "\n",
        "_, p_value = stats.ttest_ind(a=high.values,b=low.values,equal_var=True)\n",
        "if(p_value<0.05):\n",
        "    print('We accept alternate hypothesis that the higher the cost of trip the higher the profit')\n",
        "else:\n",
        "    print('We accept null hypothesis that the lower the cost of trip the higher the profit')\n",
        "    \n",
        "print('P value is ', p_value)"
      ]
    },
    {
      "cell_type": "code",
      "execution_count": null,
      "id": "c1f7b35c",
      "metadata": {
        "id": "c1f7b35c"
      },
      "outputs": [],
      "source": [
        "high"
      ]
    },
    {
      "cell_type": "code",
      "execution_count": null,
      "id": "6aacef10",
      "metadata": {
        "id": "6aacef10"
      },
      "outputs": [],
      "source": [
        "low"
      ]
    },
    {
      "cell_type": "code",
      "execution_count": null,
      "id": "c3f24085",
      "metadata": {
        "id": "c3f24085",
        "outputId": "961e2835-ae46-48dc-f090-3b997c6ee8e4"
      },
      "outputs": [
        {
          "name": "stdout",
          "output_type": "stream",
          "text": [
            "We accept alternate hypothesis that the longer the distance of the  trip the higher the profit\n",
            "P value is  1.4643646709969495e-124\n"
          ]
        }
      ],
      "source": [
        "high=merged_data[(merged_data['KM_Travelled']>22)].groupby(['KM_Travelled'])['Profit'].sum()\n",
        "low=merged_data[(merged_data['KM_Travelled']<22)].groupby(['KM_Travelled'])['Profit'].sum()\n",
        "\n",
        "_, p_value = stats.ttest_ind(a=high.values,b=low.values,equal_var=True)\n",
        "if(p_value<0.05):\n",
        "    print('We accept alternate hypothesis that the longer the distance of the  trip the higher the profit')\n",
        "else:\n",
        "    print('We accept null hypothesis that the shorter the distance of the trip the higher the profit')\n",
        "    \n",
        "print('P value is ', p_value)"
      ]
    },
    {
      "cell_type": "code",
      "execution_count": null,
      "id": "63cc62ce",
      "metadata": {
        "id": "63cc62ce"
      },
      "outputs": [],
      "source": [
        "high"
      ]
    },
    {
      "cell_type": "code",
      "execution_count": null,
      "id": "9b54117b",
      "metadata": {
        "id": "9b54117b"
      },
      "outputs": [],
      "source": [
        "low"
      ]
    },
    {
      "cell_type": "code",
      "execution_count": null,
      "id": "08f3ee62",
      "metadata": {
        "id": "08f3ee62"
      },
      "outputs": [],
      "source": [
        "#cities dominated by two cab companies\n",
        "\n",
        "high=merged_data[(merged_data['Company']==\"Yellow Cab\")].groupby(['City'])['Profit'].sum()\n",
        "low=merged_data[(merged_data['Company']==\"Pink Cab\")].groupby(['City'])['Profit'].sum()\n",
        "\n",
        "_, p_value = stats.ttest_ind(a=high.values,b=low.values,equal_var=True)\n",
        "if(p_value<0.05):\n",
        "    print('We accept alternate hypothesis that different cities are dominated by different companies')\n",
        "else:\n",
        "    print('We accept null hypothesis that that different cities are not dominated by a different company')\n",
        "    \n",
        "print('P value is ', p_value)"
      ]
    },
    {
      "cell_type": "code",
      "execution_count": null,
      "id": "00ffaa6b",
      "metadata": {
        "id": "00ffaa6b"
      },
      "outputs": [],
      "source": [
        "high"
      ]
    },
    {
      "cell_type": "code",
      "execution_count": null,
      "id": "2980bc58",
      "metadata": {
        "id": "2980bc58"
      },
      "outputs": [],
      "source": [
        "low"
      ]
    },
    {
      "cell_type": "code",
      "execution_count": null,
      "id": "9b7b196c",
      "metadata": {
        "id": "9b7b196c"
      },
      "outputs": [],
      "source": [
        "#profits specific to 2 quarters\n",
        "high=merged_data[(merged_data['Quarter']==3) | (merged_data['Quarter']==4)].groupby(['Quarter'])['Profit'].sum()\n",
        "low=merged_data[(merged_data['Quarter']==2) | (merged_data['Quarter']==1)].groupby(['Quarter'])['Profit'].sum()\n",
        "\n",
        "_, p_value = stats.ttest_ind(a=high.values,b=low.values,equal_var=True)\n",
        "if(p_value>0.05):\n",
        "    print('We accept alternate hypothesis that profits are higher in the last two quarters')\n",
        "else:\n",
        "    print('We accept null hypothesis that the profits are lower in the last two quarters')\n",
        "    \n",
        "print('P value is ', p_value)"
      ]
    },
    {
      "cell_type": "code",
      "execution_count": null,
      "id": "ab0e3b3a",
      "metadata": {
        "id": "ab0e3b3a"
      },
      "outputs": [],
      "source": [
        "high"
      ]
    },
    {
      "cell_type": "code",
      "execution_count": null,
      "id": "11d18f3e",
      "metadata": {
        "id": "11d18f3e"
      },
      "outputs": [],
      "source": [
        "low"
      ]
    },
    {
      "cell_type": "code",
      "execution_count": null,
      "id": "ea186df2",
      "metadata": {
        "id": "ea186df2"
      },
      "outputs": [],
      "source": [
        "high=merged_data[(merged_data['Day_week']==5) | (merged_data['Day_week']==6 )].groupby(['Day_week'])['KM_Travelled'].mean()\n",
        "low=merged_data[(merged_data['Day_week']!=5) | (merged_data['Day_week']!=6)].groupby(['Day_week'])['KM_Travelled'].mean()\n",
        "\n",
        "_, p_value = stats.ttest_ind(a=high.values,b=low.values,equal_var=True)\n",
        "if(p_value<0.05):\n",
        "    print('We accept alternate hyothesis that users on average  travel more on on paricular times of the week')\n",
        "else:\n",
        "    print('We accept null hypothesis that the users on average travel the same regardless of the day of week')\n",
        "    \n",
        "print('P value is ', p_value)"
      ]
    },
    {
      "cell_type": "code",
      "execution_count": null,
      "id": "af1eb65c",
      "metadata": {
        "id": "af1eb65c"
      },
      "outputs": [],
      "source": [
        "high"
      ]
    },
    {
      "cell_type": "code",
      "execution_count": null,
      "id": "a1d6e427",
      "metadata": {
        "id": "a1d6e427"
      },
      "outputs": [],
      "source": [
        "low"
      ]
    },
    {
      "cell_type": "code",
      "execution_count": null,
      "id": "83bdc009",
      "metadata": {
        "id": "83bdc009"
      },
      "outputs": [],
      "source": [
        "high=merged_data[(merged_data['Age']>35) ].groupby(['Age'])['Income_(USD/Month)'].mean()\n",
        "low=merged_data[(merged_data['Age']<35)].groupby(['Age'])['Income_(USD/Month)'].mean()\n",
        "\n",
        "_, p_value = stats.ttest_ind(a=high.values,b=low.values,equal_var=True)\n",
        "if(p_value<0.05):\n",
        "    print('We accept alternate hyothesis that the older you get the more you income you earn')\n",
        "else:\n",
        "    print('We accept null hypothesis that age does not affect income earnings')\n",
        "    \n",
        "print('P value is ', p_value)"
      ]
    },
    {
      "cell_type": "code",
      "execution_count": null,
      "id": "12a97c8f",
      "metadata": {
        "id": "12a97c8f"
      },
      "outputs": [],
      "source": [
        "high"
      ]
    },
    {
      "cell_type": "code",
      "execution_count": null,
      "id": "0e25f481",
      "metadata": {
        "id": "0e25f481"
      },
      "outputs": [],
      "source": [
        "low"
      ]
    },
    {
      "cell_type": "code",
      "execution_count": null,
      "id": "ea543e76",
      "metadata": {
        "id": "ea543e76"
      },
      "outputs": [],
      "source": [
        "high=merged_data[(merged_data['Year']==2018)].Year.value_counts()\n",
        "low=merged_data[(merged_data['Year']==2017)].Year.value_counts()\n",
        "\n",
        "_, p_value = stats.ttest_ind(a=high.values,b=low.values,equal_var=True)\n",
        "if(p_value<0.05):\n",
        "    print('We accept alternate hyothesis that there has been an increase in the demand for cab use in the years')\n",
        "else:\n",
        "    print('We accept null hypothesis that there has not been an increase in demand for cabs in the years')\n",
        "    \n",
        "print('P value is ', p_value)"
      ]
    },
    {
      "cell_type": "code",
      "execution_count": null,
      "id": "203aadf8",
      "metadata": {
        "id": "203aadf8"
      },
      "outputs": [],
      "source": [
        "high"
      ]
    },
    {
      "cell_type": "code",
      "execution_count": null,
      "id": "58c3a38d",
      "metadata": {
        "id": "58c3a38d"
      },
      "outputs": [],
      "source": [
        "low"
      ]
    },
    {
      "cell_type": "code",
      "execution_count": null,
      "id": "0d75d119",
      "metadata": {
        "id": "0d75d119"
      },
      "outputs": [],
      "source": [
        "high=merged_data[(merged_data['Company']==\"Yellow Cab\")].groupby(['Quarter'])['Users'].sum()\n",
        "low=merged_data[(merged_data['Company']==\"Pink Cab\")].groupby(['Quarter'])['Users'].sum()\n",
        "\n",
        "_, p_value = stats.ttest_ind(a=high.values,b=low.values,equal_var=True)\n",
        "if(p_value<0.05):\n",
        "    print('We accept alternate hypothesis that different cities are dominated by different companies')\n",
        "else:\n",
        "    print('We accept null hypothesis that that different cities are not dominated by a different company')\n",
        "    \n",
        "print('P value is ', p_value)"
      ]
    },
    {
      "cell_type": "code",
      "execution_count": null,
      "id": "d5e0aadd",
      "metadata": {
        "id": "d5e0aadd"
      },
      "outputs": [],
      "source": [
        "high"
      ]
    },
    {
      "cell_type": "code",
      "execution_count": null,
      "id": "4fea16dd",
      "metadata": {
        "id": "4fea16dd"
      },
      "outputs": [],
      "source": [
        "low"
      ]
    },
    {
      "cell_type": "code",
      "execution_count": null,
      "id": "d88add19",
      "metadata": {
        "id": "d88add19"
      },
      "outputs": [],
      "source": [
        "Recommendations:\n",
        "    \n",
        "    Number of Customers: Yellow cab has higher customer reach in 20 cities while pink cab has only in 4 cities\n",
        "    Customer Retention: Yellow Cab has the highest customer retention ratio\n",
        "    Age wise Reach: Yellow cab has customers in all age groups and it’s been observed that it’s even popular in the 60+ age group as equally as it’s in the 18-25 age group\n",
        "    Average Profit per KM: Yellow cab’s average profit per KM is almost three times that of the pink cab\n",
        "    Income wise Reach: yellow cab is offering their services to all the three-income class group\n",
        "    Profit/KM Forecasting: Based on 2019 profit, pink cab’s profit has scope to improve while yellow cab’s profit is expected to fall based on average profit and loss rates\n",
        "\n",
        "Note: On analyzing the given dataset, I will suggest  XYZ company to invest in yellow cab.\n",
        "    \n",
        "    "
      ]
    }
  ],
  "metadata": {
    "kernelspec": {
      "display_name": "Python 3 (ipykernel)",
      "language": "python",
      "name": "python3"
    },
    "language_info": {
      "codemirror_mode": {
        "name": "ipython",
        "version": 3
      },
      "file_extension": ".py",
      "mimetype": "text/x-python",
      "name": "python",
      "nbconvert_exporter": "python",
      "pygments_lexer": "ipython3",
      "version": "3.9.7"
    },
    "colab": {
      "name": "  EDA_Notebook.ipynb",
      "provenance": [],
      "collapsed_sections": [],
      "include_colab_link": true
    }
  },
  "nbformat": 4,
  "nbformat_minor": 5
}